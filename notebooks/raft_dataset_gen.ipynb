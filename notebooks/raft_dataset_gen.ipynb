{
 "cells": [
  {
   "cell_type": "code",
   "execution_count": 2,
   "id": "bb395318",
   "metadata": {},
   "outputs": [],
   "source": [
    "from llama_index.packs.raft_dataset import RAFTDatasetPack\n",
    "from llama_index.llms.ollama import Ollama\n",
    "from llama_index.embeddings.ollama import OllamaEmbedding"
   ]
  },
  {
   "cell_type": "code",
   "execution_count": 5,
   "id": "2a32a500",
   "metadata": {},
   "outputs": [],
   "source": [
    "raft_dataset = RAFTDatasetPack(\n",
    "    file_path = \"../data/non_traditional_credentials.pdf\",\n",
    "    llm = Ollama(model=\"qwen2.5\", timeout=120.0),\n",
    "    embed_model=OllamaEmbedding(model_name=\"nomic-embed-text\")\n",
    ")"
   ]
  },
  {
   "cell_type": "code",
   "execution_count": 6,
   "id": "0a110823",
   "metadata": {},
   "outputs": [
    {
     "name": "stderr",
     "output_type": "stream",
     "text": [
      "/home/ubuntu/ideal-palm-tree/.venv/lib/python3.12/site-packages/llama_index/packs/raft_dataset/base.py:118: UserWarning: Fewer questions generated (3) than requested (5).\n",
      "  warnings.warn(\n",
      "/home/ubuntu/ideal-palm-tree/.venv/lib/python3.12/site-packages/llama_index/packs/raft_dataset/base.py:118: UserWarning: Fewer questions generated (1) than requested (5).\n",
      "  warnings.warn(\n"
     ]
    }
   ],
   "source": [
    "dataset = raft_dataset.run()"
   ]
  },
  {
   "cell_type": "code",
   "execution_count": 7,
   "id": "fc037328",
   "metadata": {},
   "outputs": [
    {
     "data": {
      "application/vnd.jupyter.widget-view+json": {
       "model_id": "628f00be62fc466881c21bc56d834bbd",
       "version_major": 2,
       "version_minor": 0
      },
      "text/plain": [
       "Saving the dataset (0/1 shards):   0%|          | 0/329 [00:00<?, ? examples/s]"
      ]
     },
     "metadata": {},
     "output_type": "display_data"
    },
    {
     "data": {
      "application/vnd.jupyter.widget-view+json": {
       "model_id": "eaa375a3e0624a55875ca153776013d7",
       "version_major": 2,
       "version_minor": 0
      },
      "text/plain": [
       "Creating json from Arrow format:   0%|          | 0/1 [00:00<?, ?ba/s]"
      ]
     },
     "metadata": {},
     "output_type": "display_data"
    },
    {
     "data": {
      "text/plain": [
       "2824329"
      ]
     },
     "execution_count": 7,
     "metadata": {},
     "output_type": "execute_result"
    }
   ],
   "source": [
    "output_path = \"raft_train\"\n",
    "# Save as .arrow format\n",
    "dataset.save_to_disk(output_path)\n",
    "\n",
    "# Save as .jsonl format\n",
    "dataset.to_json(output_path + \".jsonl\")"
   ]
  },
  {
   "cell_type": "code",
   "execution_count": 10,
   "id": "54064796",
   "metadata": {},
   "outputs": [
    {
     "data": {
      "text/plain": [
       "Dataset({\n",
       "    features: ['id', 'type', 'question', 'context', 'oracle_context', 'cot_answer', 'instruction'],\n",
       "    num_rows: 329\n",
       "})"
      ]
     },
     "execution_count": 10,
     "metadata": {},
     "output_type": "execute_result"
    }
   ],
   "source": [
    "dataset"
   ]
  },
  {
   "cell_type": "code",
   "execution_count": 16,
   "id": "50f6c4c8",
   "metadata": {},
   "outputs": [
    {
     "data": {
      "text/plain": [
       "{'id': 'seed_task_50',\n",
       " 'type': 'general',\n",
       " 'question': 'In Uganda, what impact did soft skills certificates have?',\n",
       " 'context': {'sentences': [['batch 5, compared to the unrestricted sample.\\nTable 10: Average treatment effect of Credential Feature on Credential Shared by Batch\\nBatch Mean Control Mean Treatment ATE ATE (%)\\nPanel A: LinkedIn Matched Sample\\n1 17.832 20.074 2.242 12.571\\n(0.617) (0.650) (0.896) (5.025)\\n2 14.992 18.255 3.262 21.759\\n(0.569) (0.601) (0.828) (5.521)\\n3 16.398 19.382 2.984 18.196\\n(0.579) (0.627) (0.853) (5.203)\\n4 17.533 21.794 4.261 24.303\\n(0.616) (0.669) (0.909) (5.185)\\n5 16.546 18.123 1.577 9.528\\n(0.706) (0.732) (1.017) (6.147)\\nPanel B: Sample of learners that logged in after randomization\\n1 18.007 20.203 2.195 12.191\\n(0.623) (0.655) (0.904) (5.022)\\n2 15.259 18.679 3.420 22.410\\n(0.579) (0.614) (0.844) (5.531)\\n3 16.853 19.917 3.064 18.183\\n(0.596) (0.644) (0.877) (5.206)\\n4 17.749 22.292 4.543 25.594\\n(0.628) (0.686) (0.930) (5.241)\\n5 16.829 18.581 1.752 10.411\\n(0.724) (0.754) (1.045) (6.211)\\nNote: Estimates of the average treatment effect obtained using a difference-in-means estimator. Standard errors in parentheses.\\n',\n",
       "    '(2020) evaluated the effects\\nof a job application workshop that provides certificates in various skills, leading to improvements\\nin employment and a significant increase in earnings. Carranza et al. (2020) found that certificates\\nimproved job search outcomes and increased callbacks from firms. Athey and Palikot (2022) reported\\nhigh impacts of a program focused on developing portfolios that helped women signal technical skills\\nin their search for technology jobs. Bassi and Nansamba (2022) showed that soft skills certificates in\\nUganda increased employability and earnings. Piopiunik et al. ',\n",
       "    'ature is the focus on the value of signals across various levels of employability and skills, particularly\\nin the context of MOOCs.\\n3 Empirical setting and randomized experiment\\nCoursera, one of the largest online platforms hosting MOOCs, is characterized by its extensive course\\nofferings and partnerships with global universities and organizations (Coursera, Inc., 2023). In 2022, it\\nhad over 100 million users, adding more than 21 million new learners during the year (ThinkImpact,\\n2021; Learnopoly, 2022; Coursera, 2022). Most courses can be audited for free. Obtaining a certificate\\ntypically involves a fee, which varies depending on the course and the institution, and ranges from\\n$29 to $99 for individual courses. Specializations and professional certificates, which consist of a series\\nof related courses, usually cost between $39 and $79 per month, with the total expense depending on\\nthe time taken to complete the series.1 The affordability and flexibility of Coursera’s offerings are cen-\\ntral to its appeal, particularly for learners from economically disadvantaged regions or marginalized\\ngroups (Kizilcec et al., 2017; Chirikov et al., 2020).\\nMany courses offered by Coursera allow learners to obtain completion certificates. In addition to\\npaying for them, obtaining certificates typically requires completing coursework and passing assess-\\nments. These certificates are often valued for their focus on practical skills relevant to career advance-\\nment, and observational data studies and recruited experiments suggest that, indeed, credentials ob-\\ntained through such courses can positively impact career progression (Hadavand et al., 2018; Rivas\\net al., 2020; Castaño-Muñoz and Rodrigues, 2021). Many Coursera courses are thus career-oriented,\\nand some of the most popular domains include Information Technology, Computer Science, Data Science,\\nand Business.\\n3.1 Randomized experiment\\nIn the experiment, the treatment group was randomized to receive access to the Credential Feature, a\\nnew feature composed of notifications that encouraged the sharing of credentials on LinkedIn and\\nprovided a simplified process to do so. The first notification was sent on the learner’s first visit to the\\nCoursera app after the credential was granted, with the message: “ Do you want to boost your career?\\nOnly [XYZ]% of learners manage to complete [course name] on Coursera and get a certificate. Let everyone\\nknow you did it! Add the certificate to your LinkedIn profile in just two clicks .”2 If the learner did not\\n1Coursera also offers online degrees with significantly higher costs, but individuals graduating with online degrees are\\nnot part of this study.\\n2This message included the corresponding course name and the percentage of learners completing it.\\n']],\n",
       "  'title': [['placeholder_title', 'placeholder_title', 'placeholder_title']]},\n",
       " 'oracle_context': '(2020) evaluated the effects\\nof a job application workshop that provides certificates in various skills, leading to improvements\\nin employment and a significant increase in earnings. Carranza et al. (2020) found that certificates\\nimproved job search outcomes and increased callbacks from firms. Athey and Palikot (2022) reported\\nhigh impacts of a program focused on developing portfolios that helped women signal technical skills\\nin their search for technology jobs. Bassi and Nansamba (2022) showed that soft skills certificates in\\nUganda increased employability and earnings. Piopiunik et al. ',\n",
       " 'cot_answer': 'assistant: Step-by-step reasoning:\\n1. Identify the focus: The question is about the impact of soft skills certificates in Uganda.\\n2. Examine relevant information: The given context mentions a study by Bassi and Nansamba (2022) that specifically looked at the effects of such programs in Uganda.\\n3. Analyze the findings: According to the context, \"Bassi and Nansamba (2022) showed that soft skills certificates in Uganda increased employability and earnings.\"\\n\\n##begin_quote##\\nBassi and Nansamba (2022) showed that soft skills certificates in Uganda increased employability and earnings.\\n##end_quote##\\n\\nFinal answer: <ANSWER>: Soft skills certificates in Uganda increased both employability and earnings.',\n",
       " 'instruction': '<DOCUMENT>batch 5, compared to the unrestricted sample.\\nTable 10: Average treatment effect of Credential Feature on Credential Shared by Batch\\nBatch Mean Control Mean Treatment ATE ATE (%)\\nPanel A: LinkedIn Matched Sample\\n1 17.832 20.074 2.242 12.571\\n(0.617) (0.650) (0.896) (5.025)\\n2 14.992 18.255 3.262 21.759\\n(0.569) (0.601) (0.828) (5.521)\\n3 16.398 19.382 2.984 18.196\\n(0.579) (0.627) (0.853) (5.203)\\n4 17.533 21.794 4.261 24.303\\n(0.616) (0.669) (0.909) (5.185)\\n5 16.546 18.123 1.577 9.528\\n(0.706) (0.732) (1.017) (6.147)\\nPanel B: Sample of learners that logged in after randomization\\n1 18.007 20.203 2.195 12.191\\n(0.623) (0.655) (0.904) (5.022)\\n2 15.259 18.679 3.420 22.410\\n(0.579) (0.614) (0.844) (5.531)\\n3 16.853 19.917 3.064 18.183\\n(0.596) (0.644) (0.877) (5.206)\\n4 17.749 22.292 4.543 25.594\\n(0.628) (0.686) (0.930) (5.241)\\n5 16.829 18.581 1.752 10.411\\n(0.724) (0.754) (1.045) (6.211)\\nNote: Estimates of the average treatment effect obtained using a difference-in-means estimator. Standard errors in parentheses.\\n</DOCUMENT>\\n<DOCUMENT>(2020) evaluated the effects\\nof a job application workshop that provides certificates in various skills, leading to improvements\\nin employment and a significant increase in earnings. Carranza et al. (2020) found that certificates\\nimproved job search outcomes and increased callbacks from firms. Athey and Palikot (2022) reported\\nhigh impacts of a program focused on developing portfolios that helped women signal technical skills\\nin their search for technology jobs. Bassi and Nansamba (2022) showed that soft skills certificates in\\nUganda increased employability and earnings. Piopiunik et al. </DOCUMENT>\\n<DOCUMENT>ature is the focus on the value of signals across various levels of employability and skills, particularly\\nin the context of MOOCs.\\n3 Empirical setting and randomized experiment\\nCoursera, one of the largest online platforms hosting MOOCs, is characterized by its extensive course\\nofferings and partnerships with global universities and organizations (Coursera, Inc., 2023). In 2022, it\\nhad over 100 million users, adding more than 21 million new learners during the year (ThinkImpact,\\n2021; Learnopoly, 2022; Coursera, 2022). Most courses can be audited for free. Obtaining a certificate\\ntypically involves a fee, which varies depending on the course and the institution, and ranges from\\n$29 to $99 for individual courses. Specializations and professional certificates, which consist of a series\\nof related courses, usually cost between $39 and $79 per month, with the total expense depending on\\nthe time taken to complete the series.1 The affordability and flexibility of Coursera’s offerings are cen-\\ntral to its appeal, particularly for learners from economically disadvantaged regions or marginalized\\ngroups (Kizilcec et al., 2017; Chirikov et al., 2020).\\nMany courses offered by Coursera allow learners to obtain completion certificates. In addition to\\npaying for them, obtaining certificates typically requires completing coursework and passing assess-\\nments. These certificates are often valued for their focus on practical skills relevant to career advance-\\nment, and observational data studies and recruited experiments suggest that, indeed, credentials ob-\\ntained through such courses can positively impact career progression (Hadavand et al., 2018; Rivas\\net al., 2020; Castaño-Muñoz and Rodrigues, 2021). Many Coursera courses are thus career-oriented,\\nand some of the most popular domains include Information Technology, Computer Science, Data Science,\\nand Business.\\n3.1 Randomized experiment\\nIn the experiment, the treatment group was randomized to receive access to the Credential Feature, a\\nnew feature composed of notifications that encouraged the sharing of credentials on LinkedIn and\\nprovided a simplified process to do so. The first notification was sent on the learner’s first visit to the\\nCoursera app after the credential was granted, with the message: “ Do you want to boost your career?\\nOnly [XYZ]% of learners manage to complete [course name] on Coursera and get a certificate. Let everyone\\nknow you did it! Add the certificate to your LinkedIn profile in just two clicks .”2 If the learner did not\\n1Coursera also offers online degrees with significantly higher costs, but individuals graduating with online degrees are\\nnot part of this study.\\n2This message included the corresponding course name and the percentage of learners completing it.\\n</DOCUMENT>\\nIn Uganda, what impact did soft skills certificates have?'}"
      ]
     },
     "execution_count": 16,
     "metadata": {},
     "output_type": "execute_result"
    }
   ],
   "source": [
    "dataset[50]"
   ]
  },
  {
   "cell_type": "code",
   "execution_count": null,
   "id": "204cd64d",
   "metadata": {},
   "outputs": [],
   "source": []
  }
 ],
 "metadata": {
  "kernelspec": {
   "display_name": ".venv",
   "language": "python",
   "name": "python3"
  },
  "language_info": {
   "codemirror_mode": {
    "name": "ipython",
    "version": 3
   },
   "file_extension": ".py",
   "mimetype": "text/x-python",
   "name": "python",
   "nbconvert_exporter": "python",
   "pygments_lexer": "ipython3",
   "version": "3.12.8"
  }
 },
 "nbformat": 4,
 "nbformat_minor": 5
}
