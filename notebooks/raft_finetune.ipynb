{
  "cells": [
    {
      "cell_type": "code",
      "execution_count": null,
      "metadata": {
        "collapsed": true,
        "id": "PagQcCy7Gvh3"
      },
      "outputs": [],
      "source": [
        "# !pip install -qU transformers trl datasets bitsandbytes"
      ]
    },
    {
      "cell_type": "code",
      "execution_count": null,
      "metadata": {
        "colab": {
          "base_uri": "https://localhost:8080/",
          "height": 1000
        },
        "id": "qPbn0BxsHEvp",
        "outputId": "36068a75-e165-4895-f5d3-3ab7815bf88c"
      },
      "outputs": [],
      "source": [
        "# from google.colab import files\n",
        "# files.upload()"
      ]
    },
    {
      "cell_type": "markdown",
      "metadata": {},
      "source": [
        "Let's setup our notebook!"
      ]
    },
    {
      "cell_type": "code",
      "execution_count": null,
      "metadata": {
        "id": "vK11ArfHHfDl"
      },
      "outputs": [],
      "source": [
        "from datasets import load_dataset\n",
        "from transformers import (\n",
        "    AutoModelForCausalLM, \n",
        "    AutoTokenizer,\n",
        "    BitsAndBytesConfig,\n",
        "    TrainingArguments\n",
        ")\n",
        "from trl import SFTTrainer\n",
        "from peft import LoraConfig"
      ]
    },
    {
      "cell_type": "markdown",
      "metadata": {},
      "source": [
        "## Load the datasets\n",
        "Really we only need the instruction and \"chain-of-thought\" answer to do RAFT. Let's take a look at the columns\n",
        "> Along with doing our favorite train-test split!"
      ]
    },
    {
      "cell_type": "code",
      "execution_count": 4,
      "metadata": {
        "id": "OUjlR-vCH2h1"
      },
      "outputs": [],
      "source": [
        "raw_ds = load_dataset(\n",
        "    \"json\",\n",
        "    data_files=\"raft_train.jsonl\",\n",
        "    split=\"train\"\n",
        ")\n",
        "\n",
        "# We only need the two columns:\n",
        "#  - 'instruction': \"<DOCUMENT>…</DOCUMENT>…QUESTION…\"\n",
        "#  - 'cot_answer':   the gold answer text\n",
        "ds = raw_ds.remove_columns([\n",
        "    c for c in raw_ds.column_names\n",
        "    if c not in [\"instruction\", \"cot_answer\"]\n",
        "])\n",
        "\n",
        "# Optionally: split into train/test\n",
        "splits = ds.train_test_split(test_size=0.1)\n",
        "train_ds = splits[\"train\"]\n",
        "eval_ds  = splits[\"test\"]"
      ]
    },
    {
      "cell_type": "markdown",
      "metadata": {},
      "source": [
        "The instructions and the chain-of-thought answer columns will be what the LLM relies on to answer the questions - it teaches the LLM how to use the retrieved contexts."
      ]
    },
    {
      "cell_type": "code",
      "execution_count": 11,
      "metadata": {
        "colab": {
          "base_uri": "https://localhost:8080/",
          "height": 293
        },
        "id": "OfDKa1n5VNtB",
        "outputId": "76eccec2-c01c-47ce-fe18-9140dc22b549"
      },
      "outputs": [
        {
          "data": {
            "application/vnd.google.colaboratory.intrinsic+json": {
              "summary": "{\n  \"name\": \"df\",\n  \"rows\": 329,\n  \"fields\": [\n    {\n      \"column\": \"id\",\n      \"properties\": {\n        \"dtype\": \"string\",\n        \"num_unique_values\": 329,\n        \"samples\": [\n          \"seed_task_9\",\n          \"seed_task_164\",\n          \"seed_task_139\"\n        ],\n        \"semantic_type\": \"\",\n        \"description\": \"\"\n      }\n    },\n    {\n      \"column\": \"type\",\n      \"properties\": {\n        \"dtype\": \"category\",\n        \"num_unique_values\": 1,\n        \"samples\": [\n          \"general\"\n        ],\n        \"semantic_type\": \"\",\n        \"description\": \"\"\n      }\n    },\n    {\n      \"column\": \"question\",\n      \"properties\": {\n        \"dtype\": \"string\",\n        \"num_unique_values\": 326,\n        \"samples\": [\n          \"What type of study was conducted on human resource professionals' thoughts about MOOCs?\"\n        ],\n        \"semantic_type\": \"\",\n        \"description\": \"\"\n      }\n    },\n    {\n      \"column\": \"context\",\n      \"properties\": {\n        \"dtype\": \"object\",\n        \"semantic_type\": \"\",\n        \"description\": \"\"\n      }\n    },\n    {\n      \"column\": \"oracle_context\",\n      \"properties\": {\n        \"dtype\": \"category\",\n        \"num_unique_values\": 71,\n        \"samples\": [\n          \"Table 1: Summary statistics pretreatment and outcome variables\\nCoursera Internal Data LinkedIn Matched Sample\\nVariable name Mean S.E. \"\n        ],\n        \"semantic_type\": \"\",\n        \"description\": \"\"\n      }\n    },\n    {\n      \"column\": \"cot_answer\",\n      \"properties\": {\n        \"dtype\": \"string\",\n        \"num_unique_values\": 329,\n        \"samples\": [\n          \"assistant: To determine when the document versioned, we need to focus on identifying the date associated with a version number or release of the document. In this case:\\n\\n##begin_quote##\\n1\\narXiv:2405.00247v1  [econ.GN]  30 Apr 2024\\n##end_quote##\\n\\nThe notation `2405.00247v1` indicates the version of the document, and `30 Apr 2024` is clearly the date when this specific version was released or \\\"versioned.\\\"\\n\\nTherefore, the answer to when the document versioned is:\\n\\nANSWER: April 30, 2024\"\n        ],\n        \"semantic_type\": \"\",\n        \"description\": \"\"\n      }\n    },\n    {\n      \"column\": \"instruction\",\n      \"properties\": {\n        \"dtype\": \"string\",\n        \"num_unique_values\": 329,\n        \"samples\": [\n          \"<DOCUMENT>We thank Keshav Agrawal and Elena\\nPittarokoili for excellent research assistance. The Golub Capital Social Impact Lab at Stanford Graduate School of Business\\nprovided funding for this research. This research has been subject to review and approval by Research Compliance Office\\nat Stanford University, protocol number IRB-59983 and registered at AEA RCT registry AEARCTR-0009438 .\\n1\\narXiv:2405.00247v1  [econ.GN]  30 Apr 2024</DOCUMENT>\\n<DOCUMENT>0.1 p.p.) to 0.3 p.p. (SE 0.1 p.p.) corresponding to a 4% to 2% increase from\\nthe baseline levels.\\n17</DOCUMENT>\\n<DOCUMENT>6</DOCUMENT>\\nWhen was the document versioned?\"\n        ],\n        \"semantic_type\": \"\",\n        \"description\": \"\"\n      }\n    }\n  ]\n}",
              "type": "dataframe",
              "variable_name": "df"
            },
            "text/html": [
              "\n",
              "  <div id=\"df-49d6a4bf-3216-40c8-8189-4862b788a498\" class=\"colab-df-container\">\n",
              "    <div>\n",
              "<style scoped>\n",
              "    .dataframe tbody tr th:only-of-type {\n",
              "        vertical-align: middle;\n",
              "    }\n",
              "\n",
              "    .dataframe tbody tr th {\n",
              "        vertical-align: top;\n",
              "    }\n",
              "\n",
              "    .dataframe thead th {\n",
              "        text-align: right;\n",
              "    }\n",
              "</style>\n",
              "<table border=\"1\" class=\"dataframe\">\n",
              "  <thead>\n",
              "    <tr style=\"text-align: right;\">\n",
              "      <th></th>\n",
              "      <th>id</th>\n",
              "      <th>type</th>\n",
              "      <th>question</th>\n",
              "      <th>context</th>\n",
              "      <th>oracle_context</th>\n",
              "      <th>cot_answer</th>\n",
              "      <th>instruction</th>\n",
              "    </tr>\n",
              "  </thead>\n",
              "  <tbody>\n",
              "    <tr>\n",
              "      <th>0</th>\n",
              "      <td>seed_task_0</td>\n",
              "      <td>general</td>\n",
              "      <td>How many learners participated in the study?</td>\n",
              "      <td>{'sentences': [['Table 4: Local Average Treatm...</td>\n",
              "      <td>The value of non-traditional credentials in th...</td>\n",
              "      <td>assistant: To determine how many learners part...</td>\n",
              "      <td>&lt;DOCUMENT&gt;Table 4: Local Average Treatment Eff...</td>\n",
              "    </tr>\n",
              "    <tr>\n",
              "      <th>1</th>\n",
              "      <td>seed_task_1</td>\n",
              "      <td>general</td>\n",
              "      <td>What platforms were used to deliver the courses?</td>\n",
              "      <td>{'sentences': [['The value of non-traditional ...</td>\n",
              "      <td>The value of non-traditional credentials in th...</td>\n",
              "      <td>assistant: Step 1: Identify relevant informati...</td>\n",
              "      <td>&lt;DOCUMENT&gt;The value of non-traditional credent...</td>\n",
              "    </tr>\n",
              "    <tr>\n",
              "      <th>2</th>\n",
              "      <td>seed_task_2</td>\n",
              "      <td>general</td>\n",
              "      <td>What was the main finding regarding credential...</td>\n",
              "      <td>{'sentences': [['The value of non-traditional ...</td>\n",
              "      <td>The value of non-traditional credentials in th...</td>\n",
              "      <td>assistant: ### Step-by-Step Reasoning:\\n1. **I...</td>\n",
              "      <td>&lt;DOCUMENT&gt;The value of non-traditional credent...</td>\n",
              "    </tr>\n",
              "    <tr>\n",
              "      <th>3</th>\n",
              "      <td>seed_task_3</td>\n",
              "      <td>general</td>\n",
              "      <td>Did the intervention have a significant impact...</td>\n",
              "      <td>{'sentences': [['The value of non-traditional ...</td>\n",
              "      <td>The value of non-traditional credentials in th...</td>\n",
              "      <td>assistant: Step-by-step reasoning:\\n\\n1. The q...</td>\n",
              "      <td>&lt;DOCUMENT&gt;The value of non-traditional credent...</td>\n",
              "    </tr>\n",
              "    <tr>\n",
              "      <th>4</th>\n",
              "      <td>seed_task_4</td>\n",
              "      <td>general</td>\n",
              "      <td>How did the effect vary among different groups...</td>\n",
              "      <td>{'sentences': [['13 p.p.) and 36 p.p. (S.E. 12...</td>\n",
              "      <td>The value of non-traditional credentials in th...</td>\n",
              "      <td>assistant: Step-by-step reasoning:\\n\\n1. The s...</td>\n",
              "      <td>&lt;DOCUMENT&gt;13 p.p.) and 36 p.p. (S.E. 12 p.p.) ...</td>\n",
              "    </tr>\n",
              "  </tbody>\n",
              "</table>\n",
              "</div>\n",
              "    <div class=\"colab-df-buttons\">\n",
              "\n",
              "  <div class=\"colab-df-container\">\n",
              "    <button class=\"colab-df-convert\" onclick=\"convertToInteractive('df-49d6a4bf-3216-40c8-8189-4862b788a498')\"\n",
              "            title=\"Convert this dataframe to an interactive table.\"\n",
              "            style=\"display:none;\">\n",
              "\n",
              "  <svg xmlns=\"http://www.w3.org/2000/svg\" height=\"24px\" viewBox=\"0 -960 960 960\">\n",
              "    <path d=\"M120-120v-720h720v720H120Zm60-500h600v-160H180v160Zm220 220h160v-160H400v160Zm0 220h160v-160H400v160ZM180-400h160v-160H180v160Zm440 0h160v-160H620v160ZM180-180h160v-160H180v160Zm440 0h160v-160H620v160Z\"/>\n",
              "  </svg>\n",
              "    </button>\n",
              "\n",
              "  <style>\n",
              "    .colab-df-container {\n",
              "      display:flex;\n",
              "      gap: 12px;\n",
              "    }\n",
              "\n",
              "    .colab-df-convert {\n",
              "      background-color: #E8F0FE;\n",
              "      border: none;\n",
              "      border-radius: 50%;\n",
              "      cursor: pointer;\n",
              "      display: none;\n",
              "      fill: #1967D2;\n",
              "      height: 32px;\n",
              "      padding: 0 0 0 0;\n",
              "      width: 32px;\n",
              "    }\n",
              "\n",
              "    .colab-df-convert:hover {\n",
              "      background-color: #E2EBFA;\n",
              "      box-shadow: 0px 1px 2px rgba(60, 64, 67, 0.3), 0px 1px 3px 1px rgba(60, 64, 67, 0.15);\n",
              "      fill: #174EA6;\n",
              "    }\n",
              "\n",
              "    .colab-df-buttons div {\n",
              "      margin-bottom: 4px;\n",
              "    }\n",
              "\n",
              "    [theme=dark] .colab-df-convert {\n",
              "      background-color: #3B4455;\n",
              "      fill: #D2E3FC;\n",
              "    }\n",
              "\n",
              "    [theme=dark] .colab-df-convert:hover {\n",
              "      background-color: #434B5C;\n",
              "      box-shadow: 0px 1px 3px 1px rgba(0, 0, 0, 0.15);\n",
              "      filter: drop-shadow(0px 1px 2px rgba(0, 0, 0, 0.3));\n",
              "      fill: #FFFFFF;\n",
              "    }\n",
              "  </style>\n",
              "\n",
              "    <script>\n",
              "      const buttonEl =\n",
              "        document.querySelector('#df-49d6a4bf-3216-40c8-8189-4862b788a498 button.colab-df-convert');\n",
              "      buttonEl.style.display =\n",
              "        google.colab.kernel.accessAllowed ? 'block' : 'none';\n",
              "\n",
              "      async function convertToInteractive(key) {\n",
              "        const element = document.querySelector('#df-49d6a4bf-3216-40c8-8189-4862b788a498');\n",
              "        const dataTable =\n",
              "          await google.colab.kernel.invokeFunction('convertToInteractive',\n",
              "                                                    [key], {});\n",
              "        if (!dataTable) return;\n",
              "\n",
              "        const docLinkHtml = 'Like what you see? Visit the ' +\n",
              "          '<a target=\"_blank\" href=https://colab.research.google.com/notebooks/data_table.ipynb>data table notebook</a>'\n",
              "          + ' to learn more about interactive tables.';\n",
              "        element.innerHTML = '';\n",
              "        dataTable['output_type'] = 'display_data';\n",
              "        await google.colab.output.renderOutput(dataTable, element);\n",
              "        const docLink = document.createElement('div');\n",
              "        docLink.innerHTML = docLinkHtml;\n",
              "        element.appendChild(docLink);\n",
              "      }\n",
              "    </script>\n",
              "  </div>\n",
              "\n",
              "\n",
              "    <div id=\"df-4650f6ac-fb5f-4c4e-a349-56d7ede0a60f\">\n",
              "      <button class=\"colab-df-quickchart\" onclick=\"quickchart('df-4650f6ac-fb5f-4c4e-a349-56d7ede0a60f')\"\n",
              "                title=\"Suggest charts\"\n",
              "                style=\"display:none;\">\n",
              "\n",
              "<svg xmlns=\"http://www.w3.org/2000/svg\" height=\"24px\"viewBox=\"0 0 24 24\"\n",
              "     width=\"24px\">\n",
              "    <g>\n",
              "        <path d=\"M19 3H5c-1.1 0-2 .9-2 2v14c0 1.1.9 2 2 2h14c1.1 0 2-.9 2-2V5c0-1.1-.9-2-2-2zM9 17H7v-7h2v7zm4 0h-2V7h2v10zm4 0h-2v-4h2v4z\"/>\n",
              "    </g>\n",
              "</svg>\n",
              "      </button>\n",
              "\n",
              "<style>\n",
              "  .colab-df-quickchart {\n",
              "      --bg-color: #E8F0FE;\n",
              "      --fill-color: #1967D2;\n",
              "      --hover-bg-color: #E2EBFA;\n",
              "      --hover-fill-color: #174EA6;\n",
              "      --disabled-fill-color: #AAA;\n",
              "      --disabled-bg-color: #DDD;\n",
              "  }\n",
              "\n",
              "  [theme=dark] .colab-df-quickchart {\n",
              "      --bg-color: #3B4455;\n",
              "      --fill-color: #D2E3FC;\n",
              "      --hover-bg-color: #434B5C;\n",
              "      --hover-fill-color: #FFFFFF;\n",
              "      --disabled-bg-color: #3B4455;\n",
              "      --disabled-fill-color: #666;\n",
              "  }\n",
              "\n",
              "  .colab-df-quickchart {\n",
              "    background-color: var(--bg-color);\n",
              "    border: none;\n",
              "    border-radius: 50%;\n",
              "    cursor: pointer;\n",
              "    display: none;\n",
              "    fill: var(--fill-color);\n",
              "    height: 32px;\n",
              "    padding: 0;\n",
              "    width: 32px;\n",
              "  }\n",
              "\n",
              "  .colab-df-quickchart:hover {\n",
              "    background-color: var(--hover-bg-color);\n",
              "    box-shadow: 0 1px 2px rgba(60, 64, 67, 0.3), 0 1px 3px 1px rgba(60, 64, 67, 0.15);\n",
              "    fill: var(--button-hover-fill-color);\n",
              "  }\n",
              "\n",
              "  .colab-df-quickchart-complete:disabled,\n",
              "  .colab-df-quickchart-complete:disabled:hover {\n",
              "    background-color: var(--disabled-bg-color);\n",
              "    fill: var(--disabled-fill-color);\n",
              "    box-shadow: none;\n",
              "  }\n",
              "\n",
              "  .colab-df-spinner {\n",
              "    border: 2px solid var(--fill-color);\n",
              "    border-color: transparent;\n",
              "    border-bottom-color: var(--fill-color);\n",
              "    animation:\n",
              "      spin 1s steps(1) infinite;\n",
              "  }\n",
              "\n",
              "  @keyframes spin {\n",
              "    0% {\n",
              "      border-color: transparent;\n",
              "      border-bottom-color: var(--fill-color);\n",
              "      border-left-color: var(--fill-color);\n",
              "    }\n",
              "    20% {\n",
              "      border-color: transparent;\n",
              "      border-left-color: var(--fill-color);\n",
              "      border-top-color: var(--fill-color);\n",
              "    }\n",
              "    30% {\n",
              "      border-color: transparent;\n",
              "      border-left-color: var(--fill-color);\n",
              "      border-top-color: var(--fill-color);\n",
              "      border-right-color: var(--fill-color);\n",
              "    }\n",
              "    40% {\n",
              "      border-color: transparent;\n",
              "      border-right-color: var(--fill-color);\n",
              "      border-top-color: var(--fill-color);\n",
              "    }\n",
              "    60% {\n",
              "      border-color: transparent;\n",
              "      border-right-color: var(--fill-color);\n",
              "    }\n",
              "    80% {\n",
              "      border-color: transparent;\n",
              "      border-right-color: var(--fill-color);\n",
              "      border-bottom-color: var(--fill-color);\n",
              "    }\n",
              "    90% {\n",
              "      border-color: transparent;\n",
              "      border-bottom-color: var(--fill-color);\n",
              "    }\n",
              "  }\n",
              "</style>\n",
              "\n",
              "      <script>\n",
              "        async function quickchart(key) {\n",
              "          const quickchartButtonEl =\n",
              "            document.querySelector('#' + key + ' button');\n",
              "          quickchartButtonEl.disabled = true;  // To prevent multiple clicks.\n",
              "          quickchartButtonEl.classList.add('colab-df-spinner');\n",
              "          try {\n",
              "            const charts = await google.colab.kernel.invokeFunction(\n",
              "                'suggestCharts', [key], {});\n",
              "          } catch (error) {\n",
              "            console.error('Error during call to suggestCharts:', error);\n",
              "          }\n",
              "          quickchartButtonEl.classList.remove('colab-df-spinner');\n",
              "          quickchartButtonEl.classList.add('colab-df-quickchart-complete');\n",
              "        }\n",
              "        (() => {\n",
              "          let quickchartButtonEl =\n",
              "            document.querySelector('#df-4650f6ac-fb5f-4c4e-a349-56d7ede0a60f button');\n",
              "          quickchartButtonEl.style.display =\n",
              "            google.colab.kernel.accessAllowed ? 'block' : 'none';\n",
              "        })();\n",
              "      </script>\n",
              "    </div>\n",
              "\n",
              "    </div>\n",
              "  </div>\n"
            ],
            "text/plain": [
              "            id     type                                           question  \\\n",
              "0  seed_task_0  general       How many learners participated in the study?   \n",
              "1  seed_task_1  general   What platforms were used to deliver the courses?   \n",
              "2  seed_task_2  general  What was the main finding regarding credential...   \n",
              "3  seed_task_3  general  Did the intervention have a significant impact...   \n",
              "4  seed_task_4  general  How did the effect vary among different groups...   \n",
              "\n",
              "                                             context  \\\n",
              "0  {'sentences': [['Table 4: Local Average Treatm...   \n",
              "1  {'sentences': [['The value of non-traditional ...   \n",
              "2  {'sentences': [['The value of non-traditional ...   \n",
              "3  {'sentences': [['The value of non-traditional ...   \n",
              "4  {'sentences': [['13 p.p.) and 36 p.p. (S.E. 12...   \n",
              "\n",
              "                                      oracle_context  \\\n",
              "0  The value of non-traditional credentials in th...   \n",
              "1  The value of non-traditional credentials in th...   \n",
              "2  The value of non-traditional credentials in th...   \n",
              "3  The value of non-traditional credentials in th...   \n",
              "4  The value of non-traditional credentials in th...   \n",
              "\n",
              "                                          cot_answer  \\\n",
              "0  assistant: To determine how many learners part...   \n",
              "1  assistant: Step 1: Identify relevant informati...   \n",
              "2  assistant: ### Step-by-Step Reasoning:\\n1. **I...   \n",
              "3  assistant: Step-by-step reasoning:\\n\\n1. The q...   \n",
              "4  assistant: Step-by-step reasoning:\\n\\n1. The s...   \n",
              "\n",
              "                                         instruction  \n",
              "0  <DOCUMENT>Table 4: Local Average Treatment Eff...  \n",
              "1  <DOCUMENT>The value of non-traditional credent...  \n",
              "2  <DOCUMENT>The value of non-traditional credent...  \n",
              "3  <DOCUMENT>The value of non-traditional credent...  \n",
              "4  <DOCUMENT>13 p.p.) and 36 p.p. (S.E. 12 p.p.) ...  "
            ]
          },
          "execution_count": 11,
          "metadata": {},
          "output_type": "execute_result"
        }
      ],
      "source": [
        "import pandas as pd\n",
        "\n",
        "df = pd.DataFrame(raw_ds)\n",
        "df.head()"
      ]
    },
    {
      "cell_type": "code",
      "execution_count": 5,
      "metadata": {
        "colab": {
          "base_uri": "https://localhost:8080/"
        },
        "id": "wmrJWEdaIAEF",
        "outputId": "a9fd7cff-ee30-4f9b-c603-fb281d7ca86f"
      },
      "outputs": [
        {
          "data": {
            "text/plain": [
              "(Dataset({\n",
              "     features: ['cot_answer', 'instruction'],\n",
              "     num_rows: 296\n",
              " }),\n",
              " Dataset({\n",
              "     features: ['cot_answer', 'instruction'],\n",
              "     num_rows: 33\n",
              " }))"
            ]
          },
          "execution_count": 5,
          "metadata": {},
          "output_type": "execute_result"
        }
      ],
      "source": [
        "train_ds, eval_ds"
      ]
    },
    {
      "cell_type": "code",
      "execution_count": null,
      "metadata": {
        "colab": {
          "base_uri": "https://localhost:8080/",
          "height": 17,
          "referenced_widgets": [
            "81550df081ee444581cb2c1fe1e28261",
            "43e5e492256c41899d7375a2ab064dd8",
            "5efcd2ef32fa421ea3b4e72f5cae3be9",
            "f1b18f57a1f84843b77941228b85feee",
            "7b14619e2af3466a892824e3e4127eda",
            "a2473c39dbf749d7ac8734ad208ab383",
            "b2e4f0dc783542e9ad998d37378188f0",
            "74c053f5f834447ba4bd6467a3cd85e4",
            "0d61670ad82d4610b33370ff4601e592",
            "2c6476910e2f4aa4880fb9bc799c3c35",
            "f7b186b5e7d34c8097e699b6db7cc1ac",
            "d3a2dda29fa543a5b7ea9e52fa172505",
            "c408881f62b445cba8ae36d236d4263e",
            "f185406285de453f99cde6bea0bb9b2b",
            "58e902a5109f4195bc889df6da0e3a30",
            "51d202bff15947e0adc40f28963f9616",
            "b31e93e58c0643c0b8e5f1470b657515",
            "1458431563eb4295a8825dde90fd6cf0",
            "be685860af824c7e9e40f8b8cd1237d4",
            "9460183c82854c32a0d78b5322cf9dfe"
          ]
        },
        "id": "g-CMvW0OISlb",
        "outputId": "68551cd2-34ae-4f4f-caa8-2eab8f43ac8a"
      },
      "outputs": [
        {
          "data": {
            "application/vnd.jupyter.widget-view+json": {
              "model_id": "81550df081ee444581cb2c1fe1e28261",
              "version_major": 2,
              "version_minor": 0
            },
            "text/plain": [
              "VBox(children=(HTML(value='<center> <img\\nsrc=https://huggingface.co/front/assets/huggingface_logo-noborder.sv…"
            ]
          },
          "metadata": {},
          "output_type": "display_data"
        }
      ],
      "source": [
        "## Just in case you are using a gated LLM.\n",
        "\n",
        "# from huggingface_hub import login\n",
        "# login()"
      ]
    },
    {
      "cell_type": "markdown",
      "metadata": {},
      "source": [
        "## Load our fav tiny llama model\n",
        "We load the quantized version just to speed things up"
      ]
    },
    {
      "cell_type": "code",
      "execution_count": null,
      "metadata": {
        "colab": {
          "base_uri": "https://localhost:8080/"
        },
        "id": "C4CdoP7qICwm",
        "outputId": "077ef301-b5fd-41d8-d386-d46e07f5d4ad"
      },
      "outputs": [],
      "source": [
        "MODEL_ID = \"meta-llama/Llama-3.2-1B-Instruct\"\n",
        "\n",
        "bnb_cfg = BitsAndBytesConfig(\n",
        "    load_in_4bit=True,\n",
        "    bnb_4bit_quant_type=\"nf4\",\n",
        "    bnb_4bit_use_double_quant=True,\n",
        "    bnb_4bit_compute_dtype=\"float16\"\n",
        ")\n",
        "\n",
        "model = AutoModelForCausalLM.from_pretrained(\n",
        "    MODEL_ID,\n",
        "    quantization_config=bnb_cfg,\n",
        "    device_map=\"auto\"\n",
        ")\n",
        "tokenizer = AutoTokenizer.from_pretrained(MODEL_ID, use_fast=False)\n",
        "tokenizer.pad_token = tokenizer.eos_token\n"
      ]
    },
    {
      "cell_type": "markdown",
      "metadata": {},
      "source": [
        "Prepare our dataset for training!"
      ]
    },
    {
      "cell_type": "code",
      "execution_count": null,
      "metadata": {
        "colab": {
          "base_uri": "https://localhost:8080/",
          "height": 240,
          "referenced_widgets": [
            "8f7e3c21d27443c8b1ffaf31abb1b000",
            "9d28aad768514500927be38a87ee6452",
            "83c10a4f254041ada3a03eb99b8250f1",
            "c7f5f9a588f740d68fc38f403a9b7d39",
            "19cde85ae37e44659a65d51c130db76f",
            "774ed11aea1e474b995954ba870b4d08",
            "e70f1a7ad7494992ab5b0d4a49862144",
            "a053b0bde05f4bd2be8c8dd2e822305d",
            "8b4ec9ac95814a54a48e2e8d21cb0f23",
            "375749b5aa0c4371afefe5eb01e8284b",
            "e3af2aa162de4b28b050784ed445311e",
            "4208879f159044f3bb6a74b1fae59f02",
            "277043287a694d84a62ff1f7c828a1a1",
            "23e7e4a961ea4a06bee02eaf0121cd8d",
            "b2e30a6db16b405e8d33d91cb73d0349",
            "886250f3f31c40658fc68796b3012bf4",
            "734cbd875cc84290bafb70aaa81419d6",
            "b48a361374274372af9a1727bff916e1",
            "d62ce5e04380403eb1c9ff00bc1d11a7",
            "ffe85aac9d4a4cf7b595023701a6ccc9",
            "9f077975bce74c72a64fdae99f836016",
            "89dc41cbdf1d4dbeb7d2b356b2a3208d"
          ]
        },
        "id": "HIqM83dUIE3g",
        "outputId": "7eb1cc6c-91d4-4884-9f67-4ab563b88c03"
      },
      "outputs": [
        {
          "data": {
            "application/vnd.jupyter.widget-view+json": {
              "model_id": "8f7e3c21d27443c8b1ffaf31abb1b000",
              "version_major": 2,
              "version_minor": 0
            },
            "text/plain": [
              "Map (num_proc=2):   0%|          | 0/296 [00:00<?, ? examples/s]"
            ]
          },
          "metadata": {},
          "output_type": "display_data"
        },
        {
          "name": "stderr",
          "output_type": "stream",
          "text": [
            "/usr/local/lib/python3.11/dist-packages/transformers/tokenization_utils_base.py:3980: UserWarning: `as_target_tokenizer` is deprecated and will be removed in v5 of Transformers. You can tokenize your labels by using the argument `text_target` of the regular `__call__` method (either in the same call as your input texts if you use the same keyword arguments, or in a separate call.\n",
            "  warnings.warn(\n",
            "/usr/local/lib/python3.11/dist-packages/transformers/tokenization_utils_base.py:3980: UserWarning: `as_target_tokenizer` is deprecated and will be removed in v5 of Transformers. You can tokenize your labels by using the argument `text_target` of the regular `__call__` method (either in the same call as your input texts if you use the same keyword arguments, or in a separate call.\n",
            "  warnings.warn(\n"
          ]
        },
        {
          "data": {
            "application/vnd.jupyter.widget-view+json": {
              "model_id": "4208879f159044f3bb6a74b1fae59f02",
              "version_major": 2,
              "version_minor": 0
            },
            "text/plain": [
              "Map (num_proc=2):   0%|          | 0/33 [00:00<?, ? examples/s]"
            ]
          },
          "metadata": {},
          "output_type": "display_data"
        },
        {
          "name": "stderr",
          "output_type": "stream",
          "text": [
            "/usr/local/lib/python3.11/dist-packages/transformers/tokenization_utils_base.py:3980: UserWarning: `as_target_tokenizer` is deprecated and will be removed in v5 of Transformers. You can tokenize your labels by using the argument `text_target` of the regular `__call__` method (either in the same call as your input texts if you use the same keyword arguments, or in a separate call.\n",
            "  warnings.warn(\n",
            "/usr/local/lib/python3.11/dist-packages/transformers/tokenization_utils_base.py:3980: UserWarning: `as_target_tokenizer` is deprecated and will be removed in v5 of Transformers. You can tokenize your labels by using the argument `text_target` of the regular `__call__` method (either in the same call as your input texts if you use the same keyword arguments, or in a separate call.\n",
            "  warnings.warn(\n"
          ]
        }
      ],
      "source": [
        "from multiprocessing import cpu_count\n",
        "\n",
        "def preprocess(batch):\n",
        "    # batch[\"instruction\"] and batch[\"cot_answer\"] are strings\n",
        "    inputs = tokenizer(\n",
        "        batch[\"instruction\"],\n",
        "        truncation=True,\n",
        "        max_length=2048,\n",
        "        padding=False,\n",
        "    )\n",
        "    # target labels\n",
        "    with tokenizer.as_target_tokenizer():\n",
        "        labels = tokenizer(\n",
        "            batch[\"cot_answer\"],\n",
        "            truncation=True,\n",
        "            max_length=512,\n",
        "            padding=False,\n",
        "        )\n",
        "    inputs[\"labels\"] = labels[\"input_ids\"]\n",
        "    return inputs\n",
        "\n",
        "train_tkn = train_ds.map(\n",
        "    preprocess,\n",
        "    batched=True,\n",
        "    remove_columns=train_ds.column_names,\n",
        "    num_proc=cpu_count(),\n",
        ")\n",
        "eval_tkn  = eval_ds.map(\n",
        "    preprocess,\n",
        "    batched=True,\n",
        "    remove_columns=eval_ds.column_names,\n",
        "    num_proc=cpu_count(),\n",
        ")"
      ]
    },
    {
      "cell_type": "markdown",
      "metadata": {},
      "source": [
        "Prepare our training configurations!"
      ]
    },
    {
      "cell_type": "code",
      "execution_count": null,
      "metadata": {
        "colab": {
          "base_uri": "https://localhost:8080/",
          "height": 118,
          "referenced_widgets": [
            "aafe6e2578f54dda9ffbd39c9696357c",
            "4ac052f82d6c486ab70834bbdec4567c",
            "29988fe30fc1402589f5da87d660a419",
            "afcddefccde8459f9e5d1557ae7ba310",
            "1903b501ce7345e797e6f6795c91ecf3",
            "47c1f6a99d664ecc891cdd40ffe11d4f",
            "e22eca723d1042b3a77a1b121168f2c8",
            "adaf3bc05dbf4cb78237fc07ce24c233",
            "c75d8821ebe443d599d3b34bba6d4c67",
            "eb76c4dc105d46a7b1b0196ebd756dad",
            "c6eaaf2f7d074378880ce16cd245fbc3",
            "693e8de635194e639f1bbe693c041d63",
            "4cf6cc801ef640e4b782388edeeb4f08",
            "b5b36a34a5f447d9b971ff2aa6b80d26",
            "b7eb18e048f24e14a18714da32abbb26",
            "57eb3ee077c64ebdbe2480423519c8ad",
            "2580c21390bf4664886dfdc6e918e374",
            "00cfd1a50fdc45688e460a3643faf04c",
            "23ddd0880f8b4cfeb5d27d2419c23c40",
            "8f5bd1353ecd4a36bdaf1cb5eef1ba60",
            "5c0830c908404610bb274361bad8841a",
            "23ecba6347904f989c07a6ad19b1b68e"
          ]
        },
        "id": "JUsKjOYbL4lr",
        "outputId": "bd65b61d-0eb5-4999-a262-5e07a87a997e"
      },
      "outputs": [
        {
          "data": {
            "application/vnd.jupyter.widget-view+json": {
              "model_id": "aafe6e2578f54dda9ffbd39c9696357c",
              "version_major": 2,
              "version_minor": 0
            },
            "text/plain": [
              "Truncating train dataset:   0%|          | 0/296 [00:00<?, ? examples/s]"
            ]
          },
          "metadata": {},
          "output_type": "display_data"
        },
        {
          "data": {
            "application/vnd.jupyter.widget-view+json": {
              "model_id": "693e8de635194e639f1bbe693c041d63",
              "version_major": 2,
              "version_minor": 0
            },
            "text/plain": [
              "Truncating eval dataset:   0%|          | 0/33 [00:00<?, ? examples/s]"
            ]
          },
          "metadata": {},
          "output_type": "display_data"
        },
        {
          "name": "stderr",
          "output_type": "stream",
          "text": [
            "No label_names provided for model class `PeftModelForCausalLM`. Since `PeftModel` hides base models input arguments, if label_names is not given, label_names can't be set automatically within `Trainer`. Note that empty label_names list will be used instead.\n"
          ]
        }
      ],
      "source": [
        "peft_config = LoraConfig(\n",
        "    r=16,\n",
        "    lora_alpha=16,\n",
        "    lora_dropout=0.05,\n",
        "    bias=\"none\",\n",
        "    target_modules=[\n",
        "        \"q_proj\",\"k_proj\",\"v_proj\",\"o_proj\",\n",
        "        \"gate_proj\",\"up_proj\",\"down_proj\",\n",
        "    ],\n",
        "    task_type=\"CAUSAL_LM\"\n",
        ")\n",
        "\n",
        "# ─────────────────────────────────────────────────────────────────────────────\n",
        "# 5. Setup TrainingArguments and SFTTrainer\n",
        "# ─────────────────────────────────────────────────────────────────────────────\n",
        "training_args = TrainingArguments(\n",
        "    output_dir=\"raft-sft-output\", #This will also be used as your huggingfacehub model id name\n",
        "    report_to=\"wandb\", #Leave this to be blank if you don't want to use wandb\n",
        "    run_name=\"RAFT_SFT_Take2\",\n",
        "    eval_steps=5,\n",
        "    eval_strategy=\"steps\",\n",
        "    per_device_train_batch_size=1,    # small batches if quantized\n",
        "    per_device_eval_batch_size=1,\n",
        "    gradient_accumulation_steps=8,\n",
        "    learning_rate=2e-5,\n",
        "    num_train_epochs=5,\n",
        "    # max_steps=60,                    # or set num_train_epochs\n",
        "    save_strategy=\"no\",\n",
        "    fp16=True,\n",
        "    gradient_checkpointing=True,\n",
        "    logging_strategy=\"steps\",\n",
        "    logging_steps=5,\n",
        "    seed=42,\n",
        "    optim=\"adamw_torch\",\n",
        "    lr_scheduler_type=\"cosine\",\n",
        ")\n",
        "\n",
        "trainer = SFTTrainer(\n",
        "    model=model,\n",
        "    args=training_args,\n",
        "    train_dataset=train_tkn,\n",
        "    eval_dataset=eval_tkn,\n",
        "    peft_config=peft_config,\n",
        ")\n"
      ]
    },
    {
      "cell_type": "markdown",
      "metadata": {},
      "source": [
        "## Train!!"
      ]
    },
    {
      "cell_type": "code",
      "execution_count": 10,
      "metadata": {
        "colab": {
          "base_uri": "https://localhost:8080/",
          "height": 1000
        },
        "id": "nbi_fggcL9GG",
        "outputId": "5edceb03-ab3a-439e-9ebb-efdedf0198ce"
      },
      "outputs": [
        {
          "name": "stderr",
          "output_type": "stream",
          "text": [
            "\u001b[34m\u001b[1mwandb\u001b[0m: Currently logged in as: \u001b[33mtituslhy\u001b[0m to \u001b[32mhttps://api.wandb.ai\u001b[0m. Use \u001b[1m`wandb login --relogin`\u001b[0m to force relogin\n"
          ]
        },
        {
          "data": {
            "text/html": [
              "Tracking run with wandb version 0.19.11"
            ],
            "text/plain": [
              "<IPython.core.display.HTML object>"
            ]
          },
          "metadata": {},
          "output_type": "display_data"
        },
        {
          "data": {
            "text/html": [
              "Run data is saved locally in <code>/content/wandb/run-20250519_064333-9inr4kvp</code>"
            ],
            "text/plain": [
              "<IPython.core.display.HTML object>"
            ]
          },
          "metadata": {},
          "output_type": "display_data"
        },
        {
          "data": {
            "text/html": [
              "Syncing run <strong><a href='https://wandb.ai/tituslhy/huggingface/runs/9inr4kvp' target=\"_blank\">RAFT_SFT_Take2</a></strong> to <a href='https://wandb.ai/tituslhy/huggingface' target=\"_blank\">Weights & Biases</a> (<a href='https://wandb.me/developer-guide' target=\"_blank\">docs</a>)<br>"
            ],
            "text/plain": [
              "<IPython.core.display.HTML object>"
            ]
          },
          "metadata": {},
          "output_type": "display_data"
        },
        {
          "data": {
            "text/html": [
              " View project at <a href='https://wandb.ai/tituslhy/huggingface' target=\"_blank\">https://wandb.ai/tituslhy/huggingface</a>"
            ],
            "text/plain": [
              "<IPython.core.display.HTML object>"
            ]
          },
          "metadata": {},
          "output_type": "display_data"
        },
        {
          "data": {
            "text/html": [
              " View run at <a href='https://wandb.ai/tituslhy/huggingface/runs/9inr4kvp' target=\"_blank\">https://wandb.ai/tituslhy/huggingface/runs/9inr4kvp</a>"
            ],
            "text/plain": [
              "<IPython.core.display.HTML object>"
            ]
          },
          "metadata": {},
          "output_type": "display_data"
        },
        {
          "name": "stderr",
          "output_type": "stream",
          "text": [
            "`use_cache=True` is incompatible with gradient checkpointing. Setting `use_cache=False`.\n"
          ]
        },
        {
          "data": {
            "text/html": [
              "\n",
              "    <div>\n",
              "      \n",
              "      <progress value='185' max='185' style='width:300px; height:20px; vertical-align: middle;'></progress>\n",
              "      [185/185 20:41, Epoch 5/5]\n",
              "    </div>\n",
              "    <table border=\"1\" class=\"dataframe\">\n",
              "  <thead>\n",
              " <tr style=\"text-align: left;\">\n",
              "      <th>Step</th>\n",
              "      <th>Training Loss</th>\n",
              "      <th>Validation Loss</th>\n",
              "    </tr>\n",
              "  </thead>\n",
              "  <tbody>\n",
              "    <tr>\n",
              "      <td>5</td>\n",
              "      <td>2.744300</td>\n",
              "      <td>2.967905</td>\n",
              "    </tr>\n",
              "    <tr>\n",
              "      <td>10</td>\n",
              "      <td>2.643500</td>\n",
              "      <td>2.935272</td>\n",
              "    </tr>\n",
              "    <tr>\n",
              "      <td>15</td>\n",
              "      <td>2.841400</td>\n",
              "      <td>2.900691</td>\n",
              "    </tr>\n",
              "    <tr>\n",
              "      <td>20</td>\n",
              "      <td>2.608500</td>\n",
              "      <td>2.865374</td>\n",
              "    </tr>\n",
              "    <tr>\n",
              "      <td>25</td>\n",
              "      <td>2.606600</td>\n",
              "      <td>2.829698</td>\n",
              "    </tr>\n",
              "    <tr>\n",
              "      <td>30</td>\n",
              "      <td>2.475300</td>\n",
              "      <td>2.793829</td>\n",
              "    </tr>\n",
              "    <tr>\n",
              "      <td>35</td>\n",
              "      <td>2.518400</td>\n",
              "      <td>2.759644</td>\n",
              "    </tr>\n",
              "    <tr>\n",
              "      <td>40</td>\n",
              "      <td>2.470200</td>\n",
              "      <td>2.727984</td>\n",
              "    </tr>\n",
              "    <tr>\n",
              "      <td>45</td>\n",
              "      <td>2.466700</td>\n",
              "      <td>2.696690</td>\n",
              "    </tr>\n",
              "    <tr>\n",
              "      <td>50</td>\n",
              "      <td>2.506800</td>\n",
              "      <td>2.665173</td>\n",
              "    </tr>\n",
              "    <tr>\n",
              "      <td>55</td>\n",
              "      <td>2.421900</td>\n",
              "      <td>2.633895</td>\n",
              "    </tr>\n",
              "    <tr>\n",
              "      <td>60</td>\n",
              "      <td>2.403900</td>\n",
              "      <td>2.604635</td>\n",
              "    </tr>\n",
              "    <tr>\n",
              "      <td>65</td>\n",
              "      <td>2.285600</td>\n",
              "      <td>2.577502</td>\n",
              "    </tr>\n",
              "    <tr>\n",
              "      <td>70</td>\n",
              "      <td>2.362900</td>\n",
              "      <td>2.551174</td>\n",
              "    </tr>\n",
              "    <tr>\n",
              "      <td>75</td>\n",
              "      <td>2.349400</td>\n",
              "      <td>2.525363</td>\n",
              "    </tr>\n",
              "    <tr>\n",
              "      <td>80</td>\n",
              "      <td>2.357800</td>\n",
              "      <td>2.501366</td>\n",
              "    </tr>\n",
              "    <tr>\n",
              "      <td>85</td>\n",
              "      <td>2.397000</td>\n",
              "      <td>2.479274</td>\n",
              "    </tr>\n",
              "    <tr>\n",
              "      <td>90</td>\n",
              "      <td>2.304800</td>\n",
              "      <td>2.458517</td>\n",
              "    </tr>\n",
              "    <tr>\n",
              "      <td>95</td>\n",
              "      <td>2.023300</td>\n",
              "      <td>2.440082</td>\n",
              "    </tr>\n",
              "    <tr>\n",
              "      <td>100</td>\n",
              "      <td>2.208300</td>\n",
              "      <td>2.424164</td>\n",
              "    </tr>\n",
              "    <tr>\n",
              "      <td>105</td>\n",
              "      <td>2.217800</td>\n",
              "      <td>2.409280</td>\n",
              "    </tr>\n",
              "    <tr>\n",
              "      <td>110</td>\n",
              "      <td>2.199800</td>\n",
              "      <td>2.395631</td>\n",
              "    </tr>\n",
              "    <tr>\n",
              "      <td>115</td>\n",
              "      <td>2.191100</td>\n",
              "      <td>2.382465</td>\n",
              "    </tr>\n",
              "    <tr>\n",
              "      <td>120</td>\n",
              "      <td>2.250300</td>\n",
              "      <td>2.369903</td>\n",
              "    </tr>\n",
              "    <tr>\n",
              "      <td>125</td>\n",
              "      <td>2.127400</td>\n",
              "      <td>2.359582</td>\n",
              "    </tr>\n",
              "    <tr>\n",
              "      <td>130</td>\n",
              "      <td>2.072200</td>\n",
              "      <td>2.351557</td>\n",
              "    </tr>\n",
              "    <tr>\n",
              "      <td>135</td>\n",
              "      <td>2.114700</td>\n",
              "      <td>2.344995</td>\n",
              "    </tr>\n",
              "    <tr>\n",
              "      <td>140</td>\n",
              "      <td>2.168100</td>\n",
              "      <td>2.339327</td>\n",
              "    </tr>\n",
              "    <tr>\n",
              "      <td>145</td>\n",
              "      <td>2.032500</td>\n",
              "      <td>2.334972</td>\n",
              "    </tr>\n",
              "    <tr>\n",
              "      <td>150</td>\n",
              "      <td>2.092600</td>\n",
              "      <td>2.331618</td>\n",
              "    </tr>\n",
              "    <tr>\n",
              "      <td>155</td>\n",
              "      <td>2.180400</td>\n",
              "      <td>2.328874</td>\n",
              "    </tr>\n",
              "    <tr>\n",
              "      <td>160</td>\n",
              "      <td>2.070100</td>\n",
              "      <td>2.326923</td>\n",
              "    </tr>\n",
              "    <tr>\n",
              "      <td>165</td>\n",
              "      <td>2.090200</td>\n",
              "      <td>2.325788</td>\n",
              "    </tr>\n",
              "    <tr>\n",
              "      <td>170</td>\n",
              "      <td>2.056600</td>\n",
              "      <td>2.324944</td>\n",
              "    </tr>\n",
              "    <tr>\n",
              "      <td>175</td>\n",
              "      <td>2.086600</td>\n",
              "      <td>2.324545</td>\n",
              "    </tr>\n",
              "    <tr>\n",
              "      <td>180</td>\n",
              "      <td>2.129800</td>\n",
              "      <td>2.324373</td>\n",
              "    </tr>\n",
              "    <tr>\n",
              "      <td>185</td>\n",
              "      <td>2.120800</td>\n",
              "      <td>2.324305</td>\n",
              "    </tr>\n",
              "  </tbody>\n",
              "</table><p>"
            ],
            "text/plain": [
              "<IPython.core.display.HTML object>"
            ]
          },
          "metadata": {},
          "output_type": "display_data"
        },
        {
          "data": {
            "text/plain": [
              "TrainOutput(global_step=185, training_loss=2.302635703215728, metrics={'train_runtime': 1252.0526, 'train_samples_per_second': 1.182, 'train_steps_per_second': 0.148, 'total_flos': 5973991698739200.0, 'train_loss': 2.302635703215728})"
            ]
          },
          "execution_count": 10,
          "metadata": {},
          "output_type": "execute_result"
        }
      ],
      "source": [
        "trainer.train()"
      ]
    },
    {
      "cell_type": "code",
      "execution_count": null,
      "metadata": {
        "id": "o0OqtKWQXZZc"
      },
      "outputs": [],
      "source": [
        "import os\n",
        "from dotenv import load_dotenv, find_dotenv\n",
        "\n",
        "_ = load_dotenv(find_dotenv()) # read local .env file"
      ]
    },
    {
      "cell_type": "code",
      "execution_count": null,
      "metadata": {
        "colab": {
          "base_uri": "https://localhost:8080/",
          "height": 296,
          "referenced_widgets": [
            "ad9b759e91cc4516a049c2bf5d12d1c3",
            "0f189ede36fe4be7bdf5b1ebcfa2f83a",
            "7703a37ded7c4fa1adceec97d6be7710",
            "aed8c10586e3487faa5c40f091699cbe",
            "065cd382821d40dd9eb9faa794e80322",
            "23c312f524fa469fb046e486d723239b",
            "231d310b9a4e4cd49f23e23e36e2ba42",
            "3469977163fe45eebb93c6498f7eada5",
            "a328c76b49ae4e5e837ceaed83f8a4b0",
            "b889e849ef2f4440a51b5b1324ce32a0",
            "6d995f1ba94c4b7a8f86bb545f448a2e",
            "0958a2cfad004b8f9aafb8e33c3d2bc7",
            "44546a9cfec14f45b1345a5ee85f0ffe",
            "4ce7caf1521944f49c78c05c7257e765",
            "1d0e0e900d3c4b24a0bd7d4a72f48140",
            "af2c77c1fdbe42efb32996ec158f3e0a",
            "8ad19881a9754b1881352207b0754c52",
            "a3bfafe1fba545f999770b0fff236b9e",
            "cb8f21f4e4aa4835b4ca96aa1f1ac85b",
            "eb3e0c6f6822457fb02db2d599414b6a",
            "5d88bc50d5ef4af89f2c66eb22743ecb",
            "491062f31d8b4320a2c5f7b5f35d91a3",
            "5fea2b50afef4237ac7791ed06412743",
            "c5afdf6a953d470487c3637f8daabf79",
            "4e86815587dc45ae8361e239c9b976e0",
            "419a1a1fa2934dec915a4d5f62682adc",
            "1ac145af52cf49ba867cd9074e5a9234",
            "b7afc5dd77484ca1b3041a6cb1f93da1",
            "894c7d5a9cb241eeb43a497c2337992b",
            "20d4d06ef8e4437599896931c9efc3cb",
            "afbc293d4f3f497c88b37394e997cc26",
            "aa08a0e51c2248d4b2ebdcf7a58fe1b6",
            "c3971bdb4e584dd19da21019103a4eda",
            "4c77a6a1c0134fbfa8f58d9b91baf2ac",
            "b6455a851f404d4cac37a09a105bbf81",
            "37b034fe13d546fc830714b9b13ee42b",
            "af0d62ae72d14fb09cb25cb5e6d32371",
            "7c034e4ef7fa4130a45224e643bd1e23",
            "f48f8a0b61b44891a2b604c8b8d86156",
            "0dd131ce186e4cd6aeedb30ee33dcade",
            "042eb909e51945148e560ae7dbe141de",
            "0ffb71aba7a845c985b13a64fa719dc1",
            "1ebc97df2da24ae9ad80fcc68f58b3f5",
            "44ae64db1a964a0b80df5ebed719a980",
            "0b510310cfab47d89c5be64bc77b4be5",
            "8a29431c2fb049efbf19350b13353df1",
            "dbdb104a081e44c5b3346e18a4a28af6",
            "31da9700b8e84cd7a6d027f863fc3c68",
            "62935f10369f47d5a98c9e66425ef6cb",
            "e07fbdc6749b461eb81d5beb71ae169c",
            "1a1bfeedb39e419fbc4c065bdc6847b6",
            "2d650d7a479d4311b49a32eb65d09fac",
            "94699b8adf3948c28b72baf2f857b85d",
            "a308d07489b843c4874b629fdabac843",
            "3f073989d0f6468480f4ef9fb6ebf84e",
            "0097fb48dd1945d4897e0b60265ba3f7",
            "ceaba2adb7ee48b895afc4eb5c810772",
            "0cb3eda67eeb48ec93512769af124574",
            "3992161f97174821a1c13033f09f2fb0",
            "97a8851cd97a4faa92ed5e9c0a320de0",
            "036b5571eec54a828d8e47d1b7097c95",
            "f89b4171e1a74c82af7383c61f27ee6d",
            "bbf06fdb1e664069ad10352345668544",
            "ec6b8b1746c14842841e2b7b102ef502",
            "d20e6a69beb94ce48b2ee96d129fb228",
            "cd6288d420f943dbbae563c5f5f1991a"
          ]
        },
        "id": "_rffkZ8HMQ77",
        "outputId": "228b58cb-c0ac-4cdf-af1f-9d6c7ad07469"
      },
      "outputs": [
        {
          "name": "stderr",
          "output_type": "stream",
          "text": [
            "\u001b[34m\u001b[1mwandb\u001b[0m: \u001b[33mWARNING\u001b[0m The get_url method is deprecated and will be removed in a future release. Please use `run.url` instead.\n"
          ]
        },
        {
          "data": {
            "application/vnd.jupyter.widget-view+json": {
              "model_id": "ad9b759e91cc4516a049c2bf5d12d1c3",
              "version_major": 2,
              "version_minor": 0
            },
            "text/plain": [
              "adapter_model.safetensors:   0%|          | 0.00/45.1M [00:00<?, ?B/s]"
            ]
          },
          "metadata": {},
          "output_type": "display_data"
        },
        {
          "data": {
            "application/vnd.jupyter.widget-view+json": {
              "model_id": "0958a2cfad004b8f9aafb8e33c3d2bc7",
              "version_major": 2,
              "version_minor": 0
            },
            "text/plain": [
              "Upload 5 LFS files:   0%|          | 0/5 [00:00<?, ?it/s]"
            ]
          },
          "metadata": {},
          "output_type": "display_data"
        },
        {
          "data": {
            "application/vnd.jupyter.widget-view+json": {
              "model_id": "5fea2b50afef4237ac7791ed06412743",
              "version_major": 2,
              "version_minor": 0
            },
            "text/plain": [
              "events.out.tfevents.1747635475.5b9aaa27fe98.3987.0:   0%|          | 0.00/10.4k [00:00<?, ?B/s]"
            ]
          },
          "metadata": {},
          "output_type": "display_data"
        },
        {
          "data": {
            "application/vnd.jupyter.widget-view+json": {
              "model_id": "4c77a6a1c0134fbfa8f58d9b91baf2ac",
              "version_major": 2,
              "version_minor": 0
            },
            "text/plain": [
              "events.out.tfevents.1747636110.5b9aaa27fe98.7292.0:   0%|          | 0.00/8.86k [00:00<?, ?B/s]"
            ]
          },
          "metadata": {},
          "output_type": "display_data"
        },
        {
          "data": {
            "application/vnd.jupyter.widget-view+json": {
              "model_id": "0b510310cfab47d89c5be64bc77b4be5",
              "version_major": 2,
              "version_minor": 0
            },
            "text/plain": [
              "training_args.bin:   0%|          | 0.00/5.62k [00:00<?, ?B/s]"
            ]
          },
          "metadata": {},
          "output_type": "display_data"
        },
        {
          "data": {
            "application/vnd.jupyter.widget-view+json": {
              "model_id": "0097fb48dd1945d4897e0b60265ba3f7",
              "version_major": 2,
              "version_minor": 0
            },
            "text/plain": [
              "tokenizer.json:   0%|          | 0.00/17.2M [00:00<?, ?B/s]"
            ]
          },
          "metadata": {},
          "output_type": "display_data"
        },
        {
          "data": {
            "application/vnd.google.colaboratory.intrinsic+json": {
              "type": "string"
            },
            "text/plain": [
              "CommitInfo(commit_url='https://huggingface.co/tituslhy/raft-sft-output/commit/cd9dd616b3ecf2333645be9195438519be150422', commit_message='tituslhy/raft-llama32-1bn-finetuned', commit_description='', oid='cd9dd616b3ecf2333645be9195438519be150422', pr_url=None, repo_url=RepoUrl('https://huggingface.co/tituslhy/raft-sft-output', endpoint='https://huggingface.co', repo_type='model', repo_id='tituslhy/raft-sft-output'), pr_revision=None, pr_num=None)"
            ]
          },
          "execution_count": 15,
          "metadata": {},
          "output_type": "execute_result"
        }
      ],
      "source": [
        "trainer.push_to_hub(token=os.environ('HUGGINGFACE_ACCESS_TOKEN'))"
      ]
    },
    {
      "cell_type": "code",
      "execution_count": null,
      "metadata": {
        "id": "wjtJw6aZXpR-"
      },
      "outputs": [],
      "source": []
    }
  ],
  "metadata": {
    "accelerator": "GPU",
    "colab": {
      "gpuType": "T4",
      "provenance": []
    },
    "kernelspec": {
      "display_name": "llamaindex",
      "language": "python",
      "name": "python3"
    },
    "language_info": {
      "name": "python",
      "version": "3.12.5"
    }
  },
  "nbformat": 4,
  "nbformat_minor": 0
}
