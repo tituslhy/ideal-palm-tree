{
  "cells": [
    {
      "cell_type": "markdown",
      "metadata": {
        "id": "iajq1W8ipjyK"
      },
      "source": [
        "### Unsloth"
      ]
    },
    {
      "cell_type": "code",
      "execution_count": null,
      "metadata": {
        "colab": {
          "base_uri": "https://localhost:8080/",
          "height": 572,
          "referenced_widgets": [
            "7c7c7c98599a43c2897852955f8a6c83",
            "da4c73318a3140e98cac14be27cf3e2a",
            "3e43356d263349efbf78df0f4da35b8b",
            "aa9b94be964b439ba628f72a23af4de3",
            "0ad1cfc357764523ab17be147a16375c",
            "4d3c3d7075854ecc858c074a156eb4a6",
            "5a52e3ebe45740b581c403da8973deb1",
            "e0282d63ae174f0d8cbf30588f6bc435",
            "20ffbb6ea1bd4b4082c3227683e180be",
            "1a9c0292d9ea4fc396be49863a6576a1",
            "4faafcdfdbcf47e7b8c60396850551a7",
            "257b8fc5e1a6438ab0c40993dbda2319",
            "ade25a304e5d4c1c9080c26b9fe5c443",
            "63e15a8817b04cd78e14a3a86921c605",
            "9f52d13ffac14193bfe6cd6a86fd1e5b",
            "437d9f316b334be4b86a9948f1c78c96",
            "15a59aa9e5fe487e9cb07bebdb7c8fe1",
            "1ec15318bb5b4a3c905d2e3bad893fcd",
            "9cf38aeec6814f5e848d177db2f673f3",
            "591cf756b173458d80156e24675cf61f",
            "1e2f9712618f4144bacaf929364780c4",
            "b4197eff81a84a5b987d454b5260c3ef",
            "2da1d53f2be9453ebe6ae4de594d2422",
            "cb33f218990a483cabb6400439b71c00",
            "d7b54a022b054d0986c7e5525d0c1b00",
            "bf073ac787af4b9e97be980d59bcdb40",
            "62b20fbb7244475abc2e37a9e33d51cb",
            "00a5003b6ba549ad8e08f87f76934f7c",
            "4af76eb8c017442383843d5aba1e1d1c",
            "6749070cafb84ddda871e725010eaba1",
            "d3f19002038545a393ed0522e953ea22",
            "f406c638e86b4249920ab708c002af4f",
            "f2e1cd6d8c72466b99fcb382c16ba4a2",
            "3452454d6d734d52a081661b71b17be7",
            "67d68f9bc7104ee182f3913f059f0658",
            "fb490f48d1f247fe95860cca624dbde6",
            "68457a7f7688494bb0b4f7f49f97b800",
            "4123d75590da4ea8a797e8909fc4c896",
            "af1b508f1cb84bddb41f5c0ad8982830",
            "119d9c1707a24cb487eb1cd34641e4e7",
            "d82e744b143449acb029f2235fe63073",
            "14e4c7be1e6d4c27a7501016c043ab13",
            "82e20c1c261441e690450f2fbac11a83",
            "2e3d78b50db044a3a3d005d8db8a7cf4",
            "959a058e3b8b4c6597ec21c0eeb1329e",
            "5bcf82328c5746b8929643030f0d1001",
            "62a5dd47eff446a89e27a7ee452db486",
            "23106c146b484478bc4b7fa1dd50f400",
            "d185127591124f239b9ae35cb1b57ccc",
            "bc19ad08cfe34c979473a0e109af01ff",
            "52ffffd09d344242b61a5ff903a7bae6",
            "43dc3af399044655b246c46bbefef9ca",
            "1d2dc211989f404cbe83492ceed4e66b",
            "811a34d38a354a4e923f28eaafeea56f",
            "b368cdb6e65a4735a5fd510879bdab44",
            "296c707d1c3a488dbbd4d2c9136aecb3",
            "b5e510f7b6d2424da2c5338a798abaef",
            "6c81c542aaff4d19ba7cbe146d0a1eca",
            "8d2d11c498244c09b8f5b6d7a4dd0c48",
            "d79388d28c5d418194fbf28e74ec2ae1",
            "a780ca41eb4245f998b97118922330c2",
            "2f6b69084ae0460e886e1fdca7d19b6b",
            "3581f309d1c342558cd99091017ec8aa",
            "d4d0d1fd9f1a4e68b03ae9d621f4a415",
            "d9bb64cc39a64c6bbbf6f8ad2a60aba5",
            "1e1c0ead19444c46bf372b9adfe20b9e",
            "5057e8ea18b54de097d1933df0420fd0",
            "cdce35c4dabd4766a3475b1e22085e5a",
            "ab4834d5377f4800a055e420b0fd7fa8",
            "ed77fceee9b24005b7979c571a0bab14",
            "77e5a77d05ac4de48a89f3523df70a7f",
            "c07d9a06dd4a4c75bd3f45333a7082e3",
            "5076bf8f83454224bfe22b8024052022",
            "42a98d97412544649bcd7893d3950156",
            "f733870b74ae49a4ab180fdc926bd835",
            "23d675591f0249a58e1fa7d4622668e5",
            "e64596e393e744e9bfb333425d228911",
            "263d2ff16a4d4afcb4c9c504c1a7377f",
            "4ab7cbc61a6e4758b35c2d145f4fce26",
            "319eba25e4fb43078b8518cbd00a75d8",
            "f0b8c069444e440abade117a21f33d3c",
            "848b0b01cef144dbb19475fa1d7cb63c",
            "d115e28058944c6380cfaa0807987eab",
            "b5f70e048dcf41b3a27b59ac1ec3eade",
            "fcc00f49cba746339fbd5527a548feb4",
            "f5aa2897e8b64ce9a47a37e4daaf0e93",
            "82a54ed66bba4d7e846985f237fa69c2",
            "dbf2b3de010c478e94fcd418d25d55be",
            "9418d52a26ca41b9b5f6438d86d5148d",
            "82daa68f740047ffa9ddae7eca3899d3",
            "b4a4521f11d345ae9f56af000195e0b4",
            "bd6bdc1aeaff4e23b955f1623f2b575a",
            "771f7d1cd0a14e04834cce29fd313698",
            "d2d1c41e26ae4b32a1007526f5167102",
            "043bea4fc5d14fb882a4cd716e062c70",
            "215b80185305405e8351b89d0dc94d7b",
            "81afa2e7f15a4ce2a0843ef1b1614cf3",
            "0f9b13a7b71440019aab8f3806b3df13",
            "85215857ee834bc2993cb3e15441541b",
            "16e6f3f4c1be4388aa8ca2d3a07aad98",
            "e413b1f555304fa5b036d8ff16c20915",
            "46dfd2e6330a4520a7c95d13d9087f90",
            "550ed58a73924889b24db0e8e29f9846",
            "3432eb69b935410980e52f6f882b03cb",
            "c6bb6ad41d4b465994f26726e32ce2be",
            "c1c5a8c45321457eb80b8211e39a0576",
            "0ed41a63051947cbb0c7ae23a4f162ba",
            "f21c0296dcd54940b6cea7d9be489176",
            "1dcb05015a3c4b8db0462e29eae9bd07",
            "00b8a6e0d4124db695581a2940ab2132",
            "1a038f05da5a4f5898080eb9d2232f80",
            "9eabab8154e348d6b8f0385d52e7ddca",
            "786d67f9127548aeb356fcdc9db742b3",
            "12347a7293124cb3977ace7c6021c865",
            "d3160fbcdf22446ea409094d95a06cf0",
            "f15721ed52034ac4aeb4e1699b0613cb",
            "3a1d6e38965444679db87d0f097e9a3e",
            "5b9b0a71497c40aa91de6abbee7ccb6c",
            "23e5745eaa174dff9e7fa23f8ff6b0eb",
            "851a07a79107481989361b3ad0d3a089",
            "4df4afa30cd7460d84a7ec9d4939c1b0",
            "abf9aae9d5c44959bcb0b77c5d3d1ecd",
            "82c0366d7bba4438824b1bd225ed3ecd",
            "a496a6896bd44906a064e78ce7b6fd4f",
            "e12e6fa9a01642089cffd7d5bef7ee49",
            "c04a8e9acf2c438aadaf25463b9adede",
            "c52e171d38a143388fdb6259cfacfb67",
            "2ff91ebb57b044689cd15da6a05b28ce",
            "062a37fac68145408de93c527b214ee3",
            "e7788bbab3e5408880319559e6d2027a",
            "e6d36f356e7444a087b1c60eb978abd9",
            "11d0485edb864c5086256b132597c9d4",
            "f9ca06d0e8614d68b0921b0fb799ea91",
            "35a230da68984558a38743eba47f19f9",
            "801182b42f8948168485612c18ccc4e0",
            "bfe07abd922d4f06a3d8d6ed265a075e",
            "4b9a24558ee7462f9f7c1472d945fd8b",
            "5da45ae7fea54b968ebc94c59980a01a",
            "037ff125f3db433b909c9b809b6a52ec",
            "b373378ba94f4f22ac6244cc52751327",
            "57e4345b266d4e61bbfba17c0731fb04",
            "bfc470f53c1e45d88d5c59fe0301c2ac",
            "3efcfd16bb674bbaae7303bc99d7f9c3"
          ]
        },
        "id": "QmUBVEnvCDJv",
        "outputId": "584ecfc4-c987-4c3c-e217-69f11d90071a"
      },
      "outputs": [],
      "source": [
        "from unsloth import FastLanguageModel\n",
        "import torch\n",
        "\n",
        "model, tokenizer = FastLanguageModel.from_pretrained(\n",
        "    model_name = \"unsloth/Qwen3-8B\",\n",
        "    max_seq_length = 2048,   # Context length - can be longer, but uses more memory\n",
        "    load_in_4bit = True,     # 4bit uses much less memory\n",
        "    load_in_8bit = False,    # A bit more accurate, uses 2x memory\n",
        "    full_finetuning = False, # We have full finetuning now!\n",
        "    # token = \"hf_...\",      # use one if using gated models\n",
        ")"
      ]
    },
    {
      "cell_type": "markdown",
      "metadata": {
        "id": "SXd9bTZd1aaL"
      },
      "source": [
        "We now add LoRA adapters so we only need to update 1 to 10% of all parameters!"
      ]
    },
    {
      "cell_type": "code",
      "execution_count": 3,
      "metadata": {
        "colab": {
          "base_uri": "https://localhost:8080/"
        },
        "id": "6bZsfBuZDeCL",
        "outputId": "dc3d6a6b-8c83-4cdb-e7be-ed6382d78111"
      },
      "outputs": [
        {
          "name": "stderr",
          "output_type": "stream",
          "text": [
            "Unsloth 2025.4.7 patched 40 layers with 40 QKV layers, 40 O layers and 40 MLP layers.\n"
          ]
        }
      ],
      "source": [
        "model = FastLanguageModel.get_peft_model(\n",
        "    model,\n",
        "    r = 32,           # Choose any number > 0! Suggested 8, 16, 32, 64, 128\n",
        "    target_modules = [\"q_proj\", \"k_proj\", \"v_proj\", \"o_proj\",\n",
        "                      \"gate_proj\", \"up_proj\", \"down_proj\",],\n",
        "    lora_alpha = 32,  # Best to choose alpha = rank or rank*2\n",
        "    lora_dropout = 0, # Supports any, but = 0 is optimized\n",
        "    bias = \"none\",    # Supports any, but = \"none\" is optimized\n",
        "    # [NEW] \"unsloth\" uses 30% less VRAM, fits 2x larger batch sizes!\n",
        "    use_gradient_checkpointing = \"unsloth\", # True or \"unsloth\" for very long context\n",
        "    random_state = 3407,\n",
        "    use_rslora = False,   # We support rank stabilized LoRA\n",
        "    loftq_config = None,  # And LoftQ\n",
        ")"
      ]
    },
    {
      "cell_type": "markdown",
      "metadata": {
        "id": "vITh0KVJ10qX"
      },
      "source": [
        "<a name=\"Data\"></a>\n",
        "### Data Prep\n",
        "Qwen3 has both reasoning and a non reasoning mode. So, we should use 2 datasets:\n",
        "\n",
        "1. We use the [Open Math Reasoning]() dataset which was used to win the [AIMO](https://www.kaggle.com/competitions/ai-mathematical-olympiad-progress-prize-2/leaderboard) (AI Mathematical Olympiad - Progress Prize 2) challenge! We sample 10% of verifiable reasoning traces that used DeepSeek R1, and whicht got > 95% accuracy.\n",
        "\n",
        "2. We also leverage [Maxime Labonne's FineTome-100k](https://huggingface.co/datasets/mlabonne/FineTome-100k) dataset in ShareGPT style. But we need to convert it to HuggingFace's normal multiturn format as well."
      ]
    },
    {
      "cell_type": "code",
      "execution_count": 4,
      "metadata": {
        "colab": {
          "base_uri": "https://localhost:8080/",
          "height": 209,
          "referenced_widgets": [
            "b34357e74ea9462ab85213bee19677e0",
            "02186cc11c024da29703d411a28405eb",
            "74173042cbe3498081a6abfc3e7dfe0c",
            "38fe3b12b1834f1480fde1d434543885",
            "6b7737f696884aec9ada71950e2ab790",
            "a4bc57e08e814f08a19f6631653dd389",
            "fcb64f15f445483381e508cb635d4998",
            "cbbccbabc44547e19d22c1355fd85293",
            "1a81dc2606594fd5840cc87251eb69b5",
            "5bd734a1fa3b47ae9d06b65761c99256",
            "1dadf35f8b8340e8bb7d82e133c23708",
            "c74e887681304a60a3f32743c25b037f",
            "796058219293467d9febbb4d5d2e6c7a",
            "cdf639e12e5f449b847d0c078b50aba0",
            "cf748da5b31c466787f7c5fcfb556df7",
            "62d44d37284e4e3e89e593cd10e513e9",
            "ee1346a7ef924ac8be1a82e8fc857d73",
            "c4a0f87c564a4ae78a9ef6a2a3d59449",
            "28fcabf1042f416db6cda9242f9c49a4",
            "4e90a0ada789409f9db89293a850d314",
            "eff7d23a6ed24422b6c725d91bfb86be",
            "d2d203deea1a49339d6c8cd7d54ee007",
            "e6701f1b017343bda47fbf1c328ee458",
            "50d1735b481f4955b3489b188d187c40",
            "a218889b66dd45fb97ad509fdc8592b5",
            "9b6fec69aa46466fa497ee2bc8b358a1",
            "69d2ec5219604a438935344c61bbbcc0",
            "3a25c0d7235b4b4aa5bd213462ba407b",
            "ff8f47cad71a4f40b3783bb1be9405ef",
            "387768aaf1e7484fb0fb0a093b801d77",
            "934995481cf84ca5bb97f15843d42e2a",
            "9be1993f47c84e2d9e0a082f4ee7dc6e",
            "e3197526fb3f40c78f15b5697d8b0797",
            "adf50b80c7634be79ff8905f6f7d128a",
            "943565b540d943c0a2d0e0836fd9a993",
            "74ae89b07894479f8136dcce36a696ca",
            "a08bce52f16a4503a4c523ddd84b65f9",
            "91a0ec766b37485fb2b3e27b863e66eb",
            "5088ea1e186d4061a29ae75ff417ceae",
            "3a47e00bee3743cb851aa015c06a0bd3",
            "d290429c6d104348b4c36642710df9ed",
            "d4bcfee1bdaf4a7eabcd1a80309a6a2e",
            "85b71cb4644242d5928788d31ac2963e",
            "4579db3a5ca04c749e6f392536fad372",
            "1b971c131b0b4ed68ef50806b4418ed7",
            "25ff0dd1ceaf4dab817068e32555c342",
            "c33f83a98714485c8edc01b06f2c07b9",
            "6a3fc5119876418ca9a88e4618346933",
            "e3212db9363e40d8a90914f3f6344cfd",
            "8f1791ccda4c45848ea22161d571dc2a",
            "8a72af8a91f24776bfe9d606a762101f",
            "da7abb48f01a4e6eac8aef83853888f7",
            "47cc634d7f634d328bf83fcf6b262a3f",
            "3ad09bc4b3f143b58a1546f82e82d5a3",
            "225ca79ecae54e729c83afbcf4f4e937",
            "53fc2bff1263490b823b0dd37acba3a4",
            "5401ae8b98264f19a808b26fdbf1b598",
            "2f803c140e384001a55ac6dc4dde7f31",
            "0d0be0d46997425d8ebd672393a891f6",
            "a87ce561e37e49659a814d8a5fc2a21e",
            "889c844254974eda84e7f3352f189d0a",
            "fcca847c2dd5425a82f504308e6b4367",
            "4d696f3638f14040aba2dbc8153a7d3b",
            "467e6f0bac224f93a194744f24eec168",
            "a90078ae620f467fad2e0ba4b84b0bda",
            "3478031b0db843c58748d315daacb304"
          ]
        },
        "id": "5kyTw2n1edte",
        "outputId": "54fe5e9a-f792-445e-deea-6d4e772023a9"
      },
      "outputs": [
        {
          "data": {
            "application/vnd.jupyter.widget-view+json": {
              "model_id": "b34357e74ea9462ab85213bee19677e0",
              "version_major": 2,
              "version_minor": 0
            },
            "text/plain": [
              "README.md:   0%|          | 0.00/603 [00:00<?, ?B/s]"
            ]
          },
          "metadata": {},
          "output_type": "display_data"
        },
        {
          "data": {
            "application/vnd.jupyter.widget-view+json": {
              "model_id": "c74e887681304a60a3f32743c25b037f",
              "version_major": 2,
              "version_minor": 0
            },
            "text/plain": [
              "cot-00000-of-00001.parquet:   0%|          | 0.00/106M [00:00<?, ?B/s]"
            ]
          },
          "metadata": {},
          "output_type": "display_data"
        },
        {
          "data": {
            "application/vnd.jupyter.widget-view+json": {
              "model_id": "e6701f1b017343bda47fbf1c328ee458",
              "version_major": 2,
              "version_minor": 0
            },
            "text/plain": [
              "Generating cot split:   0%|          | 0/19252 [00:00<?, ? examples/s]"
            ]
          },
          "metadata": {},
          "output_type": "display_data"
        },
        {
          "data": {
            "application/vnd.jupyter.widget-view+json": {
              "model_id": "adf50b80c7634be79ff8905f6f7d128a",
              "version_major": 2,
              "version_minor": 0
            },
            "text/plain": [
              "README.md:   0%|          | 0.00/982 [00:00<?, ?B/s]"
            ]
          },
          "metadata": {},
          "output_type": "display_data"
        },
        {
          "data": {
            "application/vnd.jupyter.widget-view+json": {
              "model_id": "1b971c131b0b4ed68ef50806b4418ed7",
              "version_major": 2,
              "version_minor": 0
            },
            "text/plain": [
              "train-00000-of-00001.parquet:   0%|          | 0.00/117M [00:00<?, ?B/s]"
            ]
          },
          "metadata": {},
          "output_type": "display_data"
        },
        {
          "data": {
            "application/vnd.jupyter.widget-view+json": {
              "model_id": "53fc2bff1263490b823b0dd37acba3a4",
              "version_major": 2,
              "version_minor": 0
            },
            "text/plain": [
              "Generating train split:   0%|          | 0/100000 [00:00<?, ? examples/s]"
            ]
          },
          "metadata": {},
          "output_type": "display_data"
        }
      ],
      "source": [
        "from datasets import load_dataset\n",
        "reasoning_dataset = load_dataset(\"unsloth/OpenMathReasoning-mini\", split = \"cot\")\n",
        "non_reasoning_dataset = load_dataset(\"mlabonne/FineTome-100k\", split = \"train\")"
      ]
    },
    {
      "cell_type": "markdown",
      "metadata": {
        "id": "PTZICZtie3lQ"
      },
      "source": [
        "Let's see the structure of both datasets:"
      ]
    },
    {
      "cell_type": "code",
      "execution_count": 5,
      "metadata": {
        "colab": {
          "base_uri": "https://localhost:8080/"
        },
        "id": "DjgH3lt0e2Sz",
        "outputId": "c7f9b83d-ba23-46d6-e3ee-c04a6a897d56"
      },
      "outputs": [
        {
          "data": {
            "text/plain": [
              "Dataset({\n",
              "    features: ['expected_answer', 'problem_type', 'problem_source', 'generation_model', 'pass_rate_72b_tir', 'problem', 'generated_solution', 'inference_mode'],\n",
              "    num_rows: 19252\n",
              "})"
            ]
          },
          "execution_count": 5,
          "metadata": {},
          "output_type": "execute_result"
        }
      ],
      "source": [
        "reasoning_dataset"
      ]
    },
    {
      "cell_type": "code",
      "execution_count": 6,
      "metadata": {
        "colab": {
          "base_uri": "https://localhost:8080/"
        },
        "id": "_zoaygOAe3I2",
        "outputId": "e24951db-f3ec-48aa-8e17-8b836115f6ac"
      },
      "outputs": [
        {
          "data": {
            "text/plain": [
              "Dataset({\n",
              "    features: ['conversations', 'source', 'score'],\n",
              "    num_rows: 100000\n",
              "})"
            ]
          },
          "execution_count": 6,
          "metadata": {},
          "output_type": "execute_result"
        }
      ],
      "source": [
        "non_reasoning_dataset"
      ]
    },
    {
      "cell_type": "markdown",
      "metadata": {
        "id": "YX8H3urDe00l"
      },
      "source": [
        "We now convert the reasoning dataset into conversational format:"
      ]
    },
    {
      "cell_type": "code",
      "execution_count": 7,
      "metadata": {
        "id": "LjY75GoYUCB8"
      },
      "outputs": [],
      "source": [
        "def generate_conversation(examples):\n",
        "    problems  = examples[\"problem\"]\n",
        "    solutions = examples[\"generated_solution\"]\n",
        "    conversations = []\n",
        "    for problem, solution in zip(problems, solutions):\n",
        "        conversations.append([\n",
        "            {\"role\" : \"user\",      \"content\" : problem},\n",
        "            {\"role\" : \"assistant\", \"content\" : solution},\n",
        "        ])\n",
        "    return { \"conversations\": conversations, }"
      ]
    },
    {
      "cell_type": "code",
      "execution_count": 8,
      "metadata": {
        "colab": {
          "base_uri": "https://localhost:8080/",
          "height": 49,
          "referenced_widgets": [
            "89e9b1657b41417b8cd5beff6a1c626d",
            "577c5c2d855540c68e7f873bcf189152",
            "5e660635f43544f7863c8596fb68dba8",
            "d48bdc803f644c27bf5760ed089fcd62",
            "d272a81e1ac24988ade1d97b0fb0b05b",
            "55c957af7014421ca1bae5eb120e64b0",
            "c4d0047b12324eb6afc55ea55583076f",
            "16a0b350fe214647aa12cd6f20a6a4d8",
            "a6ce0a4131f34263b5679b94a2ec4848",
            "71209292781a49e3861c7e6a10007e59",
            "6a1d17e87ce94034afd4379def69c7d6"
          ]
        },
        "id": "gbh19fTOfHDB",
        "outputId": "635023f1-98ec-4bb2-fb28-5946e0fd6243"
      },
      "outputs": [
        {
          "data": {
            "application/vnd.jupyter.widget-view+json": {
              "model_id": "89e9b1657b41417b8cd5beff6a1c626d",
              "version_major": 2,
              "version_minor": 0
            },
            "text/plain": [
              "Map:   0%|          | 0/19252 [00:00<?, ? examples/s]"
            ]
          },
          "metadata": {},
          "output_type": "display_data"
        }
      ],
      "source": [
        "reasoning_conversations = tokenizer.apply_chat_template(\n",
        "    reasoning_dataset.map(generate_conversation, batched = True)[\"conversations\"],\n",
        "    tokenize = False,\n",
        ")"
      ]
    },
    {
      "cell_type": "markdown",
      "metadata": {
        "id": "XTexROzQfJn5"
      },
      "source": [
        "Let's see the first transformed row:"
      ]
    },
    {
      "cell_type": "code",
      "execution_count": 9,
      "metadata": {
        "colab": {
          "base_uri": "https://localhost:8080/",
          "height": 105
        },
        "id": "mkj4c6NrfIz3",
        "outputId": "d9527f49-3c23-4023-e8c4-cb0f08df26de"
      },
      "outputs": [
        {
          "data": {
            "application/vnd.google.colaboratory.intrinsic+json": {
              "type": "string"
            },
            "text/plain": [
              "\"<|im_start|>user\\nGiven $\\\\sqrt{x^2+165}-\\\\sqrt{x^2-52}=7$ and $x$ is positive, find all possible values of $x$.<|im_end|>\\n<|im_start|>assistant\\n<think>\\nOkay, let's see. I need to solve the equation √(x² + 165) - √(x² - 52) = 7, and find all positive values of x. Hmm, radicals can be tricky, but maybe if I can eliminate the square roots by squaring both sides. Let me try that.\\n\\nFirst, let me write down the equation again to make sure I have it right:\\n\\n√(x² + 165) - √(x² - 52) = 7.\\n\\nOkay, so the idea is to isolate one of the radicals and then square both sides. Let me try moving the second radical to the other side:\\n\\n√(x² + 165) = 7 + √(x² - 52).\\n\\nNow, if I square both sides, maybe I can get rid of the square roots. Let's do that:\\n\\n(√(x² + 165))² = (7 + √(x² - 52))².\\n\\nSimplifying the left side:\\n\\nx² + 165 = 49 + 14√(x² - 52) + (√(x² - 52))².\\n\\nThe right side is expanded using the formula (a + b)² = a² + 2ab + b². So the right side becomes 7² + 2*7*√(x² - 52) + (√(x² - 52))², which is 49 + 14√(x² - 52) + (x² - 52).\\n\\nSo putting it all together:\\n\\nx² + 165 = 49 + 14√(x² - 52) + x² - 52.\\n\\nHmm, let's simplify the right side. The x² terms will cancel out, right? Let's subtract x² from both sides:\\n\\n165 = 49 + 14√(x² - 52) - 52.\\n\\nSimplify the constants on the right:\\n\\n49 - 52 is -3, so:\\n\\n165 = -3 + 14√(x² - 52).\\n\\nNow, add 3 to both sides to isolate the radical term:\\n\\n165 + 3 = 14√(x² - 52).\\n\\nSo 168 = 14√(x² - 52).\\n\\nDivide both sides by 14:\\n\\n168 / 14 = √(x² - 52).\\n\\n12 = √(x² - 52).\\n\\nNow, square both sides again to eliminate the square root:\\n\\n12² = x² - 52.\\n\\n144 = x² - 52.\\n\\nAdd 52 to both sides:\\n\\n144 + 52 = x².\\n\\n196 = x².\\n\\nSo x = √196 = 14.\\n\\nBut wait, since the problem states that x is positive, we only take the positive root. So x = 14.\\n\\nBut hold on, when dealing with squaring equations, sometimes extraneous solutions can come up. I should check if this solution actually satisfies the original equation.\\n\\nLet's plug x = 14 back into the original equation:\\n\\n√(14² + 165) - √(14² - 52) = ?\\n\\nCalculate each term:\\n\\n14² is 196.\\n\\nSo first radical: √(196 + 165) = √361 = 19.\\n\\nSecond radical: √(196 - 52) = √144 = 12.\\n\\nSo 19 - 12 = 7, which is exactly the right-hand side. So yes, it checks out.\\n\\nTherefore, the only solution is x = 14. Since the problem says x is positive, we don't have to consider negative roots. So I think that's the answer.\\n</think>\\n\\nTo solve the equation \\\\(\\\\sqrt{x^2 + 165} - \\\\sqrt{x^2 - 52} = 7\\\\) for positive \\\\(x\\\\), we proceed as follows:\\n\\n1. Start with the given equation:\\n   \\\\[\\n   \\\\sqrt{x^2 + 165} - \\\\sqrt{x^2 - 52} = 7\\n   \\\\]\\n\\n2. Isolate one of the square roots by moving \\\\(\\\\sqrt{x^2 - 52}\\\\) to the right side:\\n   \\\\[\\n   \\\\sqrt{x^2 + 165} = 7 + \\\\sqrt{x^2 - 52}\\n   \\\\]\\n\\n3. Square both sides to eliminate the square root on the left:\\n   \\\\[\\n   (\\\\sqrt{x^2 + 165})^2 = (7 + \\\\sqrt{x^2 - 52})^2\\n   \\\\]\\n   Simplifying both sides, we get:\\n   \\\\[\\n   x^2 + 165 = 49 + 14\\\\sqrt{x^2 - 52} + (x^2 - 52)\\n   \\\\]\\n\\n4. Combine like terms on the right side:\\n   \\\\[\\n   x^2 + 165 = x^2 - 52 + 49 + 14\\\\sqrt{x^2 - 52}\\n   \\\\]\\n   Simplifying further:\\n   \\\\[\\n   x^2 + 165 = x^2 - 3 + 14\\\\sqrt{x^2 - 52}\\n   \\\\]\\n\\n5. Subtract \\\\(x^2\\\\) from both sides:\\n   \\\\[\\n   165 = -3 + 14\\\\sqrt{x^2 - 52}\\n   \\\\]\\n\\n6. Add 3 to both sides to isolate the term with the square root:\\n   \\\\[\\n   168 = 14\\\\sqrt{x^2 - 52}\\n   \\\\]\\n\\n7. Divide both sides by 14:\\n   \\\\[\\n   12 = \\\\sqrt{x^2 - 52}\\n   \\\\]\\n\\n8. Square both sides again to eliminate the square root:\\n   \\\\[\\n   12^2 = x^2 - 52\\n   \\\\]\\n   Simplifying:\\n   \\\\[\\n   144 = x^2 - 52\\n   \\\\]\\n\\n9. Add 52 to both sides to solve for \\\\(x^2\\\\):\\n   \\\\[\\n   196 = x^2\\n   \\\\]\\n\\n10. Take the positive square root (since \\\\(x\\\\) is positive):\\n    \\\\[\\n    x = \\\\sqrt{196} = 14\\n    \\\\]\\n\\n11. Verify the solution by substituting \\\\(x = 14\\\\) back into the original equation:\\n    \\\\[\\n    \\\\sqrt{14^2 + 165} - \\\\sqrt{14^2 - 52} = \\\\sqrt{196 + 165} - \\\\sqrt{196 - 52} = \\\\sqrt{361} - \\\\sqrt{144} = 19 - 12 = 7\\n    \\\\]\\n    The solution checks out.\\n\\nThus, the only positive solution is:\\n\\\\[\\n\\\\boxed{14}\\n\\\\]<|im_end|>\\n\""
            ]
          },
          "execution_count": 9,
          "metadata": {},
          "output_type": "execute_result"
        }
      ],
      "source": [
        "reasoning_conversations[0]"
      ]
    },
    {
      "cell_type": "markdown",
      "metadata": {
        "id": "5OMhyEXkfM5e"
      },
      "source": [
        "Next we take the non reasoning dataset and convert it to conversational format as well.\n",
        "\n",
        "We have to use Unsloth's `standardize_sharegpt` function to fix up the format of the dataset first."
      ]
    },
    {
      "cell_type": "code",
      "execution_count": 10,
      "metadata": {
        "colab": {
          "base_uri": "https://localhost:8080/",
          "height": 49,
          "referenced_widgets": [
            "06f715b3258048d887cd5fa920c95a33",
            "b9e12912a837400e9c77b648b43d5823",
            "458a723a588e4703ad7a8392bfe60bd8",
            "65a30288dd3a41d48c6d2d1095b57e64",
            "a14e385b57864afea2b78cd5046a7ff8",
            "d95e013a6d5a486c957ead861262209e",
            "9416278d39a944319e94fea77c0f7f3d",
            "fc4c8a34b2ca43efb92455a9e5739647",
            "6419049fdf6f4fc79cc453eb7555169f",
            "ca203f2c28dd4459b3a19f5d17308cbd",
            "c24367d6a2284730b70e006ee5c6976d"
          ]
        },
        "id": "nXBFaeQHfSxp",
        "outputId": "7cdbc3a3-a7a9-4385-c86c-3d4b4eef6a4e"
      },
      "outputs": [
        {
          "data": {
            "application/vnd.jupyter.widget-view+json": {
              "model_id": "06f715b3258048d887cd5fa920c95a33",
              "version_major": 2,
              "version_minor": 0
            },
            "text/plain": [
              "Unsloth: Standardizing formats (num_proc=2):   0%|          | 0/100000 [00:00<?, ? examples/s]"
            ]
          },
          "metadata": {},
          "output_type": "display_data"
        }
      ],
      "source": [
        "from unsloth.chat_templates import standardize_sharegpt\n",
        "dataset = standardize_sharegpt(non_reasoning_dataset)\n",
        "\n",
        "non_reasoning_conversations = tokenizer.apply_chat_template(\n",
        "    dataset[\"conversations\"],\n",
        "    tokenize = False,\n",
        ")"
      ]
    },
    {
      "cell_type": "markdown",
      "metadata": {
        "id": "Q9FcosGvfdNr"
      },
      "source": [
        "Let's see the first row"
      ]
    },
    {
      "cell_type": "code",
      "execution_count": 11,
      "metadata": {
        "colab": {
          "base_uri": "https://localhost:8080/",
          "height": 105
        },
        "id": "pb0hbEekfeqf",
        "outputId": "7301b185-9975-4156-d480-907ee098de07"
      },
      "outputs": [
        {
          "data": {
            "application/vnd.google.colaboratory.intrinsic+json": {
              "type": "string"
            },
            "text/plain": [
              "'<|im_start|>user\\nExplain what boolean operators are, what they do, and provide examples of how they can be used in programming. Additionally, describe the concept of operator precedence and provide examples of how it affects the evaluation of boolean expressions. Discuss the difference between short-circuit evaluation and normal evaluation in boolean expressions and demonstrate their usage in code. \\n\\nFurthermore, add the requirement that the code must be written in a language that does not support short-circuit evaluation natively, forcing the test taker to implement their own logic for short-circuit evaluation.\\n\\nFinally, delve into the concept of truthiness and falsiness in programming languages, explaining how it affects the evaluation of boolean expressions. Add the constraint that the test taker must write code that handles cases where truthiness and falsiness are implemented differently across different programming languages.<|im_end|>\\n<|im_start|>assistant\\n<think>\\n\\n</think>\\n\\nBoolean operators are logical operators used in programming to manipulate boolean values. They operate on one or more boolean operands and return a boolean result. The three main boolean operators are \"AND\" (&&), \"OR\" (||), and \"NOT\" (!).\\n\\nThe \"AND\" operator returns true if both of its operands are true, and false otherwise. For example:\\n\\n```python\\nx = 5\\ny = 10\\nresult = (x > 0) and (y < 20)  # This expression evaluates to True\\n```\\n\\nThe \"OR\" operator returns true if at least one of its operands is true, and false otherwise. For example:\\n\\n```python\\nx = 5\\ny = 10\\nresult = (x > 0) or (y < 20)  # This expression evaluates to True\\n```\\n\\nThe \"NOT\" operator negates the boolean value of its operand. It returns true if the operand is false, and false if the operand is true. For example:\\n\\n```python\\nx = 5\\nresult = not (x > 10)  # This expression evaluates to True\\n```\\n\\nOperator precedence refers to the order in which operators are evaluated in an expression. It ensures that expressions are evaluated correctly. In most programming languages, logical AND has higher precedence than logical OR. For example:\\n\\n```python\\nresult = True or False and False  # This expression is evaluated as (True or (False and False)), which is True\\n```\\n\\nShort-circuit evaluation is a behavior where the second operand of a logical operator is not evaluated if the result can be determined based on the value of the first operand. In short-circuit evaluation, if the first operand of an \"AND\" operator is false, the second operand is not evaluated because the result will always be false. Similarly, if the first operand of an \"OR\" operator is true, the second operand is not evaluated because the result will always be true.\\n\\nIn programming languages that support short-circuit evaluation natively, you can use it to improve performance or avoid errors. For example:\\n\\n```python\\nif x != 0 and (y / x) > 10:\\n    # Perform some operation\\n```\\n\\nIn languages without native short-circuit evaluation, you can implement your own logic to achieve the same behavior. Here\\'s an example in pseudocode:\\n\\n```\\nif x != 0 {\\n    if (y / x) > 10 {\\n        // Perform some operation\\n    }\\n}\\n```\\n\\nTruthiness and falsiness refer to how non-boolean values are evaluated in boolean contexts. In many programming languages, non-zero numbers and non-empty strings are considered truthy, while zero, empty strings, and null/None values are considered falsy.\\n\\nWhen evaluating boolean expressions, truthiness and falsiness come into play. For example:\\n\\n```python\\nx = 5\\nresult = x  # The value of x is truthy, so result is also truthy\\n```\\n\\nTo handle cases where truthiness and falsiness are implemented differently across programming languages, you can explicitly check the desired condition. For example:\\n\\n```python\\nx = 5\\nresult = bool(x)  # Explicitly converting x to a boolean value\\n```\\n\\nThis ensures that the result is always a boolean value, regardless of the language\\'s truthiness and falsiness rules.<|im_end|>\\n'"
            ]
          },
          "execution_count": 11,
          "metadata": {},
          "output_type": "execute_result"
        }
      ],
      "source": [
        "non_reasoning_conversations[0]"
      ]
    },
    {
      "cell_type": "markdown",
      "metadata": {
        "id": "c_0L18QMfot4"
      },
      "source": [
        "Now let's see how long both datasets are:"
      ]
    },
    {
      "cell_type": "code",
      "execution_count": 12,
      "metadata": {
        "colab": {
          "base_uri": "https://localhost:8080/"
        },
        "id": "unDFuUq1foWj",
        "outputId": "959b894f-9520-42d1-87f1-01e59b310989"
      },
      "outputs": [
        {
          "name": "stdout",
          "output_type": "stream",
          "text": [
            "19252\n",
            "100000\n"
          ]
        }
      ],
      "source": [
        "print(len(reasoning_conversations))\n",
        "print(len(non_reasoning_conversations))"
      ]
    },
    {
      "cell_type": "markdown",
      "metadata": {
        "id": "dgknnOf7fn3e"
      },
      "source": [
        "The non reasoning dataset is much longer. Let's assume we want the model to retain some reasoning capabilities, but we specifically want a chat model.\n",
        "\n",
        "Let's define a ratio of chat only data. The goal is to define some mixture of both sets of data.\n",
        "\n",
        "Let's select 25% reasoning and 75% chat based:"
      ]
    },
    {
      "cell_type": "code",
      "execution_count": 13,
      "metadata": {
        "id": "_szfriCBgCkU"
      },
      "outputs": [],
      "source": [
        "chat_percentage = 0.75"
      ]
    },
    {
      "cell_type": "markdown",
      "metadata": {
        "id": "DANuEJA7gL58"
      },
      "source": [
        "Let's sample the reasoning dataset by 25% (or whatever is 100% - chat_percentage)"
      ]
    },
    {
      "cell_type": "code",
      "execution_count": 14,
      "metadata": {
        "id": "7-e0KO9GgFy3"
      },
      "outputs": [],
      "source": [
        "import pandas as pd\n",
        "non_reasoning_subset = pd.Series(non_reasoning_conversations)\n",
        "non_reasoning_subset = non_reasoning_subset.sample(\n",
        "    int(len(reasoning_conversations) * (1.0 - chat_percentage)),\n",
        "    random_state = 2407,\n",
        ")"
      ]
    },
    {
      "cell_type": "markdown",
      "metadata": {
        "id": "qR-4prS_gVel"
      },
      "source": [
        "Finally combine both datasets:"
      ]
    },
    {
      "cell_type": "code",
      "execution_count": 15,
      "metadata": {
        "id": "jfV47_SXgXH4"
      },
      "outputs": [],
      "source": [
        "data = pd.concat([\n",
        "    pd.Series(reasoning_conversations),\n",
        "    pd.Series(non_reasoning_subset)\n",
        "])\n",
        "data.name = \"text\"\n",
        "\n",
        "from datasets import Dataset\n",
        "combined_dataset = Dataset.from_pandas(pd.DataFrame(data))\n",
        "combined_dataset = combined_dataset.shuffle(seed = 3407)"
      ]
    },
    {
      "cell_type": "code",
      "execution_count": 17,
      "metadata": {
        "colab": {
          "base_uri": "https://localhost:8080/"
        },
        "id": "SgVofXTQAKGx",
        "outputId": "65d5149a-80b1-4f55-aa3a-34b831d195a4"
      },
      "outputs": [
        {
          "data": {
            "text/plain": [
              "Dataset({\n",
              "    features: ['text', '__index_level_0__'],\n",
              "    num_rows: 24065\n",
              "})"
            ]
          },
          "execution_count": 17,
          "metadata": {},
          "output_type": "execute_result"
        }
      ],
      "source": [
        "combined_dataset"
      ]
    },
    {
      "cell_type": "markdown",
      "metadata": {
        "id": "idAEIeSQ3xdS"
      },
      "source": [
        "<a name=\"Train\"></a>\n",
        "### Train the model\n",
        "Now let's use Huggingface TRL's `SFTTrainer`! More docs here: [TRL SFT docs](https://huggingface.co/docs/trl/sft_trainer). We do 60 steps to speed things up, but you can set `num_train_epochs=1` for a full run, and turn off `max_steps=None`."
      ]
    },
    {
      "cell_type": "code",
      "execution_count": 18,
      "metadata": {
        "colab": {
          "base_uri": "https://localhost:8080/",
          "height": 49,
          "referenced_widgets": [
            "162169da4f854aaeace81bb525fdd9ec",
            "95d20ea4738d4dff88bfe13ab5bee649",
            "af741bb1582d4fbb9d2a0c0cde2609b9",
            "416ec71100944e34a9caa1738d9ea6bd",
            "884237212c9741078ce1af3b1f0bb99f",
            "362d6f0ae6894f1298b0c2103ec45461",
            "5a3f770ab78c4f43a8e44b8e7c2a4754",
            "cb3418c53282420aa5617d5ef31a73e7",
            "ed4eb3beace040e79c3efb8a32adcfc8",
            "5af93ac99ca44ee3ad584034d5f2aac1",
            "d3963df9bc6f4ac88e32cc5f62e6e7c4"
          ]
        },
        "id": "95_Nn-89DhsL",
        "outputId": "69a9c0aa-0e81-4584-9d3a-0ae35a2aa791"
      },
      "outputs": [
        {
          "data": {
            "application/vnd.jupyter.widget-view+json": {
              "model_id": "162169da4f854aaeace81bb525fdd9ec",
              "version_major": 2,
              "version_minor": 0
            },
            "text/plain": [
              "Unsloth: Tokenizing [\"text\"] (num_proc=2):   0%|          | 0/24065 [00:00<?, ? examples/s]"
            ]
          },
          "metadata": {},
          "output_type": "display_data"
        }
      ],
      "source": [
        "from trl import SFTTrainer, SFTConfig\n",
        "\n",
        "trainer = SFTTrainer(\n",
        "    model = model,\n",
        "    tokenizer = tokenizer,\n",
        "    train_dataset = combined_dataset,\n",
        "    eval_dataset = None, # Can set up evaluation!\n",
        "    args = SFTConfig(\n",
        "        dataset_text_field = \"text\",\n",
        "        per_device_train_batch_size = 2,\n",
        "        gradient_accumulation_steps = 4, # Use GA to mimic batch size!\n",
        "        warmup_steps = 5,\n",
        "        # num_train_epochs = 1, # Set this for 1 full training run.\n",
        "        max_steps = 30,\n",
        "        learning_rate = 2e-4, # Reduce to 2e-5 for long training runs\n",
        "        logging_steps = 1,\n",
        "        optim = \"adamw_8bit\",\n",
        "        weight_decay = 0.01,\n",
        "        lr_scheduler_type = \"linear\",\n",
        "        seed = 3407,\n",
        "        report_to = \"none\", # Use this for WandB etc\n",
        "    ),\n",
        ")"
      ]
    },
    {
      "cell_type": "code",
      "execution_count": 19,
      "metadata": {
        "colab": {
          "base_uri": "https://localhost:8080/"
        },
        "id": "2ejIt2xSNKKp",
        "outputId": "0accbb2d-e0ee-4854-bfc5-ef0ef03dd636"
      },
      "outputs": [
        {
          "name": "stdout",
          "output_type": "stream",
          "text": [
            "GPU = Tesla T4. Max memory = 14.741 GB.\n",
            "11.898 GB of memory reserved.\n"
          ]
        }
      ],
      "source": [
        "# @title Show current memory stats\n",
        "gpu_stats = torch.cuda.get_device_properties(0)\n",
        "start_gpu_memory = round(torch.cuda.max_memory_reserved() / 1024 / 1024 / 1024, 3)\n",
        "max_memory = round(gpu_stats.total_memory / 1024 / 1024 / 1024, 3)\n",
        "print(f\"GPU = {gpu_stats.name}. Max memory = {max_memory} GB.\")\n",
        "print(f\"{start_gpu_memory} GB of memory reserved.\")"
      ]
    },
    {
      "cell_type": "markdown",
      "metadata": {
        "id": "M9fa371ShyhB"
      },
      "source": [
        "Let's train the model! To resume a training run, set `trainer.train(resume_from_checkpoint = True)`"
      ]
    },
    {
      "cell_type": "code",
      "execution_count": 20,
      "metadata": {
        "colab": {
          "base_uri": "https://localhost:8080/",
          "height": 1000
        },
        "id": "yqxqAZ7KJ4oL",
        "outputId": "b1afd732-beab-4888-8e11-9bec1a5cc43b"
      },
      "outputs": [
        {
          "name": "stderr",
          "output_type": "stream",
          "text": [
            "==((====))==  Unsloth - 2x faster free finetuning | Num GPUs used = 1\n",
            "   \\\\   /|    Num examples = 24,065 | Num Epochs = 1 | Total steps = 30\n",
            "O^O/ \\_/ \\    Batch size per device = 2 | Gradient accumulation steps = 4\n",
            "\\        /    Data Parallel GPUs = 1 | Total batch size (2 x 4 x 1) = 8\n",
            " \"-____-\"     Trainable parameters = 128,450,560/14,000,000,000 (0.92% trained)\n"
          ]
        },
        {
          "name": "stdout",
          "output_type": "stream",
          "text": [
            "Unsloth: Will smartly offload gradients to save VRAM!\n"
          ]
        },
        {
          "data": {
            "text/html": [
              "\n",
              "    <div>\n",
              "      \n",
              "      <progress value='30' max='30' style='width:300px; height:20px; vertical-align: middle;'></progress>\n",
              "      [30/30 36:10, Epoch 0/1]\n",
              "    </div>\n",
              "    <table border=\"1\" class=\"dataframe\">\n",
              "  <thead>\n",
              " <tr style=\"text-align: left;\">\n",
              "      <th>Step</th>\n",
              "      <th>Training Loss</th>\n",
              "    </tr>\n",
              "  </thead>\n",
              "  <tbody>\n",
              "    <tr>\n",
              "      <td>1</td>\n",
              "      <td>0.522900</td>\n",
              "    </tr>\n",
              "    <tr>\n",
              "      <td>2</td>\n",
              "      <td>0.594000</td>\n",
              "    </tr>\n",
              "    <tr>\n",
              "      <td>3</td>\n",
              "      <td>0.727300</td>\n",
              "    </tr>\n",
              "    <tr>\n",
              "      <td>4</td>\n",
              "      <td>0.606300</td>\n",
              "    </tr>\n",
              "    <tr>\n",
              "      <td>5</td>\n",
              "      <td>0.507700</td>\n",
              "    </tr>\n",
              "    <tr>\n",
              "      <td>6</td>\n",
              "      <td>0.503900</td>\n",
              "    </tr>\n",
              "    <tr>\n",
              "      <td>7</td>\n",
              "      <td>0.507700</td>\n",
              "    </tr>\n",
              "    <tr>\n",
              "      <td>8</td>\n",
              "      <td>0.462200</td>\n",
              "    </tr>\n",
              "    <tr>\n",
              "      <td>9</td>\n",
              "      <td>0.428400</td>\n",
              "    </tr>\n",
              "    <tr>\n",
              "      <td>10</td>\n",
              "      <td>0.504700</td>\n",
              "    </tr>\n",
              "    <tr>\n",
              "      <td>11</td>\n",
              "      <td>0.439500</td>\n",
              "    </tr>\n",
              "    <tr>\n",
              "      <td>12</td>\n",
              "      <td>0.457000</td>\n",
              "    </tr>\n",
              "    <tr>\n",
              "      <td>13</td>\n",
              "      <td>0.539500</td>\n",
              "    </tr>\n",
              "    <tr>\n",
              "      <td>14</td>\n",
              "      <td>0.432100</td>\n",
              "    </tr>\n",
              "    <tr>\n",
              "      <td>15</td>\n",
              "      <td>0.435900</td>\n",
              "    </tr>\n",
              "    <tr>\n",
              "      <td>16</td>\n",
              "      <td>0.493500</td>\n",
              "    </tr>\n",
              "    <tr>\n",
              "      <td>17</td>\n",
              "      <td>0.425800</td>\n",
              "    </tr>\n",
              "    <tr>\n",
              "      <td>18</td>\n",
              "      <td>0.449500</td>\n",
              "    </tr>\n",
              "    <tr>\n",
              "      <td>19</td>\n",
              "      <td>0.370400</td>\n",
              "    </tr>\n",
              "    <tr>\n",
              "      <td>20</td>\n",
              "      <td>0.402100</td>\n",
              "    </tr>\n",
              "    <tr>\n",
              "      <td>21</td>\n",
              "      <td>0.418700</td>\n",
              "    </tr>\n",
              "    <tr>\n",
              "      <td>22</td>\n",
              "      <td>0.468000</td>\n",
              "    </tr>\n",
              "    <tr>\n",
              "      <td>23</td>\n",
              "      <td>0.469800</td>\n",
              "    </tr>\n",
              "    <tr>\n",
              "      <td>24</td>\n",
              "      <td>0.469700</td>\n",
              "    </tr>\n",
              "    <tr>\n",
              "      <td>25</td>\n",
              "      <td>0.470500</td>\n",
              "    </tr>\n",
              "    <tr>\n",
              "      <td>26</td>\n",
              "      <td>0.460400</td>\n",
              "    </tr>\n",
              "    <tr>\n",
              "      <td>27</td>\n",
              "      <td>0.362300</td>\n",
              "    </tr>\n",
              "    <tr>\n",
              "      <td>28</td>\n",
              "      <td>0.405100</td>\n",
              "    </tr>\n",
              "    <tr>\n",
              "      <td>29</td>\n",
              "      <td>0.346800</td>\n",
              "    </tr>\n",
              "    <tr>\n",
              "      <td>30</td>\n",
              "      <td>0.386200</td>\n",
              "    </tr>\n",
              "  </tbody>\n",
              "</table><p>"
            ],
            "text/plain": [
              "<IPython.core.display.HTML object>"
            ]
          },
          "metadata": {},
          "output_type": "display_data"
        }
      ],
      "source": [
        "trainer_stats = trainer.train()"
      ]
    },
    {
      "cell_type": "code",
      "execution_count": 21,
      "metadata": {
        "colab": {
          "base_uri": "https://localhost:8080/"
        },
        "id": "pCqnaKmlO1U9",
        "outputId": "30e41ed3-82cd-4032-9044-578b961bb399"
      },
      "outputs": [
        {
          "name": "stdout",
          "output_type": "stream",
          "text": [
            "2258.3848 seconds used for training.\n",
            "37.64 minutes used for training.\n",
            "Peak reserved memory = 14.508 GB.\n",
            "Peak reserved memory for training = 2.61 GB.\n",
            "Peak reserved memory % of max memory = 98.419 %.\n",
            "Peak reserved memory for training % of max memory = 17.706 %.\n"
          ]
        }
      ],
      "source": [
        "# @title Show final memory and time stats\n",
        "used_memory = round(torch.cuda.max_memory_reserved() / 1024 / 1024 / 1024, 3)\n",
        "used_memory_for_lora = round(used_memory - start_gpu_memory, 3)\n",
        "used_percentage = round(used_memory / max_memory * 100, 3)\n",
        "lora_percentage = round(used_memory_for_lora / max_memory * 100, 3)\n",
        "print(f\"{trainer_stats.metrics['train_runtime']} seconds used for training.\")\n",
        "print(\n",
        "    f\"{round(trainer_stats.metrics['train_runtime']/60, 2)} minutes used for training.\"\n",
        ")\n",
        "print(f\"Peak reserved memory = {used_memory} GB.\")\n",
        "print(f\"Peak reserved memory for training = {used_memory_for_lora} GB.\")\n",
        "print(f\"Peak reserved memory % of max memory = {used_percentage} %.\")\n",
        "print(f\"Peak reserved memory for training % of max memory = {lora_percentage} %.\")"
      ]
    },
    {
      "cell_type": "markdown",
      "metadata": {
        "id": "ekOmTR1hSNcr"
      },
      "source": [
        "<a name=\"Inference\"></a>\n",
        "### Inference\n",
        "Let's run the model via Unsloth native inference! According to the `Qwen-3` team, the recommended settings for reasoning inference are `temperature = 0.6, top_p = 0.95, top_k = 20`\n",
        "\n",
        "For normal chat based inference, `temperature = 0.7, top_p = 0.8, top_k = 20`"
      ]
    },
    {
      "cell_type": "code",
      "execution_count": 22,
      "metadata": {
        "colab": {
          "base_uri": "https://localhost:8080/"
        },
        "id": "kR3gIAX-SM2q",
        "outputId": "5d3a04bc-3e93-4d37-a418-09eaf9b6aaf5"
      },
      "outputs": [
        {
          "name": "stdout",
          "output_type": "stream",
          "text": [
            "To solve the equation (x + 2)^2 = 0, we can take the square root of both sides.\n",
            "\n",
            "sqrt((x + 2)^2) = sqrt(0)\n",
            "\n",
            "This simplifies to:\n",
            "\n",
            "|x + 2| = 0\n",
            "\n",
            "Since the absolute value of a number is always non-negative, the only way for |x + 2| to be 0 is if x + 2 = 0.\n",
            "\n",
            "Therefore, x = -2.\n",
            "\n",
            "So the solution to the equation (x + 2)^2 = 0 is x = -2.<|im_end|>\n"
          ]
        }
      ],
      "source": [
        "messages = [\n",
        "    {\"role\" : \"user\", \"content\" : \"Solve (x + 2)^2 = 0.\"}\n",
        "]\n",
        "text = tokenizer.apply_chat_template(\n",
        "    messages,\n",
        "    tokenize = False,\n",
        "    add_generation_prompt = True, # Must add for generation\n",
        "    enable_thinking = False, # Disable thinking\n",
        ")\n",
        "\n",
        "from transformers import TextStreamer\n",
        "_ = model.generate(\n",
        "    **tokenizer(text, return_tensors = \"pt\").to(\"cuda\"),\n",
        "    max_new_tokens = 256, # Increase for longer outputs!\n",
        "    temperature = 0.7, top_p = 0.8, top_k = 20, # For non thinking\n",
        "    streamer = TextStreamer(tokenizer, skip_prompt = True),\n",
        ")"
      ]
    },
    {
      "cell_type": "code",
      "execution_count": 23,
      "metadata": {
        "colab": {
          "base_uri": "https://localhost:8080/"
        },
        "id": "j873RMcEi9uq",
        "outputId": "cc2fe063-e8b5-4a3b-acb1-f035fad0ecc7"
      },
      "outputs": [
        {
          "name": "stdout",
          "output_type": "stream",
          "text": [
            "<think>\n",
            "Okay, so I need to solve the equation (x + 2)^2 = 0. Hmm, let's see. I remember that when you have something squared equals zero, the solution is usually the value that makes the inside zero. Wait, because if you square a number and it equals zero, the only number that does that is zero itself. So, if (x + 2)^2 = 0, then x + 2 must be zero. Let me check that.\n",
            "\n",
            "So, starting with (x + 2)^2 = 0. If I take the square root of both sides, the left side becomes x + 2, and the right side becomes sqrt(0), which is 0. So, x + 2 = 0. Then, solving for x, I subtract 2 from both sides, which gives x = -2. But wait, when you take square roots, sometimes you have to consider both positive and negative roots, but in this case, since the right side is zero, both the positive and negative square roots would still be zero. So, even though usually you have ±sqrt(b), here sqrt(0) is just 0, so it's only one solution. Therefore, x = -2 is the only solution. Let me confirm by plugging it back into the original equation. If x = -2, then (-2 + 2)^2 = 0^2 = 0, which matches the original equation. So that works. I think that's it. The solution is x = -2, and since it's a square, it's a repeated root, so multiplicity two, but the answer is still just -2.\n",
            "</think>\n",
            "\n",
            "To solve the equation (x + 2)^2 = 0, we start by recognizing that a square of a real number is zero only if the number itself is zero. Therefore, we set the expression inside the square equal to zero:\n",
            "\n",
            "x + 2 = 0\n",
            "\n",
            "Solving for x, we subtract 2 from both sides:\n",
            "\n",
            "x = -2\n",
            "\n",
            "This is the only solution because the square of any non-zero real number is positive, and the square of zero is zero. Thus, the solution to the equation is x = -2.<|im_end|>\n"
          ]
        }
      ],
      "source": [
        "messages = [\n",
        "    {\"role\" : \"user\", \"content\" : \"Solve (x + 2)^2 = 0.\"}\n",
        "]\n",
        "text = tokenizer.apply_chat_template(\n",
        "    messages,\n",
        "    tokenize = False,\n",
        "    add_generation_prompt = True, # Must add for generation\n",
        "    enable_thinking = True, # Disable thinking\n",
        ")\n",
        "\n",
        "from transformers import TextStreamer\n",
        "_ = model.generate(\n",
        "    **tokenizer(text, return_tensors = \"pt\").to(\"cuda\"),\n",
        "    max_new_tokens = 1024, # Increase for longer outputs!\n",
        "    temperature = 0.6, top_p = 0.95, top_k = 20, # For thinking\n",
        "    streamer = TextStreamer(tokenizer, skip_prompt = True),\n",
        ")"
      ]
    }
  ],
  "metadata": {
    "accelerator": "GPU",
    "colab": {
      "gpuType": "T4",
      "provenance": []
    },
    "kernelspec": {
      "display_name": ".venv",
      "language": "python",
      "name": "python3"
    },
    "language_info": {
      "codemirror_mode": {
        "name": "ipython",
        "version": 3
      },
      "file_extension": ".py",
      "mimetype": "text/x-python",
      "name": "python",
      "nbconvert_exporter": "python",
      "pygments_lexer": "ipython3",
      "version": "3.12.8"
    }
  },
  "nbformat": 4,
  "nbformat_minor": 0
}
