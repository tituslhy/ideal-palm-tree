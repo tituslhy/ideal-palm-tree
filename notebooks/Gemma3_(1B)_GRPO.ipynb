{
  "cells": [
    {
      "cell_type": "markdown",
      "metadata": {
        "id": "gSRvzMZfroqY"
      },
      "source": [
        "To run this, press \"*Runtime*\" and press \"*Run all*\" on a **free** Tesla T4 Google Colab instance!\n",
        "<div class=\"align-center\">\n",
        "<a href=\"https://unsloth.ai/\"><img src=\"https://github.com/unslothai/unsloth/raw/main/images/unsloth%20new%20logo.png\" width=\"115\"></a>\n",
        "<a href=\"https://discord.gg/unsloth\"><img src=\"https://github.com/unslothai/unsloth/raw/main/images/Discord button.png\" width=\"145\"></a>\n",
        "<a href=\"https://docs.unsloth.ai/\"><img src=\"https://github.com/unslothai/unsloth/blob/main/images/documentation%20green%20button.png?raw=true\" width=\"125\"></a></a> Join Discord if you need help + ⭐ <i>Star us on <a href=\"https://github.com/unslothai/unsloth\">Github</a> </i> ⭐\n",
        "</div>\n",
        "\n",
        "To install Unsloth on your own computer, follow the installation instructions on our Github page [here](https://docs.unsloth.ai/get-started/installing-+-updating).\n",
        "\n",
        "You will learn how to do [data prep](#Data), how to [train](#Train), how to [run the model](#Inference), & [how to save it](#Save)\n"
      ]
    },
    {
      "cell_type": "markdown",
      "metadata": {
        "id": "wObyQ-J6roqa"
      },
      "source": [
        "### News"
      ]
    },
    {
      "cell_type": "markdown",
      "metadata": {
        "id": "E4uMR7nhroqb"
      },
      "source": [
        "Read our **[Qwen3 Guide](https://docs.unsloth.ai/basics/qwen3-how-to-run-and-fine-tune)** and check out our new **[Dynamic 2.0](https://docs.unsloth.ai/basics/unsloth-dynamic-2.0-ggufs)** quants which outperforms other quantization methods!\n",
        "\n",
        "Visit our docs for all our [model uploads](https://docs.unsloth.ai/get-started/all-our-models) and [notebooks](https://docs.unsloth.ai/get-started/unsloth-notebooks).\n"
      ]
    },
    {
      "cell_type": "markdown",
      "metadata": {
        "id": "ZFDigGwxroqb"
      },
      "source": [
        "### Installation"
      ]
    },
    {
      "cell_type": "code",
      "execution_count": 1,
      "metadata": {
        "id": "5wxn8ZbEroqb"
      },
      "outputs": [],
      "source": [
        "%%capture\n",
        "import os\n",
        "if \"COLAB_\" not in \"\".join(os.environ.keys()):\n",
        "    !pip install unsloth vllm\n",
        "else:\n",
        "    # [NOTE] Do the below ONLY in Colab! Use [[pip install unsloth vllm]]\n",
        "    !pip install --no-deps unsloth vllm"
      ]
    },
    {
      "cell_type": "code",
      "execution_count": 2,
      "metadata": {
        "id": "79vNnIYmroqc"
      },
      "outputs": [],
      "source": [
        "#@title Colab Extra Install { display-mode: \"form\" }\n",
        "%%capture\n",
        "import os\n",
        "if \"COLAB_\" not in \"\".join(os.environ.keys()):\n",
        "    !pip install unsloth vllm\n",
        "else:\n",
        "    !pip install --no-deps unsloth vllm\n",
        "    # [NOTE] Do the below ONLY in Colab! Use [[pip install unsloth vllm]]\n",
        "    # Skip restarting message in Colab\n",
        "    import sys, re, requests; modules = list(sys.modules.keys())\n",
        "    for x in modules: sys.modules.pop(x) if \"PIL\" in x or \"google\" in x else None\n",
        "    !pip install --no-deps bitsandbytes accelerate xformers==0.0.29.post3 peft \"trl==0.15.2\" triton cut_cross_entropy unsloth_zoo\n",
        "    !pip install sentencepiece protobuf datasets huggingface_hub hf_transfer\n",
        "\n",
        "    # vLLM requirements - vLLM breaks Colab due to reinstalling numpy\n",
        "    f = requests.get(\"https://raw.githubusercontent.com/vllm-project/vllm/refs/heads/main/requirements/common.txt\").content\n",
        "    with open(\"vllm_requirements.txt\", \"wb\") as file:\n",
        "        file.write(re.sub(rb\"(transformers|numpy|xformers)[^\\n]{1,}\\n\", b\"\", f))\n",
        "    !pip install -r vllm_requirements.txt"
      ]
    },
    {
      "cell_type": "markdown",
      "metadata": {
        "id": "Gd2cpn1kaXRA"
      },
      "source": [
        "### Unsloth"
      ]
    },
    {
      "cell_type": "markdown",
      "metadata": {
        "id": "rezoBIE1aXRA"
      },
      "source": [
        "Load up `Gemma 3 1B Instruct`, and set parameters"
      ]
    },
    {
      "cell_type": "code",
      "execution_count": 3,
      "metadata": {
        "colab": {
          "base_uri": "https://localhost:8080/"
        },
        "id": "DkIvEkIIkEyB",
        "outputId": "f66e38aa-d5cb-4dbc-8f89-19ab002ce111"
      },
      "outputs": [
        {
          "output_type": "stream",
          "name": "stdout",
          "text": [
            "🦥 Unsloth: Will patch your computer to enable 2x faster free finetuning.\n",
            "🦥 Unsloth Zoo will now patch everything to make training faster!\n",
            "INFO 05-07 08:08:27 [importing.py:53] Triton module has been replaced with a placeholder.\n",
            "INFO 05-07 08:08:28 [__init__.py:239] Automatically detected platform cuda.\n",
            "==((====))==  Unsloth 2025.4.7: Fast Gemma3 patching. Transformers: 4.51.3. vLLM: 0.8.5.post1.\n",
            "   \\\\   /|    Tesla T4. Num GPUs = 1. Max memory: 14.741 GB. Platform: Linux.\n",
            "O^O/ \\_/ \\    Torch: 2.6.0+cu124. CUDA: 7.5. CUDA Toolkit: 12.4. Triton: 3.2.0\n",
            "\\        /    Bfloat16 = FALSE. FA [Xformers = 0.0.29.post3. FA2 = False]\n",
            " \"-____-\"     Free license: http://github.com/unslothai/unsloth\n",
            "Unsloth: Fast downloading is enabled - ignore downloading bars which are red colored!\n",
            "Unsloth: Using float16 precision for gemma3 won't work! Using float32.\n"
          ]
        }
      ],
      "source": [
        "from unsloth import FastModel\n",
        "import torch\n",
        "max_seq_length = 1024 #if you increase it to 2048 it'll cause an out-of-memory error.\n",
        "\n",
        "fourbit_models = [\n",
        "    # 4bit dynamic quants for superior accuracy and low memory use\n",
        "    \"unsloth/gemma-3-1b-it-unsloth-bnb-4bit\",\n",
        "    \"unsloth/gemma-3-4b-it-unsloth-bnb-4bit\",\n",
        "    \"unsloth/gemma-3-12b-it-unsloth-bnb-4bit\",\n",
        "    \"unsloth/gemma-3-27b-it-unsloth-bnb-4bit\",\n",
        "\n",
        "    # Other popular models!\n",
        "    \"unsloth/Llama-3.1-8B\",\n",
        "    \"unsloth/Llama-3.2-3B\",\n",
        "    \"unsloth/Llama-3.3-70B\",\n",
        "    \"unsloth/mistral-7b-instruct-v0.3\",\n",
        "    \"unsloth/Phi-4\",\n",
        "] # More models at https://huggingface.co/unsloth\n",
        "\n",
        "model, tokenizer = FastModel.from_pretrained(\n",
        "    model_name = \"unsloth/gemma-3-1b-it\",\n",
        "    max_seq_length = max_seq_length, # Choose any for long context!\n",
        "    load_in_4bit = True,  # 4 bit quantization to reduce memory\n",
        "    load_in_8bit = False, # [NEW!] A bit more accurate, uses 2x memory\n",
        "    full_finetuning = False, # [NEW!] We have full finetuning now!\n",
        "    # token = \"hf_...\", # use one if using gated models\n",
        ")"
      ]
    },
    {
      "cell_type": "markdown",
      "metadata": {
        "id": "6nHQVsQJ2roh"
      },
      "source": [
        "We now add LoRA adapters so we only need to update a small amount of parameters!"
      ]
    },
    {
      "cell_type": "code",
      "execution_count": 4,
      "metadata": {
        "colab": {
          "base_uri": "https://localhost:8080/"
        },
        "id": "uNuwc5sJ2pYK",
        "outputId": "dea76538-9232-491c-aac7-7015ad00bfc0"
      },
      "outputs": [
        {
          "output_type": "stream",
          "name": "stdout",
          "text": [
            "Unsloth: Making `model.base_model.model.model` require gradients\n"
          ]
        }
      ],
      "source": [
        "model = FastModel.get_peft_model(\n",
        "    model,\n",
        "    finetune_vision_layers     = False, # Turn off for just text!\n",
        "    finetune_language_layers   = True,  # Should leave on!\n",
        "    finetune_attention_modules = True,  # Attention good for GRPO\n",
        "    finetune_mlp_modules       = True,  # SHould leave on always!\n",
        "\n",
        "    r = 8,           # Larger = higher accuracy, but might overfit\n",
        "    lora_alpha = 8,  # Recommended alpha == r at least\n",
        "    lora_dropout = 0,\n",
        "    bias = \"none\",\n",
        "    random_state = 3407,\n",
        ")"
      ]
    },
    {
      "cell_type": "markdown",
      "metadata": {
        "id": "7KGgPgk_5S8r"
      },
      "source": [
        "### Data Prep\n",
        "<a name=\"Data\"></a>\n",
        "\n",
        "We're using OpenAI's famous GSM8K dataset!"
      ]
    },
    {
      "cell_type": "code",
      "execution_count": 5,
      "metadata": {
        "colab": {
          "base_uri": "https://localhost:8080/"
        },
        "id": "zEibULDtlOMU",
        "outputId": "d0d4d075-338b-4725-86dd-ca016d4cf7a2"
      },
      "outputs": [
        {
          "output_type": "execute_result",
          "data": {
            "text/plain": [
              "Dataset({\n",
              "    features: ['question', 'answer'],\n",
              "    num_rows: 7473\n",
              "})"
            ]
          },
          "metadata": {},
          "execution_count": 5
        }
      ],
      "source": [
        "from datasets import load_dataset\n",
        "dataset = load_dataset(\"openai/gsm8k\", \"main\", split = \"train\")\n",
        "dataset"
      ]
    },
    {
      "cell_type": "markdown",
      "metadata": {
        "id": "GRfa3z_atGgT"
      },
      "source": [
        "Let's look at the first row:"
      ]
    },
    {
      "cell_type": "code",
      "execution_count": 6,
      "metadata": {
        "colab": {
          "base_uri": "https://localhost:8080/",
          "height": 53
        },
        "id": "rIRsNJ_YitXl",
        "outputId": "7b39b4dd-3d80-45bb-9c45-2df9f06aa3b7"
      },
      "outputs": [
        {
          "output_type": "execute_result",
          "data": {
            "text/plain": [
              "'Natalia sold clips to 48 of her friends in April, and then she sold half as many clips in May. How many clips did Natalia sell altogether in April and May?'"
            ],
            "application/vnd.google.colaboratory.intrinsic+json": {
              "type": "string"
            }
          },
          "metadata": {},
          "execution_count": 6
        }
      ],
      "source": [
        "dataset[0][\"question\"]"
      ]
    },
    {
      "cell_type": "code",
      "execution_count": 7,
      "metadata": {
        "colab": {
          "base_uri": "https://localhost:8080/",
          "height": 53
        },
        "id": "B3yJTiFgtKYq",
        "outputId": "31c37f3b-b13b-4c72-c3d7-ac72854f412c"
      },
      "outputs": [
        {
          "output_type": "execute_result",
          "data": {
            "text/plain": [
              "'Natalia sold 48/2 = <<48/2=24>>24 clips in May.\\nNatalia sold 48+24 = <<48+24=72>>72 clips altogether in April and May.\\n#### 72'"
            ],
            "application/vnd.google.colaboratory.intrinsic+json": {
              "type": "string"
            }
          },
          "metadata": {},
          "execution_count": 7
        }
      ],
      "source": [
        "dataset[0][\"answer\"]"
      ]
    },
    {
      "cell_type": "markdown",
      "metadata": {
        "id": "yqq9kGuVtIYn"
      },
      "source": [
        "We notice all answers like about have a ####, so we extract it:"
      ]
    },
    {
      "cell_type": "code",
      "execution_count": 8,
      "metadata": {
        "colab": {
          "base_uri": "https://localhost:8080/",
          "height": 35
        },
        "id": "_5I3BCkViwuC",
        "outputId": "3c6b4a22-ad89-4eb3-ecf1-3e9bc21a3d84"
      },
      "outputs": [
        {
          "output_type": "execute_result",
          "data": {
            "text/plain": [
              "'72'"
            ],
            "application/vnd.google.colaboratory.intrinsic+json": {
              "type": "string"
            }
          },
          "metadata": {},
          "execution_count": 8
        }
      ],
      "source": [
        "def extract_hash_answer(text):\n",
        "    if \"####\" not in text: return None\n",
        "    return text.split(\"####\")[1].strip()\n",
        "extract_hash_answer(dataset[0][\"answer\"])"
      ]
    },
    {
      "cell_type": "markdown",
      "metadata": {
        "id": "FiFNBLyytPCD"
      },
      "source": [
        "We now create a system prompt which can be customized. We add 4 extra symbols for working out or thinking / reasoning sections and a final answer:"
      ]
    },
    {
      "cell_type": "code",
      "execution_count": 9,
      "metadata": {
        "colab": {
          "base_uri": "https://localhost:8080/",
          "height": 53
        },
        "id": "mHjiV3kGi8Y9",
        "outputId": "1348c47e-2355-4fd8-eaf4-b1d28571335b"
      },
      "outputs": [
        {
          "output_type": "execute_result",
          "data": {
            "text/plain": [
              "'You are given a problem.\\nThink about the problem and provide your working out.\\nPlace it between <start_working_out> and <end_working_out>.\\nThen, provide your solution between <SOLUTION></SOLUTION>'"
            ],
            "application/vnd.google.colaboratory.intrinsic+json": {
              "type": "string"
            }
          },
          "metadata": {},
          "execution_count": 9
        }
      ],
      "source": [
        "reasoning_start = \"<start_working_out>\"\n",
        "reasoning_end   = \"<end_working_out>\"\n",
        "solution_start = \"<SOLUTION>\"\n",
        "solution_end = \"</SOLUTION>\"\n",
        "\n",
        "system_prompt = \\\n",
        "f\"\"\"You are given a problem.\n",
        "Think about the problem and provide your working out.\n",
        "Place it between {reasoning_start} and {reasoning_end}.\n",
        "Then, provide your solution between {solution_start}{solution_end}\"\"\"\n",
        "system_prompt"
      ]
    },
    {
      "cell_type": "markdown",
      "metadata": {
        "id": "BFRYlk9ntYTm"
      },
      "source": [
        "Let's map the dataset! and see the first row:"
      ]
    },
    {
      "cell_type": "code",
      "execution_count": 10,
      "metadata": {
        "colab": {
          "base_uri": "https://localhost:8080/"
        },
        "id": "5tkTF5Hmlhl-",
        "outputId": "63cd158f-a126-476d-af7b-87ef16559a70"
      },
      "outputs": [
        {
          "output_type": "execute_result",
          "data": {
            "text/plain": [
              "{'question': 'Natalia sold clips to 48 of her friends in April, and then she sold half as many clips in May. How many clips did Natalia sell altogether in April and May?',\n",
              " 'answer': '72',\n",
              " 'prompt': [{'content': 'You are given a problem.\\nThink about the problem and provide your working out.\\nPlace it between <start_working_out> and <end_working_out>.\\nThen, provide your solution between <SOLUTION></SOLUTION>',\n",
              "   'role': 'system'},\n",
              "  {'content': 'Natalia sold clips to 48 of her friends in April, and then she sold half as many clips in May. How many clips did Natalia sell altogether in April and May?',\n",
              "   'role': 'user'}]}"
            ]
          },
          "metadata": {},
          "execution_count": 10
        }
      ],
      "source": [
        "dataset = dataset.map(lambda x: {\n",
        "    \"prompt\" : [\n",
        "        {\"role\": \"system\", \"content\": system_prompt},\n",
        "        {\"role\": \"user\",   \"content\": x[\"question\"]},\n",
        "    ],\n",
        "    \"answer\": extract_hash_answer(x[\"answer\"]),\n",
        "})\n",
        "dataset[0]"
      ]
    },
    {
      "cell_type": "markdown",
      "metadata": {
        "id": "w6MsfbGUtja0"
      },
      "source": [
        "We create a regex format to match the reasoning sections and answers:"
      ]
    },
    {
      "cell_type": "code",
      "execution_count": 11,
      "metadata": {
        "id": "l5X6oDNDn6Zj"
      },
      "outputs": [],
      "source": [
        "import re\n",
        "\n",
        "match_format = re.compile(\n",
        "    rf\"^[\\s]{{0,}}\"\\\n",
        "    rf\"{reasoning_start}.+?{reasoning_end}.*?\"\\\n",
        "    rf\"{solution_start}(.+?){solution_end}\"\\\n",
        "    rf\"[\\s]{{0,}}$\",\n",
        "    flags = re.MULTILINE | re.DOTALL\n",
        ")"
      ]
    },
    {
      "cell_type": "markdown",
      "metadata": {
        "id": "ME3-UVc6tnYP"
      },
      "source": [
        "We verify it works:"
      ]
    },
    {
      "cell_type": "code",
      "execution_count": 12,
      "metadata": {
        "colab": {
          "base_uri": "https://localhost:8080/"
        },
        "id": "LVvrKUBEtoQD",
        "outputId": "65995b44-fe0a-4aee-b5d5-bc0f93bca4e8"
      },
      "outputs": [
        {
          "output_type": "execute_result",
          "data": {
            "text/plain": [
              "<re.Match object; span=(0, 71), match='<start_working_out>Let me think!<end_working_out>>"
            ]
          },
          "metadata": {},
          "execution_count": 12
        }
      ],
      "source": [
        "match_format.search(\n",
        "    \"<start_working_out>Let me think!<end_working_out>\"\\\n",
        "    \"<SOLUTION>2</SOLUTION>\",\n",
        ")"
      ]
    },
    {
      "cell_type": "markdown",
      "metadata": {
        "id": "Qglh2OxpuQzK"
      },
      "source": [
        "We now want to create a reward function to match the format exactly - we reward it with 3 points if it succeeds:"
      ]
    },
    {
      "cell_type": "code",
      "execution_count": 13,
      "metadata": {
        "id": "g8MPYPvvo1ri"
      },
      "outputs": [],
      "source": [
        "def match_format_exactly(completions, **kwargs):\n",
        "    scores = []\n",
        "    for completion in completions:\n",
        "        score = 0\n",
        "        response = completion[0][\"content\"]\n",
        "        # Match if format is seen exactly!\n",
        "        if match_format.search(response) is not None: score += 3.0\n",
        "        scores.append(score)\n",
        "    return scores"
      ]
    },
    {
      "cell_type": "markdown",
      "metadata": {
        "id": "VqnEZ4msuZyZ"
      },
      "source": [
        "If it fails, we want to reward the model if it at least follows the format partially, by counting each symbol:"
      ]
    },
    {
      "cell_type": "code",
      "execution_count": 14,
      "metadata": {
        "id": "1LlYVZjdpij9"
      },
      "outputs": [],
      "source": [
        "def match_format_approximately(completions, **kwargs):\n",
        "    scores = []\n",
        "    for completion in completions:\n",
        "        score = 0\n",
        "        response = completion[0][\"content\"]\n",
        "        # Count how many keywords are seen - we penalize if too many!\n",
        "        # If we see 1, then plus some points!\n",
        "        score += 0.5 if response.count(reasoning_start) == 1 else -0.5\n",
        "        score += 0.5 if response.count(reasoning_end)   == 1 else -0.5\n",
        "        score += 0.5 if response.count(solution_start)  == 1 else -0.5\n",
        "        score += 0.5 if response.count(solution_end)    == 1 else -0.5\n",
        "        scores.append(score)\n",
        "    return scores"
      ]
    },
    {
      "cell_type": "markdown",
      "metadata": {
        "id": "CBwDVDxtuhWm"
      },
      "source": [
        "Finally, we want to extract the generated answer, and reward or penalize it! We also reward it based on how close the answer is to the true one via ratios:"
      ]
    },
    {
      "cell_type": "code",
      "execution_count": 15,
      "metadata": {
        "id": "jnKYp_IYqFr2"
      },
      "outputs": [],
      "source": [
        "def check_answer(prompts, completions, answer, **kwargs):\n",
        "    question = prompts[0][-1][\"content\"]\n",
        "    responses = [completion[0][\"content\"] for completion in completions]\n",
        "\n",
        "    extracted_responses = [\n",
        "        guess.group(1)\n",
        "        if (guess := match_format.search(r)) is not None else None \\\n",
        "        for r in responses\n",
        "    ]\n",
        "\n",
        "    scores = []\n",
        "    for guess, true_answer in zip(extracted_responses, answer):\n",
        "        score = 0\n",
        "        if guess is None:\n",
        "            scores.append(0)\n",
        "            continue\n",
        "        # Correct answer gets 3 points!\n",
        "        if guess == true_answer:\n",
        "            score += 3.0\n",
        "        # Match if spaces are seen\n",
        "        elif guess.strip() == true_answer.strip():\n",
        "            score += 1.5\n",
        "        else:\n",
        "            # We also reward it if the answer is close via ratios!\n",
        "            # Ie if the answer is within some range, reward it!\n",
        "            try:\n",
        "                ratio = float(guess) / float(true_answer)\n",
        "                if   ratio >= 0.9 and ratio <= 1.1: score += 0.5\n",
        "                elif ratio >= 0.8 and ratio <= 1.2: score += 0.25\n",
        "                else: score -= 1.0 # Penalize wrong answers\n",
        "            except:\n",
        "                score -= 0.5 # Penalize\n",
        "        scores.append(score)\n",
        "    return scores"
      ]
    },
    {
      "cell_type": "markdown",
      "metadata": {
        "id": "BvOYCf1Ly83w"
      },
      "source": [
        "Also sometimes it might not be 1 number as the answer, but like a sentence for example \"The solution is $20\" -> we extract 20."
      ]
    },
    {
      "cell_type": "code",
      "execution_count": 16,
      "metadata": {
        "colab": {
          "base_uri": "https://localhost:8080/"
        },
        "id": "MtFAX3_xy77b",
        "outputId": "7be7ef36-f003-48a2-ebe5-0c7245f99085"
      },
      "outputs": [
        {
          "output_type": "execute_result",
          "data": {
            "text/plain": [
              "['0.34']"
            ]
          },
          "metadata": {},
          "execution_count": 16
        }
      ],
      "source": [
        "match_numbers = re.compile(\n",
        "    rf\"{solution_start}.*?([\\d\\.]{{1,}})\",\n",
        "    flags = re.MULTILINE | re.DOTALL\n",
        ")\n",
        "match_numbers.findall(\"<SOLUTION>  0.34  </SOLUTION>\")"
      ]
    },
    {
      "cell_type": "code",
      "execution_count": 17,
      "metadata": {
        "id": "VqWply0z0DrP"
      },
      "outputs": [],
      "source": [
        "def check_numbers(prompts, completions, answer, **kwargs):\n",
        "    question = prompts[0][-1][\"content\"]\n",
        "    responses = [completion[0][\"content\"] for completion in completions]\n",
        "\n",
        "    extracted_responses = [\n",
        "        guess.group(1)\n",
        "        if (guess := match_numbers.search(r)) is not None else None \\\n",
        "        for r in responses\n",
        "    ]\n",
        "\n",
        "    scores = []\n",
        "    print('*'*20, f\"Question:\\n{question}\", f\"\\nAnswer:\\n{answer[0]}\", f\"\\nResponse:\\n{responses[0]}\", f\"\\nExtracted:\\n{extracted_responses[0]}\")\n",
        "    for guess, true_answer in zip(extracted_responses, answer):\n",
        "        if guess is None:\n",
        "            scores.append(0)\n",
        "            continue\n",
        "        # Convert to numbers\n",
        "        try:\n",
        "            true_answer = float(true_answer.strip())\n",
        "            guess       = float(guess.strip())\n",
        "            scores.append(1.5 if guess == true_answer else 0.0)\n",
        "        except:\n",
        "            scores.append(0)\n",
        "            continue\n",
        "    return scores"
      ]
    },
    {
      "cell_type": "markdown",
      "metadata": {
        "id": "Ux6iqP7z5YOo"
      },
      "source": [
        "<a name=\"Train\"></a>\n",
        "### Train the model\n",
        "\n",
        "Now set up GRPO Trainer and all configurations!"
      ]
    },
    {
      "cell_type": "markdown",
      "source": [],
      "metadata": {
        "id": "o8I9Ef185pht"
      }
    },
    {
      "cell_type": "markdown",
      "metadata": {
        "id": "r9Mv8UZO5hz-"
      },
      "source": [
        "And let's run the trainer! If you scroll up, you'll see a table of rewards. The goal is to see the `reward` column increase!\n",
        "\n",
        "You might have to wait 150 to 200 steps for any action. You'll probably get 0 reward for the first 100 steps. Please be patient!\n",
        "\n",
        "| Step | Training Loss | reward    | reward_std | completion_length | kl       |\n",
        "|------|---------------|-----------|------------|-------------------|----------|\n",
        "| 1    | 0.000000      | 0.125000  | 0.000000   | 200.000000        | 0.000000 |\n",
        "| 2    | 0.000000      | 0.072375  | 0.248112   | 200.000000        | 0.000000 |\n",
        "| 3    | 0.000000      | -0.079000 | 0.163776   | 182.500000        | 0.000005 |\n"
      ]
    },
    {
      "cell_type": "code",
      "execution_count": null,
      "metadata": {
        "colab": {
          "base_uri": "https://localhost:8080/",
          "height": 1000
        },
        "id": "vzOuSVCL_GA9",
        "outputId": "d2dd6a30-f0db-41b0-979f-176cad747afc"
      },
      "outputs": [
        {
          "output_type": "stream",
          "name": "stdout",
          "text": [
            "Unsloth: Switching to float32 training since model cannot work with float16\n"
          ]
        },
        {
          "output_type": "stream",
          "name": "stderr",
          "text": [
            "==((====))==  Unsloth - 2x faster free finetuning | Num GPUs used = 1\n",
            "   \\\\   /|    Num examples = 7,473 | Num Epochs = 1 | Total steps = 50\n",
            "O^O/ \\_/ \\    Batch size per device = 4 | Gradient accumulation steps = 1\n",
            "\\        /    Data Parallel GPUs = 1 | Total batch size (4 x 1 x 1) = 4\n",
            " \"-____-\"     Trainable parameters = 6,522,880/1,000,000,000 (0.65% trained)\n",
            "`generation_config` default values have been modified to match model-specific defaults: {'max_length': 32768, 'top_k': 64, 'top_p': 0.95, 'bos_token_id': 2, 'eos_token_id': [1, 106]}. If this is not desired, please set these values explicitly.\n",
            "`use_cache=True` is incompatible with gradient checkpointing. Setting `use_cache=False`.\n"
          ]
        },
        {
          "output_type": "stream",
          "name": "stdout",
          "text": [
            "******************** Question:\n",
            "A concert ticket costs $40. Mr. Benson bought 12 tickets and received a 5% discount for every ticket bought that exceeds 10. How much did Mr. Benson pay in all? \n",
            "Answer:\n",
            "476 \n",
            "Response:\n",
            "<START_WORKING_OUT>\n",
            "Let $T$ be the price of each ticket, which is $T = 40$.\n",
            "Mr. Benson bought 12 tickets, so the total cost before discount is $12 \\times 40 = 480$.\n",
            "He received a 5% discount for every ticket bought that exceeds 10.\n",
            "The tickets that are more than 10 are the tickets that cost at least $11.\n",
            "The number of tickets that cost at least $11$ is the number of tickets bought that are greater than 10.\n",
            "Let $n$ be the number of tickets exceeding 10. Then $n = 12 - 1 = 11$.\n",
            "The discount amount for these $n$ tickets is $5\\%$ of the ticket price.\n",
            "The discount amount for each of these tickets is $5\\%$ of $10$, which is $0.05 \\times 10 = 0.5$.\n",
            "So the discount for each of these tickets is $0.5$.\n",
            "The total discount for these $n$ tickets is $0.5 \\times n = 0.5 \\times 11 = 5.5$.\n",
            "However, we are looking for the amount he pays.\n",
            "The tickets that cost more than 10 are $11, 12, 13, \\dots$. The number of such tickets is $12 - 1 = 11$.\n",
            "The price of each of these tickets is $10 + x$ where $x \\ge 1$.\n",
            "The price of the $x$ tickets is $(10+x)$ and the price of the remaining $11-x$ tickets is $40$.\n",
            "The amount he pays is $11 \\times (40 \\times 0.95) = 11 \\times 38 = 418$.\n",
            "The total cost is $480 + 418 = 898$.\n",
            "However, we are given that the discount is 5% for every ticket that is more than 10.\n",
            "Let $x$ be the number of tickets exceeding 10. Then $x = 12 - 1 = 11$.\n",
            "The price of each ticket exceeding 10 is $10 + x$.\n",
            "The total cost of these tickets is $11(10 + x)$.\n",
            "The total cost before discount is $12 \\times 40 = 480$.\n",
            "The discount is $5\\%$ of the cost of the tickets exceeding 10, so the discount amount is $0.05 \\times (10 + x)$.\n",
            "The total cost after discount is $480 - 0.05(10 + x)$.\n",
            "We want to find the amount he pays, so we want to find $12 \\times 40 + 11 \\times (40 \\times 0.95)$.\n",
            "The total cost is $480 + 11 \\times (38) = 480 + 418 = 898$.\n",
            "The amount he paid is $480 + 418 = 898$.\n",
            "\n",
            "We can also write this as follows:\n",
            "Mr. Benson bought 12 tickets at $40 each.\n",
            "The total cost is $12 \\times 40 = 480$.\n",
            "The 5% discount is applied to tickets exceeding 10.\n",
            "The number of tickets exceeding 10 is $12 - 1 =  \n",
            "Extracted:\n",
            "None\n"
          ]
        },
        {
          "output_type": "display_data",
          "data": {
            "text/plain": [
              "<IPython.core.display.HTML object>"
            ],
            "text/html": [
              "\n",
              "    <div>\n",
              "      \n",
              "      <progress value='24' max='50' style='width:300px; height:20px; vertical-align: middle;'></progress>\n",
              "      [24/50 36:47 < 43:28, 0.01 it/s, Epoch 0.00/1]\n",
              "    </div>\n",
              "    <table border=\"1\" class=\"dataframe\">\n",
              "  <thead>\n",
              " <tr style=\"text-align: left;\">\n",
              "      <th>Step</th>\n",
              "      <th>Training Loss</th>\n",
              "      <th>reward</th>\n",
              "      <th>reward_std</th>\n",
              "      <th>completion_length</th>\n",
              "      <th>kl</th>\n",
              "      <th>rewards / match_format_exactly</th>\n",
              "      <th>rewards / match_format_approximately</th>\n",
              "      <th>rewards / check_answer</th>\n",
              "      <th>rewards / check_numbers</th>\n",
              "    </tr>\n",
              "  </thead>\n",
              "  <tbody>\n",
              "    <tr>\n",
              "      <td>1</td>\n",
              "      <td>-0.000000</td>\n",
              "      <td>-1.500000</td>\n",
              "      <td>1.000000</td>\n",
              "      <td>614.250000</td>\n",
              "      <td>0.000000</td>\n",
              "      <td>0.000000</td>\n",
              "      <td>-1.500000</td>\n",
              "      <td>0.000000</td>\n",
              "      <td>0.000000</td>\n",
              "    </tr>\n",
              "    <tr>\n",
              "      <td>2</td>\n",
              "      <td>0.000000</td>\n",
              "      <td>-1.000000</td>\n",
              "      <td>0.000000</td>\n",
              "      <td>665.000000</td>\n",
              "      <td>0.000000</td>\n",
              "      <td>0.000000</td>\n",
              "      <td>-1.000000</td>\n",
              "      <td>0.000000</td>\n",
              "      <td>0.000000</td>\n",
              "    </tr>\n",
              "    <tr>\n",
              "      <td>3</td>\n",
              "      <td>0.000000</td>\n",
              "      <td>-1.000000</td>\n",
              "      <td>0.816497</td>\n",
              "      <td>397.750000</td>\n",
              "      <td>0.000006</td>\n",
              "      <td>0.000000</td>\n",
              "      <td>-1.000000</td>\n",
              "      <td>0.000000</td>\n",
              "      <td>0.000000</td>\n",
              "    </tr>\n",
              "    <tr>\n",
              "      <td>4</td>\n",
              "      <td>0.000000</td>\n",
              "      <td>-1.750000</td>\n",
              "      <td>0.500000</td>\n",
              "      <td>642.000000</td>\n",
              "      <td>0.000005</td>\n",
              "      <td>0.000000</td>\n",
              "      <td>-1.750000</td>\n",
              "      <td>0.000000</td>\n",
              "      <td>0.000000</td>\n",
              "    </tr>\n",
              "    <tr>\n",
              "      <td>5</td>\n",
              "      <td>0.000000</td>\n",
              "      <td>-1.000000</td>\n",
              "      <td>0.000000</td>\n",
              "      <td>17.000000</td>\n",
              "      <td>0.000095</td>\n",
              "      <td>0.000000</td>\n",
              "      <td>-1.000000</td>\n",
              "      <td>0.000000</td>\n",
              "      <td>0.000000</td>\n",
              "    </tr>\n",
              "    <tr>\n",
              "      <td>6</td>\n",
              "      <td>0.000000</td>\n",
              "      <td>-1.000000</td>\n",
              "      <td>0.000000</td>\n",
              "      <td>686.500000</td>\n",
              "      <td>0.000005</td>\n",
              "      <td>0.000000</td>\n",
              "      <td>-1.000000</td>\n",
              "      <td>0.000000</td>\n",
              "      <td>0.000000</td>\n",
              "    </tr>\n",
              "    <tr>\n",
              "      <td>7</td>\n",
              "      <td>0.000000</td>\n",
              "      <td>-1.750000</td>\n",
              "      <td>0.500000</td>\n",
              "      <td>380.750000</td>\n",
              "      <td>0.000007</td>\n",
              "      <td>0.000000</td>\n",
              "      <td>-1.750000</td>\n",
              "      <td>0.000000</td>\n",
              "      <td>0.000000</td>\n",
              "    </tr>\n",
              "    <tr>\n",
              "      <td>8</td>\n",
              "      <td>0.000000</td>\n",
              "      <td>-1.250000</td>\n",
              "      <td>0.500000</td>\n",
              "      <td>578.250000</td>\n",
              "      <td>0.000019</td>\n",
              "      <td>0.000000</td>\n",
              "      <td>-1.250000</td>\n",
              "      <td>0.000000</td>\n",
              "      <td>0.000000</td>\n",
              "    </tr>\n",
              "    <tr>\n",
              "      <td>9</td>\n",
              "      <td>0.000000</td>\n",
              "      <td>-1.750000</td>\n",
              "      <td>0.500000</td>\n",
              "      <td>768.000000</td>\n",
              "      <td>0.000013</td>\n",
              "      <td>0.000000</td>\n",
              "      <td>-1.750000</td>\n",
              "      <td>0.000000</td>\n",
              "      <td>0.000000</td>\n",
              "    </tr>\n",
              "    <tr>\n",
              "      <td>10</td>\n",
              "      <td>0.000000</td>\n",
              "      <td>-1.000000</td>\n",
              "      <td>0.000000</td>\n",
              "      <td>768.000000</td>\n",
              "      <td>0.000005</td>\n",
              "      <td>0.000000</td>\n",
              "      <td>-1.000000</td>\n",
              "      <td>0.000000</td>\n",
              "      <td>0.000000</td>\n",
              "    </tr>\n",
              "    <tr>\n",
              "      <td>11</td>\n",
              "      <td>0.000000</td>\n",
              "      <td>-1.000000</td>\n",
              "      <td>0.000000</td>\n",
              "      <td>602.750000</td>\n",
              "      <td>0.000004</td>\n",
              "      <td>0.000000</td>\n",
              "      <td>-1.000000</td>\n",
              "      <td>0.000000</td>\n",
              "      <td>0.000000</td>\n",
              "    </tr>\n",
              "    <tr>\n",
              "      <td>12</td>\n",
              "      <td>0.000000</td>\n",
              "      <td>-1.250000</td>\n",
              "      <td>0.500000</td>\n",
              "      <td>768.000000</td>\n",
              "      <td>0.000010</td>\n",
              "      <td>0.000000</td>\n",
              "      <td>-1.250000</td>\n",
              "      <td>0.000000</td>\n",
              "      <td>0.000000</td>\n",
              "    </tr>\n",
              "    <tr>\n",
              "      <td>13</td>\n",
              "      <td>0.000000</td>\n",
              "      <td>-1.000000</td>\n",
              "      <td>0.000000</td>\n",
              "      <td>6.500000</td>\n",
              "      <td>0.000065</td>\n",
              "      <td>0.000000</td>\n",
              "      <td>-1.000000</td>\n",
              "      <td>0.000000</td>\n",
              "      <td>0.000000</td>\n",
              "    </tr>\n",
              "    <tr>\n",
              "      <td>14</td>\n",
              "      <td>0.000000</td>\n",
              "      <td>-1.000000</td>\n",
              "      <td>0.000000</td>\n",
              "      <td>628.750000</td>\n",
              "      <td>0.000005</td>\n",
              "      <td>0.000000</td>\n",
              "      <td>-1.000000</td>\n",
              "      <td>0.000000</td>\n",
              "      <td>0.000000</td>\n",
              "    </tr>\n",
              "    <tr>\n",
              "      <td>15</td>\n",
              "      <td>0.000000</td>\n",
              "      <td>-1.750000</td>\n",
              "      <td>0.500000</td>\n",
              "      <td>768.000000</td>\n",
              "      <td>0.000030</td>\n",
              "      <td>0.000000</td>\n",
              "      <td>-1.750000</td>\n",
              "      <td>0.000000</td>\n",
              "      <td>0.000000</td>\n",
              "    </tr>\n",
              "    <tr>\n",
              "      <td>16</td>\n",
              "      <td>0.000000</td>\n",
              "      <td>-1.000000</td>\n",
              "      <td>0.000000</td>\n",
              "      <td>168.500000</td>\n",
              "      <td>0.000003</td>\n",
              "      <td>0.000000</td>\n",
              "      <td>-1.000000</td>\n",
              "      <td>0.000000</td>\n",
              "      <td>0.000000</td>\n",
              "    </tr>\n",
              "    <tr>\n",
              "      <td>17</td>\n",
              "      <td>0.000100</td>\n",
              "      <td>-0.750000</td>\n",
              "      <td>0.500000</td>\n",
              "      <td>71.250000</td>\n",
              "      <td>0.003220</td>\n",
              "      <td>0.000000</td>\n",
              "      <td>-0.750000</td>\n",
              "      <td>0.000000</td>\n",
              "      <td>0.000000</td>\n",
              "    </tr>\n",
              "    <tr>\n",
              "      <td>18</td>\n",
              "      <td>0.000000</td>\n",
              "      <td>-1.500000</td>\n",
              "      <td>0.577350</td>\n",
              "      <td>768.000000</td>\n",
              "      <td>0.000021</td>\n",
              "      <td>0.000000</td>\n",
              "      <td>-1.500000</td>\n",
              "      <td>0.000000</td>\n",
              "      <td>0.000000</td>\n",
              "    </tr>\n",
              "    <tr>\n",
              "      <td>19</td>\n",
              "      <td>0.000000</td>\n",
              "      <td>-1.500000</td>\n",
              "      <td>0.577350</td>\n",
              "      <td>502.250000</td>\n",
              "      <td>0.000213</td>\n",
              "      <td>0.000000</td>\n",
              "      <td>-1.500000</td>\n",
              "      <td>0.000000</td>\n",
              "      <td>0.000000</td>\n",
              "    </tr>\n",
              "    <tr>\n",
              "      <td>20</td>\n",
              "      <td>0.000000</td>\n",
              "      <td>-2.000000</td>\n",
              "      <td>0.000000</td>\n",
              "      <td>750.250000</td>\n",
              "      <td>0.000015</td>\n",
              "      <td>0.000000</td>\n",
              "      <td>-2.000000</td>\n",
              "      <td>0.000000</td>\n",
              "      <td>0.000000</td>\n",
              "    </tr>\n",
              "    <tr>\n",
              "      <td>21</td>\n",
              "      <td>0.000100</td>\n",
              "      <td>-1.250000</td>\n",
              "      <td>0.500000</td>\n",
              "      <td>235.000000</td>\n",
              "      <td>0.002915</td>\n",
              "      <td>0.000000</td>\n",
              "      <td>-1.250000</td>\n",
              "      <td>0.000000</td>\n",
              "      <td>0.000000</td>\n",
              "    </tr>\n",
              "    <tr>\n",
              "      <td>22</td>\n",
              "      <td>0.000100</td>\n",
              "      <td>-1.000000</td>\n",
              "      <td>0.000000</td>\n",
              "      <td>44.000000</td>\n",
              "      <td>0.001259</td>\n",
              "      <td>0.000000</td>\n",
              "      <td>-1.000000</td>\n",
              "      <td>0.000000</td>\n",
              "      <td>0.000000</td>\n",
              "    </tr>\n",
              "  </tbody>\n",
              "</table><p>"
            ]
          },
          "metadata": {}
        },
        {
          "output_type": "stream",
          "name": "stdout",
          "text": [
            "Unsloth: Will smartly offload gradients to save VRAM!\n",
            "******************** Question:\n",
            "Jane is trying to decide whether to buy a house or a trailer. A house costs $480,000 and a trailer costs $120,000. Each loan will be paid in monthly installments over 20 years. How much more is the monthly payment on the house compared to the trailer? \n",
            "Answer:\n",
            "1500 \n",
            "Response:\n",
            "<SOLUTION>\n",
            "Let $P_H$ be the monthly payment on the house and $P_T$ be the monthly payment on the trailer.\n",
            "\n",
            "The cost of the house is $480,000, and the monthly payment is $480,000 / 12 = $37,500$.\n",
            "The cost of the trailer is $120,000, and the monthly payment is $120,000 / 12 = $10,000$.\n",
            "\n",
            "The monthly payment on the house is $P_H = \\frac{37,500}{12} = 3125$.\n",
            "The monthly payment on the trailer is $P_T = \\frac{10,000}{12} = 833.33$.\n",
            "\n",
            "The difference in monthly payments is $P_H - P_T = 3125 - 833.33 = 2281.67$.\n",
            "\n",
            "We want to find how much more the monthly payment on the house is compared to the trailer.\n",
            "The difference is $P_H - P_T = 37500 - 10000 = 27500$.\n",
            "The monthly payment on the house is $3125$.\n",
            "The monthly payment on the trailer is $10000/12 = 833.33$.\n",
            "The difference is $3125 - 833.33 = 2281.67$.\n",
            "\n",
            "The monthly payment on the house is $3125$.\n",
            "The monthly payment on the trailer is $10000/12 = 833.33$.\n",
            "The difference is $3125 - 833.33 = 2281.67$.\n",
            "\n",
            "Alternatively, we can find the difference in monthly payments as $37500 - 10000 = 27500$.\n",
            "The difference is $37500 - (480000/12) - (120000/12) = 37500 - 36000 - 10000 = 37500 - 46000 = -18500$.\n",
            "This doesn't make sense.\n",
            "The difference is $37500 - (480000/12 - 120000/12) = 37500 - (480000 - 120000) = 37500 - 360000 = 225000$.\n",
            "Let's calculate the difference as $37500 - 10000 = 27500$.\n",
            "The monthly payment on the house is $P_H = \\frac{37500}{12} = 3125$.\n",
            "The monthly payment on the trailer is $P_T = \\frac{10000}{12} = 833.33$.\n",
            "The difference is $3125 - 833.33 = 2281.67$.\n",
            "The monthly payment on the house is $3125$.\n",
            "The monthly payment on the trailer is $10000/12 = 833. \n",
            "Extracted:\n",
            ".\n",
            "******************** Question:\n",
            "Janet pays $40/hour for 3 hours per week of clarinet lessons and $28/hour for 5 hours a week of piano lessons. How much more does she spend on piano lessons than clarinet lessons in a year? \n",
            "Answer:\n",
            "1040 \n",
            "Response:\n",
            "<start_working_out>\n",
            "Janet’s weekly spending on clarinet lessons: $40/hour * 3 hours/week = $120/week\n",
            "Janet’s weekly spending on piano lessons: $28/hour * 5 hours/week = $140/week\n",
            "Total weekly spending on clarinet and piano: $120 + $140 = $260/week\n",
            "Total yearly spending on clarinet and piano: $260/week * 52 weeks/year = $13,200/year\n",
            "Spending on piano lessons in a year: $140/week * 52 weeks/year = $7,080/year\n",
            "Difference between piano and clarinet spending in a year: $7080 - $13200 = -$6120\n",
            "Since we are looking for how much MORE she spends on piano lessons than clarinet lessons, we should calculate the difference as the amount she spends more on clarinet than piano.\n",
            "Difference = $13200 - $12000 = $1200\n",
            "The amount she spends more on clarinet than piano is $1200.\n",
            "\n",
            "However, we want to find out how much more she spends on piano lessons than clarinet lessons in a year.\n",
            "Difference = (Weekly spending on piano - Weekly spending on clarinet) * 52\n",
            "Difference = ($140 - $120) * 52 = $20 * 52 = $1040\n",
            "So, she spends $1040 more on piano lessons than on clarinet per week.\n",
            "\n",
            "We need to calculate how much more she spends on piano lessons than clarinet in a year.\n",
            "Difference = (Weekly spending on piano - Weekly spending on clarinet) * 52\n",
            "Difference = ($140 - $120) * 52 = $20 * 52 = $1040\n",
            "The amount she spends more on piano lessons than clarinet is $1040.\n",
            "\n",
            "Let's rephrase the question. How much more does she spend on piano lessons than clarinet in a year?\n",
            "Difference = (Weekly spending on piano - Weekly spending on clarinet) * 52\n",
            "Difference = ($140 - $120) * 52 = $20 * 52 = $1040\n",
            "\n",
            "The difference is $1040.\n",
            "The amount she spends more on piano lessons than clarinet is $1040.\n",
            "Let's calculate how much more she spends on piano lessons than clarinet.\n",
            "Let $x$ be the amount spent on clarinet in a year.\n",
            "Let $y$ be the amount spent on piano lessons in a year.\n",
            "We are given that Janet pays $40/hour for 3 hours per week of clarinet lessons and $28/hour for 5 hours a week of piano lessons.\n",
            "So, $x = 40 \\times 3 \\times 52 = 120 \\times 52 = 6240$\n",
            "$y = 28 \\times 5 \\times 52 = 140 \\times 52 = 7080$\n",
            "The difference is $y - x = 7080 - 6240 = 840$\n",
            "The amount she spends more on piano lessons than clarinet is $840.\n",
            "\n",
            "Let $x$ be the amount spent on clarinet per week.\n",
            "$x = 40 \\times 3 \\times 52 = 6240$\n",
            "Let $y \n",
            "Extracted:\n",
            "None\n",
            "******************** Question:\n",
            "Sabrina is collecting herbs to make a poultice for her grandmother. She needs twice as many basil leaves as sage leaves and 5 fewer sage leaves than verbena leaves. If she needs 12 basil leaves, how many leaves total does she need? \n",
            "Answer:\n",
            "29 \n",
            "Response:\n",
            "<START_WORKING_OUT>\n",
            "Let $b$ be the number of basil leaves.\n",
            "Let $s$ be the number of sage leaves.\n",
            "Let $v$ be the number of verbena leaves.\n",
            "\n",
            "We are given that Sabrina needs twice as many basil leaves as sage leaves, so $b = 2s$.\n",
            "We are also given that she needs 5 fewer sage leaves than verbena leaves, so $s = v - 5$.\n",
            "If she needs 12 basil leaves, then $b = 12$.\n",
            "\n",
            "We have the following system of equations:\n",
            "1) $b = 2s$\n",
            "2) $s = v - 5$\n",
            "\n",
            "We can substitute equation (1) into equation (2) to get:\n",
            "$s = v - 5$\n",
            "$s = \\frac{b}{2}$\n",
            "$s = \\frac{12}{2}$\n",
            "$s = 6$\n",
            "\n",
            "Now we can substitute $s=6$ into the second equation to get:\n",
            "$6 = v - 5$\n",
            "$v = 6 + 5$\n",
            "$v = 11$\n",
            "\n",
            "So we have $b=12$, $s=6$, and $v=11$.\n",
            "The total number of leaves is $b+s+v = 12+6+11 = 29$.\n",
            "\n",
            "However, we are asked to find the total number of leaves she needs, which is $b+s+v$.\n",
            "We are given that she needs 12 basil leaves, so $b=12$.\n",
            "We have $b = 2s$, so $12 = 2s$, which means $s = \\frac{12}{2} = 6$.\n",
            "We also have $s = v-5$, so $6 = v-5$, which means $v = 6+5 = 11$.\n",
            "The total number of leaves she needs is $b+s+v = 12 + 6 + 11 = 29$.\n",
            "\n",
            "Let $x$ be the number of sage leaves.\n",
            "Then, the number of basil leaves is $2x$.\n",
            "The number of sage leaves is 5 fewer than the verbena leaves, so $x = v-5$.\n",
            "Thus, $v = x+5$.\n",
            "We are given that she needs 12 basil leaves.\n",
            "So $2x = 12$, which means $x = 6$.\n",
            "Then $v = x+5 = 6+5 = 11$.\n",
            "The total number of leaves is $b+s+v = 2x+s+v = 2x+s+s+5 = 2x+2s+5 = 2x+2(s-5)$.\n",
            "\n",
            "Let $x$ be the number of sage leaves.\n",
            "Then $b = 2x$ and $s = x$.\n",
            "We are given that $s = x-5$, so $x = x-5$, which means $0 = -5$, which is a contradiction.\n",
            "Let $x$ be the number of sage leaves.\n",
            "Then, $b = 2x$ and $s = x$.\n",
            "We are given that $s = x-5$, so $x = x-5$, which means $0 = -5$, which is a contradiction.\n",
            "\n",
            "Let $x$ be the number of sage leaves.\n",
            "Then the number of basil leaves is $2x$.\n",
            "The number of sage leaves is 5 fewer than the verbena leaves, so $x = v-5$.\n",
            "Thus, $ \n",
            "Extracted:\n",
            "None\n",
            "******************** Question:\n",
            "Over the past five years, on July 4th, the high temperature for Washington, DC has been: 90 degrees in 2020, 90 degrees in 2019, 90 degrees in 2018, 79 degrees in 2017 and 71 degrees in 2016. What is the average temperature for July 4th in Washington, DC over the past 5 years? \n",
            "Answer:\n",
            "84 \n",
            "Response:\n",
            "<SOLUTION>100.02777777777778\n",
            " \n",
            "Extracted:\n",
            "100.02777777777778\n",
            "******************** Question:\n",
            "Rene can finish reading 30 pages in 60 minutes. Lulu can read 27 pages in 60 minutes and Cherry can read 25 pages in 60 minutes. If they have been reading for 240 minutes now, how many pages have they finished reading in total? \n",
            "Answer:\n",
            "328 \n",
            "Response:\n",
            "<SOLUTION>\n",
            "Let R be the number of pages Rene finishes in 60 minutes.\n",
            "Let L be the number of pages Lulu finishes in 60 minutes.\n",
            "Let C be the number of pages Cherry finishes in 60 minutes.\n",
            "\n",
            "Rene can finish reading 30 pages in 60 minutes, so R = 30.\n",
            "Lulu can read 27 pages in 60 minutes, so L = 27.\n",
            "Cherry can read 25 pages in 60 minutes, so C = 25.\n",
            "\n",
            "Total pages finished by Rene in 240 minutes = R * 60 = 30 * 60 = 1800 pages.\n",
            "Total pages finished by Lulu in 240 minutes = L * 60 = 27 * 60 = 1620 pages.\n",
            "Total pages finished by Cherry in 240 minutes = C * 60 = 25 * 60 = 1500 pages.\n",
            "\n",
            "Total pages finished by all three = 1800 + 1620 + 1500 = 4920 pages.\n",
            "\n",
            "However, the problem asks how many pages they have finished reading in total.\n",
            "Rene finishes 30 pages in 60 minutes.\n",
            "Lulu finishes 27 pages in 60 minutes.\n",
            "Cherry finishes 25 pages in 60 minutes.\n",
            "Total pages finished by R and L in 60 minutes = 30 + 27 = 57 pages.\n",
            "Total pages finished by R, L, and C in 60 minutes = 57 + 25 = 82 pages.\n",
            "Remaining time = 240 - 82 = 158 minutes.\n",
            "Rene can finish 30 pages in 60 minutes.\n",
            "So, he can finish 30 pages in 60 minutes.\n",
            "The remaining time available is 158 minutes.\n",
            "The number of pages he can finish in 158 minutes is $\\frac{158}{60} \\times 30 = \\frac{158}{60} \\times 30 = \\frac{158}{2} = 79$ pages.\n",
            "So, the total number of pages finished is 57 + 79 = 136 pages.\n",
            "\n",
            "But we want to find the total number of pages finished by Rene, Lulu, and Cherry in 240 minutes.\n",
            "Rene finishes 30 pages in 60 minutes.\n",
            "Lulu finishes 27 pages in 60 minutes.\n",
            "Cherry finishes 25 pages in 60 minutes.\n",
            "Total pages finished = 30 + 27 + 25 = 82 pages.\n",
            "Remaining time = 240 - 82 = 158 minutes.\n",
            "Rene can finish $\\frac{158}{60}$ of the 30 pages in 60 minutes.\n",
            "The number of pages finished by Rene is $\\frac{158}{60} \\times 30 = \\frac{158}{2} = 79$ pages.\n",
            "Total pages finished = 79 + 27 + 25 = 121 pages.\n",
            "The remaining time is 240 - 121 = 119 minutes.\n",
            "Rene can finish $\\frac{119}{60}$ of the 30 pages in 60 minutes.\n",
            "The number of pages finished \n",
            "Extracted:\n",
            "60\n",
            "******************** Question:\n",
            "Martin rings the small bell 4 times more than 1/3 as often as the big bell. If he rings both of them a combined total of 52 times, how many times does he ring the big bell? \n",
            "Answer:\n",
            "36 \n",
            "Response:\n",
            "<START_WORKING_OUT>\n",
            "\n",
            "Let $x$ be the number of times the small bell is rung.\n",
            "Let $y$ be the number of times the big bell is rung.\n",
            "We are given that Martin rings the small bell 4 times more than 1/3 as often as the big bell. This can be written as:\n",
            "$x = \\frac{1}{3}y + 4$\n",
            "\n",
            "We are given that he rings both bells a combined total of 52 times, so we have:\n",
            "$x + y = 52$\n",
            "\n",
            "Now we can substitute the first equation into the second equation:\n",
            "$(\\frac{1}{3}y + 4) + y = 52$\n",
            "$\\frac{1}{3}y + y + 4 = 52$\n",
            "$\\frac{1}{3}y + y = 52 - 4$\n",
            "$\\frac{1}{3}y + y = 48$\n",
            "$\\frac{4}{3}y = 48$\n",
            "$y = 48 \\times \\frac{3}{4}$\n",
            "$y = 12 \\times 3$\n",
            "$y = 36$\n",
            "\n",
            "Now that we have $y = 36$, we can find $x$:\n",
            "$x = \\frac{1}{3}y + 4$\n",
            "$x = \\frac{1}{3}(36) + 4$\n",
            "$x = 12 + 4$\n",
            "$x = 16$\n",
            "\n",
            "So, Martin rings the small bell 16 times and the big bell 36 times.\n",
            "We are asked how many times he rings the big bell.\n",
            "The number of times he rings the big bell is $y = 36$.\n",
            "\n",
            "Final Answer: The final answer is $\\boxed{36}$ \n",
            "Extracted:\n",
            "None\n",
            "******************** Question:\n",
            "Bert fills out the daily crossword puzzle in the newspaper every day. He uses up a pencil to fill out the puzzles every two weeks. On average, it takes him 1050 words to use up a pencil. How many words are in each crossword puzzle on average? \n",
            "Answer:\n",
            "75 \n",
            "Response:\n",
            "<SOLUTION>\n",
            "Let $w$ be the number of words in each crossword puzzle on average.\n",
            "We are given that Bert uses up a pencil to fill out the puzzles every two weeks. This means that he uses 1050 words in the first two weeks, and then uses 1050 words in the following two weeks.\n",
            "The total number of words used in two weeks is $1050 \\times 2 = 2100$ words.\n",
            "Since he uses 1050 words every two weeks, the total number of words he uses in a month is $1050 \\times 2 = 2100$ words.\n",
            "However, we are told that he uses 1050 words to fill out the puzzles every two weeks. Thus, we need to find the number of words in each puzzle.\n",
            "Let $N$ be the number of words in each puzzle. Then, $N$ is the number of words used in 2 weeks, which is $1050$ words.\n",
            "Since he uses 1050 words every two weeks, we can write $1050 \\times 2 = 2100$ words.\n",
            "Let $x$ be the number of words in each puzzle. Then $2x = 2100$, so $x = 1050$.\n",
            "However, we are given that he uses up a pencil to fill out the puzzles every two weeks. This means that the number of words used in 2 weeks is $1050$ words.\n",
            "The number of words in each puzzle is $w$, so the total number of words used in two weeks is $2w$.\n",
            "Since he uses up a pencil every two weeks, we can write $2w = 1050$, so $w = \\frac{1050}{2} = 525$.\n",
            "Thus, the number of words in each puzzle is 525.\n",
            "\n",
            "Let $x$ be the number of words in each puzzle.\n",
            "We are given that Bert uses up a pencil every two weeks, so he uses $1050$ words in the first two weeks and $1050$ words in the second two weeks.\n",
            "The total number of words used in these two weeks is $1050 \\times 2 = 2100$.\n",
            "However, he uses 1050 words every two weeks. Let $x$ be the number of words in each puzzle.\n",
            "The number of words in each puzzle is $x$.\n",
            "The number of words used in two weeks is $2x$.\n",
            "We are told he uses up a pencil every two weeks, so we can say that he uses $1050$ words.\n",
            "Let $w$ be the number of words in each puzzle.\n",
            "Then, $2w = 1050$, so $w = 525$.\n",
            "Therefore, the number of words in each puzzle is 525.\n",
            "\n",
            "The number of words in each puzzle is 525.\n",
            "We want to find the number of words in each puzzle on average.\n",
            "Let $N$ be the number of words in each puzzle.\n",
            "Then, $2N = 1050$.\n",
            "$N = 525$.\n",
            "Therefore, the number of words in each puzzle is 525.\n",
            "The number of words in each puzzle is 525.\n",
            "Each puzzle has 525 words.\n",
            "The number of words in each puzzle is 525.\n",
            "The number of words in each puzzle is $\\ \n",
            "Extracted:\n",
            ".\n",
            "******************** Question:\n",
            "Matt can make a batch of a dozen cookies using 2 pounds of flour.  He uses 4 bags of flour each weighing 5 pounds.  If Jim eats 15 cookies how many cookies are left? \n",
            "Answer:\n",
            "105 \n",
            "Response:\n",
            "<START_WORKING_OUT>\n",
            "\n",
            "Let $C$ be the number of cookies Matt makes using 2 pounds of flour.\n",
            "Since he makes a dozen cookies, he needs $12$ pounds of flour.\n",
            "So, $C = \\frac{2}{5}$ pounds of flour.\n",
            "The number of bags of flour he uses is 4 bags.\n",
            "Each bag weighs 5 pounds, so the total weight of 4 bags is $4 \\times 5 = 20$ pounds.\n",
            "However, we are given that he uses 2 pounds of flour.\n",
            "We are given that he makes a dozen cookies using 2 pounds of flour. So, he needs $12$ pounds of flour.\n",
            "The number of bags is 4.\n",
            "Let $x$ be the number of cookies he makes. Then he uses $2x$ pounds of flour.\n",
            "We are given that he uses 2 pounds of flour. So, $2x = 2$, which means $x=1$.\n",
            "So, he makes 1 dozen cookies, which is 12 cookies.\n",
            "He uses 2 pounds of flour.\n",
            "Let $C$ be the number of cookies he makes.\n",
            "We are given that he uses 2 pounds of flour.\n",
            "Let $N$ be the number of cookies he makes.\n",
            "We are given that he uses 2 pounds of flour.\n",
            "We are given that he makes a dozen cookies using 2 pounds of flour.\n",
            "So, $2x = 12$, which means $x=6$.\n",
            "He uses 2 pounds of flour.\n",
            "If he uses 2 pounds of flour to make $x$ cookies, then he makes $\\frac{2x}{5}$ pounds of flour.\n",
            "If he makes $x$ cookies, then he uses $2x$ pounds of flour.\n",
            "We are given that he uses 2 pounds of flour.\n",
            "Let $N$ be the number of cookies he makes.\n",
            "We are given that he makes a dozen cookies, so he needs $12$ pounds of flour.\n",
            "He uses 2 pounds of flour.\n",
            "Let $x$ be the number of cookies he makes.\n",
            "We are given that he uses 2 pounds of flour.\n",
            "The number of cookies he makes is $x$.\n",
            "Let $x$ be the number of cookies he makes.\n",
            "He uses 2 pounds of flour.\n",
            "The number of cookies he makes is a dozen, so $12$ pounds of flour.\n",
            "We are given that he uses 2 pounds of flour.\n",
            "Let $c$ be the number of cookies he makes.\n",
            "Then $2c = 2$ pounds of flour.\n",
            "$c = 1$ dozen cookies.\n",
            "Let $x$ be the number of cookies he makes.\n",
            "We are given that he makes a dozen cookies using 2 pounds of flour.\n",
            "So $x = 12$ pounds of flour.\n",
            "Each bag of flour weighs 5 pounds.\n",
            "The number of bags is 4.\n",
            "The total weight is $4 \\times 5 = 20$ pounds of flour.\n",
            "So $20$ pounds of flour is used to make $x$ cookies.\n",
            "Let $C$ be the number of cookies he makes.\n",
            "Then $2x$ pounds of flour is used.\n",
            "We have $2x = 20$, so $x = 10$.\n",
            "He makes 10 cookies.\n",
            "Let $w$ be the number of cookies he makes.\n",
            "The number of cookies he makes is $x$.\n",
            "He uses 2 pounds of flour.\n",
            "So, $2x = 20$.\n",
            "The number \n",
            "Extracted:\n",
            "None\n",
            "******************** Question:\n",
            "James decides to build a tin house by collecting 500 tins in a week. On the first day, he collects 50 tins. On the second day, he manages to collect 3 times that number. On the third day, he collects 50 tins fewer than the number he collected on the second day. If he collects an equal number of tins on the remaining days of the week, what's the number of tins he collected each day for the rest of the week? \n",
            "Answer:\n",
            "50 \n",
            "Response:\n",
            "<SOLUTION>\n",
            "Let $T_i$ be the number of tins collected on day $i$, where $i$ ranges from 1 to 7.\n",
            "On the first day, James collects 50 tins, so $T_1 = 50$.\n",
            "On the second day, he collects 3 times that number, so $T_2 = 3 \\times 50 = 150$.\n",
            "On the third day, he collects 50 fewer than the number he collected on the second day, so $T_3 = 150 - 50 = 100$.\n",
            "The total number of tins collected in the first three days is $T_1 + T_2 + T_3 = 50 + 150 + 100 = 300$.\n",
            "The remaining number of tins he collected is $500 - 300 = 200$.\n",
            "He collects an equal number of tins on the remaining days of the week, so he collects $x$ tins on each of the remaining days.\n",
            "The total number of tins collected in the remaining days is $x \\times 7 = 7x$.\n",
            "So, we have $7x = 200$, which means $x = \\frac{200}{7} \\approx 28.57$. Since the number of tins must be an integer, we can't have fractions of tins.\n",
            "Let $x$ be the number of tins collected on each of the remaining days. Then, the number of tins collected on the remaining days is $7x$.\n",
            "We have $500 - (50 + 150 + 100 + 50x) = 500 - 300 = 200$.\n",
            "So we have $50x + 50x = 200$.\n",
            "$100x = 200$.\n",
            "$x = \\frac{200}{100} = 2$.\n",
            "Thus, the number of tins collected on each of the remaining days is 2.\n",
            "The number of tins collected on each of the remaining days is 2.\n",
            "The total number of tins collected in the remaining days is $7 \\times 2 = 14$.\n",
            "The number of tins collected in the first 3 days is $50 + 150 + 100 = 250$.\n",
            "The remaining tins are $500 - 250 = 250$.\n",
            "The remaining number of tins is $500 - (50 + 150 + 100 + x \\times 7)$\n",
            "$500 - (50 + 150 + 100 + 7x)$\n",
            "$500 - (300 + 7x)$\n",
            "$200 - 7x$\n",
            "He collects an equal number of tins on the remaining days, so let $k$ be the number of tins collected on each of the remaining days. Then, $7k = 200$, so $k = \\frac{200}{7} \\approx 28.57$. Since he collects an integer number of tins, we can say $k=28$ or $k=29$.\n",
            "If he collects 28 tins on each of the remaining days, then the total number of tins collected is $7(28) = 196$. Then he has $500 - 196 = 304$ \n",
            "Extracted:\n",
            "1\n",
            "******************** Question:\n",
            "A jar of jellybeans has 14 blue jellybeans, 26 purple jellybeans and 40 orange jellybeans. If there are 200 jellybeans in the jar, how many are there of the red color? \n",
            "Answer:\n",
            "120 \n",
            "Response:\n",
            "<SOLUTION>\n",
            "Let $B$ be the number of blue jellybeans, $P$ be the number of purple jellybeans, and $O$ be the number of orange jellybeans.\n",
            "We are given that $B=14$, $P=26$, and $O=40$.\n",
            "The total number of jellybeans is $14 + 26 + 40 = 70 + 40 = 100$.\n",
            "We are given that the total number of jellybeans is 200.\n",
            "Let $R$ be the number of red jellybeans.\n",
            "Then, $B + P + O + R = 200$.\n",
            "Substituting the given values, we have\n",
            "$14 + 26 + 40 + R = 200$\n",
            "$14 + 26 + 40 = 14 + 66 = 80$\n",
            "So, $80 + R = 200$\n",
            "$R = 200 - 80 = 120$\n",
            "Thus, there are 120 red jellybeans.\n",
            "\n",
            "However, the problem says that the jar has 14 blue jellybeans, 26 purple jellybeans and 40 orange jellybeans. If there are 200 jellybeans in the jar, how many are there of the red color?\n",
            "Let $B$ be the number of blue jellybeans, $P$ be the number of purple jellybeans, and $O$ be the number of orange jellybeans.\n",
            "We are given that $B=14$, $P=26$, and $O=40$.\n",
            "Let $R$ be the number of red jellybeans.\n",
            "The total number of jellybeans is $B + P + O + R = 200$.\n",
            "Substituting the given values, we have\n",
            "$14 + 26 + 40 + R = 200$\n",
            "$80 + R = 200$\n",
            "$R = 200 - 80 = 120$\n",
            "So, there are 120 red jellybeans.\n",
            "\n",
            "Final Answer: The final answer is $\\boxed{120}$ \n",
            "Extracted:\n",
            ".\n",
            "******************** Question:\n",
            "Five adults and two children go to see a movie and buy $12 worth of concessions. The total cost of their trip is $76. If each child's ticket is $7, how much, in dollars, are the adult tickets? \n",
            "Answer:\n",
            "10 \n",
            "Response:\n",
            "<SOLUTION>\n",
            "Let $a$ be the number of adult tickets and $c$ be the number of children’s tickets.\n",
            "We are given that there are five adults and two children, so $0 \\le a \\le 5$ and $0 \\le c \\le 2$.\n",
            "The total cost of the trip is $76.\n",
            "The cost of the adult tickets is $7a$ and the cost of the children’s tickets is $7c$.\n",
            "The total cost is given by $7a + 7c = 76$.\n",
            "We are given that the total cost is $76$, so $7a + 7c = 76$.\n",
            "Dividing both sides by 7, we have $a + c = \\frac{76}{7} = \\frac{58}{3.5}$.\n",
            "We can simplify the fraction by dividing both numerator and denominator by 1.7, so $a + c = \\frac{76}{7} = \\frac{58}{3.5} = \\frac{580}{35} = \\frac{114}{7}$.\n",
            "This is not an integer.\n",
            "Let's simplify the equation $7a + 7c = 76$.\n",
            "Divide both sides by 7:\n",
            "$a + c = \\frac{76}{7} = \\frac{76}{7} \\approx 10.857$.\n",
            "Since $a$ and $c$ are integers, we can't have $a+c = \\frac{76}{7}$.\n",
            "However, we are given that the total cost is $76$.\n",
            "Let $a$ be the number of adult tickets and $c$ be the number of children's tickets.\n",
            "We are given that there are five adults and two children. So $a+c=5$.\n",
            "The cost of the adult tickets is $7a$ and the cost of the children's tickets is $7c$.\n",
            "The total cost is $7a + 7c = 76$.\n",
            "Dividing both sides by 7, we get $a + c = \\frac{76}{7} = \\frac{19}{1} = 19$.\n",
            "Since $a+c=5$, we can write $a = 5-c$.\n",
            "Substituting this into the equation $a+c=19$, we get\n",
            "$(5-c) + c = 19$\n",
            "$5 = 19$, which is a contradiction.\n",
            "We are given that there are five adults and two children.\n",
            "Let the number of adult tickets be $a$ and the number of children's tickets be $c$.\n",
            "Then, $a + c = 5$.\n",
            "The cost of the adult tickets is $7a$, and the cost of the children's tickets is $7c$.\n",
            "The total cost is $7a + 7c = 76$.\n",
            "Dividing by 7, we get $a + c = \\frac{76}{7} = \\frac{4 \\cdot 19}{7}$.\n",
            "We are given that $a+c = 5$.\n",
            "$7a + 7c = 76$\n",
            "$7(a+c) = 76$\n",
            "$a+c = \\frac{76}{7}$\n",
            "$a+c = 10.857$\n",
            "Since $a$ and $c$ are integers, let $a+c=n$, where $n$ is an integer.\n",
            "We have $ \n",
            "Extracted:\n",
            ".\n",
            "******************** Question:\n",
            "Janelle had 26 green marbles. Then she bought 6 bags of blue marbles. There were 10 marbles in each bag.  She created a gift of 6 green marbles and 8 blue marbles and gave it to a friend. How many marbles does Janelle have now? \n",
            "Answer:\n",
            "72 \n",
            "Response:\n",
            "<SOLUTION>16 \n",
            "Extracted:\n",
            "16\n",
            "******************** Question:\n",
            "Every day in a week, Siena bookmarks 30 website pages from the research she does on her browser. If Siena has 400 bookmarked pages on her bookmarks library now, how many pages will she have in her bookmarks library at the end of March? \n",
            "Answer:\n",
            "1330 \n",
            "Response:\n",
            "<SOLUTION>\n",
            "Let $P$ be the number of pages Siena has in her bookmarks library at the end of March.\n",
            "Siena bookmarks 30 website pages from her research each day.\n",
            "She has 400 pages in her bookmarks library now.\n",
            "The number of pages she bookmarks each day is 30.\n",
            "The number of pages she has in her bookmarks library after $d$ days is $400 + 30d$.\n",
            "We want to find the number of pages she has in her bookmarks library at the end of March. This is the number of pages she has after 31 days.\n",
            "So we have $400 + 30(31) = 400 + 930 = 1330$.\n",
            "Thus, the number of pages she has in her bookmarks library at the end of March is 1330.\n",
            "\n",
            "Let $N$ be the number of pages she bookmarks each day. $N=30$.\n",
            "Let $D$ be the number of days in March. $D=31$.\n",
            "The total number of pages she bookmarks in March is $30 \\times 31 = 930$.\n",
            "The number of pages she has in her bookmarks library is $400 + 930 = 1330$.\n",
            "So at the end of March, she has 1330 pages.\n",
            "\n",
            "Let $x$ be the number of pages she has in her bookmarks library.\n",
            "Siena bookmarks 30 pages each day.\n",
            "So, the number of pages she has after $d$ days is $400 + 30d$.\n",
            "We want to find the number of pages she has in her bookmarks library at the end of March, which is $400 + 30(31) = 400 + 930 = 1330$.\n",
            "\n",
            "Let $N$ be the number of pages she bookmarks on the first day.\n",
            "$N = 30$.\n",
            "On the second day, she bookmarks $30 \\times 2 = 60$ pages.\n",
            "On the third day, she bookmarks $30 \\times 3 = 90$ pages.\n",
            "...\n",
            "On the $d$-th day, she bookmarks $30 \\times d = 30d$ pages.\n",
            "The total number of pages she bookmarks is the sum of the pages she bookmarks each day.\n",
            "So, the total number of pages is $30 + 60 + 90 + \\dots + 30d = 30(1 + 2 + 3 + \\dots + d) = 30 \\times \\frac{d(d+1)}{2}$.\n",
            "The number of pages she has is $400 + 30 \\times 31 = 400 + 930 = 1330$.\n",
            "\n",
            "Thus, at the end of March, she will have 1330 pages.\n",
            "\n",
            "Final Answer: The final answer is $\\boxed{1330}$ \n",
            "Extracted:\n",
            ".\n",
            "******************** Question:\n",
            "An old pirate wants to leave his treasure on an island. He has 3500 gold coins. He wants to spread this equally across 5 chests. Additionally, he will put a total of 500 silver coins and twice as many bronze coins as silver, all distributed equally across the chests. How many coins in total will be in each chest? \n",
            "Answer:\n",
            "1000 \n",
            "Response:\n",
            "<START_WORKING_OUT>\n",
            "\n",
            "Let $x$ be the number of gold coins each chest receives.\n",
            "We are given that the total number of gold coins is 3500.\n",
            "The number of chests is 5.\n",
            "So, $5x = 3500$, which means $x = \\frac{3500}{5} = 700$.\n",
            "Thus, each chest receives 700 gold coins.\n",
            "\n",
            "Now, let $y$ be the number of silver coins each chest receives.\n",
            "We are given that the total number of silver coins is 500.\n",
            "The number of chests is 5.\n",
            "So, $5y = 500$, which means $y = \\frac{500}{5} = 100$.\n",
            "Thus, each chest receives 100 silver coins.\n",
            "\n",
            "Let $z$ be the number of bronze coins each chest receives.\n",
            "We are given that the number of bronze coins is twice the number of silver coins.\n",
            "So, $2y = 2(100) = 200$.\n",
            "Thus, each chest receives 200 bronze coins.\n",
            "\n",
            "The total number of gold coins is $5x = 5(700) = 3500$.\n",
            "The total number of silver coins is $5y = 5(100) = 500$.\n",
            "The total number of bronze coins is $2y = 2(100) = 200$.\n",
            "The total number of coins is $3500 + 500 + 200 = 4200$.\n",
            "\n",
            "However, we are given that the old pirate has 3500 gold coins and wants to distribute it equally across 5 chests.\n",
            "So, each chest receives $\\frac{3500}{5} = 700$ gold coins.\n",
            "Now, we are given that he will put a total of 500 silver coins and twice as many bronze coins as silver coins.\n",
            "Let $n$ be the number of bronze coins. Then, the number of silver coins is $2n$.\n",
            "The total number of silver coins is 500.\n",
            "So, $2n = 500$, which means $n = 250$.\n",
            "Thus, there are 250 bronze coins.\n",
            "The remaining coins are $3500 - 5(700) - 500 = 3500 - 3500 - 500 = -500$.\n",
            "This is not possible, so we have made an error.\n",
            "\n",
            "Let $x$ be the number of gold coins each chest receives.\n",
            "Let $y$ be the number of silver coins each chest receives.\n",
            "Let $z$ be the number of bronze coins each chest receives.\n",
            "We are given that the total number of gold coins is 3500.\n",
            "The number of chests is 5.\n",
            "So, $5x = 3500$, which means $x = 700$.\n",
            "We are given that the total number of silver coins is 500.\n",
            "The number of chests is 5.\n",
            "So, $5y = 500$, which means $y = 100$.\n",
            "We are given that the total number of bronze coins is twice the number of silver coins.\n",
            "So, $2y = 2(100) = 200$.\n",
            "Thus, the number of bronze coins is 200.\n",
            "\n",
            "Total gold coins \n",
            "Extracted:\n",
            "None\n",
            "******************** Question:\n",
            "Ephraim has two machines that make necklaces for his store. On Sunday the first machine made 45 necklaces. The second machine made 2.4 times as many necklaces as the first machine. How many necklaces were made in total on Sunday? \n",
            "Answer:\n",
            "153 \n",
            "Response:\n",
            "<SOLUTION>\n",
            "Let $N_1$ be the number of necklaces made by the first machine on Sunday, and let $N_2$ be the number of necklaces made by the second machine on Sunday.\n",
            "We are given that the first machine made 45 necklaces, so $N_1 = 45$.\n",
            "The second machine made 2.4 times as many necklaces as the first machine, so $N_2 = 2.4 \\times N_1 = 2.4 \\times 45 = 108$.\n",
            "The total number of necklaces made on Sunday is $N_1 + N_2 = 45 + 108 = 153$.\n",
            "\n",
            "Final Answer: The final answer is $\\boxed{153}$ \n",
            "Extracted:\n",
            "1\n",
            "******************** Question:\n",
            "Zach baked cookies for a bake sale. On Monday he baked 32 cookies. On Tuesday he ran out of sugar and could only bake half of the number of cookies he baked the day before. On Wednesday he baked three times the number of cookies he did on Tuesday, but his brother ate 4 of those cookies. How many cookies did he have at the end of the three days? \n",
            "Answer:\n",
            "92 \n",
            "Response:\n",
            "<SOLUTION>\n",
            "16\n",
            " \n",
            "Extracted:\n",
            "16\n",
            "******************** Question:\n",
            "Mark and James need a total of 14 dice that are 12 sided to play their game.  Mark has a bag of 10 dice and 60% of them are 12 sided.  James has a bag of 8 dice and 75% of them are 12 sided.  How many dice will the boys need to buy to play their game? \n",
            "Answer:\n",
            "2 \n",
            "Response:\n",
            "<START_WORKING_OUT>\n",
            "\n",
            "Let $M$ be the number of dice Mark has, and $J$ be the number of dice James has.\n",
            "Mark has a bag of 10 dice and 60% of them are 12-sided. So, the number of 12-sided dice is $0.6 \\times 10 = 6$.\n",
            "The number of 12-sided dice Mark has is 6.\n",
            "The total number of dice Mark has is 10.\n",
            "\n",
            "James has a bag of 8 dice and 75% of them are 12-sided. So, the number of 12-sided dice is $0.75 \\times 8 = 6$.\n",
            "The number of 12-sided dice James has is 6.\n",
            "The total number of dice James has is 8.\n",
            "\n",
            "Let $x$ be the number of dice Mark needs to buy.\n",
            "Let $y$ be the number of dice James needs to buy.\n",
            "Mark needs to buy $x$ dice such that $x$ is the number of 12-sided dice Mark has.\n",
            "So, $x = 6$.\n",
            "James needs to buy $y$ dice such that $y$ is the number of 12-sided dice James has.\n",
            "So, $y = 6$.\n",
            "The total number of dice Mark needs to buy is $x = 6$.\n",
            "The total number of dice James needs to buy is $y = 6$.\n",
            "\n",
            "Let $N$ be the number of dice Mark needs to buy.\n",
            "Let $M$ be the number of 12-sided dice Mark has, and $M'$ be the number of 12-sided dice he needs to buy.\n",
            "We have $M = 6$, and $M' = 6$.\n",
            "Let $J$ be the number of 12-sided dice James has, and $J'$ be the number of 12-sided dice he needs to buy.\n",
            "We have $J = 6$, and $J' = 6$.\n",
            "\n",
            "Let $D_M$ be the number of dice Mark needs to buy.\n",
            "Let $D_J$ be the number of dice James needs to buy.\n",
            "Mark needs to buy $D_M$ dice with 12-sided dice.\n",
            "We have $D_M = x$.\n",
            "James needs to buy $D_J$ dice with 12-sided dice.\n",
            "We have $D_J = y$.\n",
            "The number of dice Mark needs to buy is $x$, and the number of dice James needs to buy is $y$.\n",
            "\n",
            "The number of dice Mark needs to buy is $x = 6$.\n",
            "The number of dice James needs to buy is $y = 6$.\n",
            "The total number of dice Mark needs to buy is $x = 6$.\n",
            "The total number of dice James needs to buy is $y = 6$.\n",
            "\n",
            "Let $x$ be the number of 12-sided dice Mark needs to buy. Then Mark needs to buy $x$ 12-sided dice. Mark has 6, so he needs to buy $x = 6$.\n",
            "Let $y$ be the number of 12-sided dice James needs to buy. Then James needs to buy $y$ 12-sided dice. James has 6, so he needs to buy $y = 6$.\n",
            "\n",
            "Let $X$ be the number of dice Mark needs to buy. Then $X = 6$.\n",
            "Let $Y$ be the number of dice James needs to buy. \n",
            "Extracted:\n",
            "None\n",
            "******************** Question:\n",
            "Erin counts six trolls hiding by the path in the forest, 6 less than four times that number of trolls hiding under the bridge, and half as many trolls hiding in the plains as under the bridge. How many trolls did she count in total? \n",
            "Answer:\n",
            "33 \n",
            "Response:\n",
            "<START_WORKING_OUT>\n",
            "Let $T$ be the number of trolls hiding by the path.\n",
            "Let $B$ be the number of trolls hiding under the bridge.\n",
            "Let $P$ be the number of trolls hiding in the plains.\n",
            "We are given that Erin counts six trolls hiding by the path, so $T = 6$.\n",
            "We are given that she counts 6 less than four times that number of trolls hiding under the bridge, so $T = 4 \\times (T - 6)$.\n",
            "This simplifies to $T = 4T - 24$, which means $3T = 24$, so $T = \\frac{24}{3} = 8$.\n",
            "We are given that she counts half as many trolls hiding in the plains as under the bridge, so $P = \\frac{1}{2}B$.\n",
            "We are given that she counts six trolls hiding by the path and half as many trolls hiding in the plains as under the bridge.\n",
            "So, $T = 6$ and $P = \\frac{1}{2}B$.\n",
            "Substituting $T = 6$ into the second equation, we have $P = \\frac{1}{2}B$.\n",
            "Substituting $T = 8$ into the second equation, we have $P = \\frac{1}{2} \\times 8 = 4$.\n",
            "Now, we have $T = 6$ and $P = 4$.\n",
            "We want to find the total number of trolls she counted, which is $T + P$.\n",
            "So, the total number of trolls is $6 + 4 = 10$.\n",
            "\n",
            "Alternatively, we are given:\n",
            "$T = 6$\n",
            "$T = 4(T - 6)$\n",
            "$T = 4T - 24$\n",
            "$3T = 24$\n",
            "$T = 8$\n",
            "$P = \\frac{1}{2}B$\n",
            "$T + P = 6 + \\frac{1}{2}B$\n",
            "\n",
            "We have $T = 6$ and $T = 4(T-6)$, so $6 = 4(6-6) = 4(0) = 0$. This is a contradiction.\n",
            "Let's interpret the second sentence as \"six less than four times that number of trolls hiding under the bridge\". So, $T = 4(T-6)$.\n",
            "$T = 4T - 24$\n",
            "$3T = 24$\n",
            "$T = 8$\n",
            "We are given that she counts half as many trolls hiding in the plains as under the bridge.\n",
            "So, $P = \\frac{1}{2}B$.\n",
            "We are given that she counts six trolls hiding by the path and half as many trolls hiding in the plains as under the bridge.\n",
            "So, $T = 6$ and $P = \\frac{1}{2}B$.\n",
            "We want to find the total number of trolls she counted.\n",
            "Total = $T + P = 6 + \\frac{1}{2}B$.\n",
            "\n",
            "Let $x$ be the number of trolls hiding under the bridge.\n",
            "Then $6 = 4(6-6)$, so $6 = 4(0)$, which is $6 = 0$. This is a contradiction.\n",
            "We are given that she counts six trolls by the path, so $T=6$.\n",
            "We are given that she counts 6 less than four times that number of trolls hiding under the bridge, so $6 = 4(6-6)$, which means $6 =  \n",
            "Extracted:\n",
            "None\n",
            "******************** Question:\n",
            "Karen packs peanut butter sandwiches in her daughter's lunch 2 randomly chosen days of the week. The other 3 school days, she packs a ham sandwich. She packs a piece of cake on one randomly chosen day and cookies the other four days. What is the probability, expressed as a percentage, that Karen packs a ham sandwich and cake on the same day? \n",
            "Answer:\n",
            "12 \n",
            "Response:\n",
            "<START_WORKING_OUT>\n",
            "\n",
            "Let $A$ be the event that Karen packs a ham sandwich on a given day.\n",
            "Let $B$ be the event that Karen packs a cake on a given day.\n",
            "\n",
            "We want to find the probability that $A$ and $B$ occur on the same day.\n",
            "There are 7 days in a week.\n",
            "Total number of ways to choose 2 days from 7 days is $\\binom{7}{2} = \\frac{7 \\times 6}{2} = 21$.\n",
            "\n",
            "We need to find the number of days where Karen packs a ham sandwich and a cake on the same day.\n",
            "\n",
            "Case 1: Karen packs a ham sandwich on day 1, and a cake on day 2.\n",
            "Number of ways to choose 1 day from 6 days is 6.\n",
            "Number of ways to choose 1 day from the remaining 5 days is 5.\n",
            "The number of days where Karen packs a ham sandwich and a cake on day 1 and day 2 is $6 \\times 5 = 30$.\n",
            "\n",
            "Case 2: Karen packs a ham sandwich on day 2, and a cake on day 1.\n",
            "Number of ways to choose 1 day from 6 days is 6.\n",
            "Number of ways to choose 1 day from the remaining 5 days is 5.\n",
            "The number of days where Karen packs a ham sandwich and a cake on day 2 and day 1 is $6 \\times 5 = 30$.\n",
            "\n",
            "The total number of ways to choose a ham sandwich and a cake on the same day is $30 + 30 = 60$.\n",
            "The total number of days is 7.\n",
            "The probability that Karen packs a ham sandwich and a cake on the same day is $\\frac{60}{21} = \\frac{20}{7} \\approx 2.857$.\n",
            "\n",
            "However, we are given that Karen packs a piece of cake on one randomly chosen day and cookies the other four days.\n",
            "Let $A$ be the event that Karen packs a ham sandwich on a given day.\n",
            "Let $B$ be the event that Karen packs a cake on a given day.\n",
            "\n",
            "We want to find the probability that $A$ and $B$ occur on the same day.\n",
            "The total number of days is 7.\n",
            "Let's consider the days where Karen packs a ham sandwich and a cake on the same day.\n",
            "\n",
            "If Karen packs a ham sandwich on day 1, she must pack a cake on day 2.\n",
            "If Karen packs a ham sandwich on day 2, she must pack a cake on day 1.\n",
            "...\n",
            "\n",
            "The number of ways to choose a ham sandwich and a cake on the same day is:\n",
            "- Karen packs a ham sandwich on day 1, and a cake on day 2.\n",
            "- Karen packs a ham sandwich on day 2, and a cake on day 1.\n",
            "- ...\n",
            "- Karen packs a ham sandwich on day 6, and a cake on day 6.\n",
            "\n",
            "We can also calculate the number of days where a ham sandwich and a cake are both present.\n",
            "Let's say Karen packs a ham sandwich on day $x$. Then the day before must be a cake.\n",
            "The number of ways to pick the day is $\\binom{6}{1}$. The number of ways to pick the day is $\\binom{5}{1}$.\n",
            "If Karen packs a ham sandwich on day $x$, and a cake on day $x-1$, then the number of ways is $6 \\times 5 = 30$.\n",
            "If \n",
            "Extracted:\n",
            "None\n",
            "******************** Question:\n",
            "A four-layer pyramid is being built with each layer having three times as many sandstone blocks as the layer above it. The top layer is a single block. How many sandstone blocks are in the pyramid? \n",
            "Answer:\n",
            "40 \n",
            "Response:\n",
            "<START_WORKING_OUT>\n",
            "Let $N_i$ be the number of sandstone blocks in layer $i$ for $i=1, 2, 3, 4$.\n",
            "Layer 1 has 1 block, so $N_1 = 1$.\n",
            "Layer 2 has three times as many as layer 1, so $N_2 = 3N_1 = 3(1) = 3$.\n",
            "Layer 3 has three times as many as layer 2, so $N_3 = 3N_2 = 3(3) = 9$.\n",
            "Layer 4 has three times as many as layer 3, so $N_4 = 3N_3 = 3(9) = 27$.\n",
            "\n",
            "The total number of blocks is $N_1 + N_2 + N_3 + N_4 = 1 + 3 + 9 + 27 = 40$.\n",
            "\n",
            "Let $S_i$ be the number of sandstone blocks in layer $i$. Then $S_i = 3^{i-1}$ for $i=1, 2, 3, 4$.\n",
            "The top layer is a single block, so $S_1 = 1$.\n",
            "The total number of blocks is $S_1 + S_2 + S_3 + S_4 = 1 + 3 + 9 + 27 = 40$.\n",
            "\n",
            "The number of blocks in the pyramid is $S_1 + S_2 + S_3 + S_4 = 1 + 3 + 9 + 27 = 40$.\n",
            "\n",
            "Final Answer: The final answer is $\\boxed{40}$ \n",
            "Extracted:\n",
            "None\n",
            "******************** Question:\n",
            "The cost of Joe's new HVAC system is $20,000.  It includes 2 conditioning zones, each with 5 vents.  In dollars, what is the cost of the system per vent? \n",
            "Answer:\n",
            "2,000 \n",
            "Response:\n",
            "<SOLUTION>\n",
            "The cost of the HVAC system is $20,000.\n",
            "There are 2 conditioning zones, each with 5 vents.\n",
            "So, the total number of vents is 2 * 5 = 10 vents.\n",
            "The cost per vent is the total cost divided by the number of vents.\n",
            "Cost per vent = $20,000 / 10 = $2,000\n",
            "\n",
            "The cost of the system per vent is $2,000.\n",
            " \n",
            "Extracted:\n",
            "20\n",
            "******************** Question:\n",
            "Trent walked 4 blocks from his house to the bus stop. He rode the bus 7 blocks to the library. Later, he came home the same way. How many blocks did Trent travel in all? \n",
            "Answer:\n",
            "22 \n",
            "Response:\n",
            "<SOLUTION>11</SOLUTION>\n",
            " \n",
            "Extracted:\n",
            "11\n"
          ]
        }
      ],
      "source": [
        "trainer = GRPOTrainer(\n",
        "    model = model,\n",
        "    processing_class = tokenizer,\n",
        "    reward_funcs = [\n",
        "        match_format_exactly,\n",
        "        match_format_approximately,\n",
        "        check_answer,\n",
        "        check_numbers,\n",
        "    ],\n",
        "    args = training_args,\n",
        "    train_dataset = dataset,\n",
        ")\n",
        "trainer.train()"
      ]
    },
    {
      "cell_type": "markdown",
      "metadata": {
        "id": "tlaUdxC_VHpz"
      },
      "source": [
        "<a name=\"Inference\"></a>\n",
        "### Inference\n",
        "Now let's try the model we just trained!"
      ]
    },
    {
      "cell_type": "code",
      "execution_count": null,
      "metadata": {
        "colab": {
          "base_uri": "https://localhost:8080/"
        },
        "id": "qtcz_lpbVC92",
        "outputId": "bc1e6dbc-4e4e-4382-f7aa-1f56e716f044"
      },
      "outputs": [
        {
          "name": "stdout",
          "output_type": "stream",
          "text": [
            "<start_working_out>\n",
            "The square root of 101 is approximately 10.0498756.\n",
            "<SOLUTION>\n",
            "10.0498756<end_of_turn>\n"
          ]
        }
      ],
      "source": [
        "messages = [\n",
        "    {\"role\": \"system\", \"content\": system_prompt},\n",
        "    {\"role\": \"user\",   \"content\": \"What is the sqrt of 101?\"},\n",
        "]\n",
        "\n",
        "text = tokenizer.apply_chat_template(\n",
        "    messages,\n",
        "    add_generation_prompt = True, # Must add for generation\n",
        "    tokenize = False,\n",
        ")\n",
        "from transformers import TextStreamer\n",
        "_ = model.generate(\n",
        "    **tokenizer(text, return_tensors = \"pt\").to(\"cuda\"),\n",
        "    max_new_tokens = 64, # Increase for longer outputs!\n",
        "    # Recommended Gemma-3 settings!\n",
        "    temperature = 1.0, top_p = 0.95, top_k = 64,\n",
        "    streamer = TextStreamer(tokenizer, skip_prompt = True),\n",
        ")"
      ]
    },
    {
      "cell_type": "markdown",
      "metadata": {
        "id": "-NUEmHFSYNTp"
      },
      "source": [
        "<a name=\"Save\"></a>\n",
        "### Saving, loading finetuned models\n",
        "To save the final model as LoRA adapters, either use Huggingface's `push_to_hub` for an online save or `save_pretrained` for a local save.\n",
        "\n",
        "**[NOTE]** This ONLY saves the LoRA adapters, and not the full model. To save to 16bit or GGUF, scroll down!"
      ]
    },
    {
      "cell_type": "code",
      "execution_count": null,
      "metadata": {
        "colab": {
          "base_uri": "https://localhost:8080/"
        },
        "id": "NjXGTkp7YNtB",
        "outputId": "7dbe3643-d756-4c32-acaf-2d5fe76f52ef"
      },
      "outputs": [
        {
          "data": {
            "text/plain": [
              "('gemma-3/tokenizer_config.json',\n",
              " 'gemma-3/special_tokens_map.json',\n",
              " 'gemma-3/tokenizer.model',\n",
              " 'gemma-3/added_tokens.json',\n",
              " 'gemma-3/tokenizer.json')"
            ]
          },
          "execution_count": 23,
          "metadata": {},
          "output_type": "execute_result"
        }
      ],
      "source": [
        "model.save_pretrained(\"gemma-3\")  # Local saving\n",
        "tokenizer.save_pretrained(\"gemma-3\")\n",
        "# model.push_to_hub(\"HF_ACCOUNT/gemma-3\", token = \"...\") # Online saving\n",
        "# tokenizer.push_to_hub(\"HF_ACCOUNT/gemma-3\", token = \"...\") # Online saving"
      ]
    },
    {
      "cell_type": "markdown",
      "metadata": {
        "id": "52WMb3k_YPt8"
      },
      "source": [
        "### Saving to float16 for VLLM\n",
        "\n",
        "We also support saving to `float16` directly for deployment! We save it in the folder `gemma-3-finetune`. Set `if False` to `if True` to let it run!"
      ]
    },
    {
      "cell_type": "code",
      "execution_count": null,
      "metadata": {
        "id": "QyEjW-WuYQIm"
      },
      "outputs": [],
      "source": [
        "if False: # Change to True to save finetune!\n",
        "    model.save_pretrained_merged(\"gemma-3-finetune\", tokenizer)"
      ]
    },
    {
      "cell_type": "markdown",
      "metadata": {
        "id": "NRrqfyaRaXRL"
      },
      "source": [
        "If you want to upload / push to your Hugging Face account, set `if False` to `if True` and add your Hugging Face token and upload location!"
      ]
    },
    {
      "cell_type": "code",
      "execution_count": null,
      "metadata": {
        "id": "_-B07m_HC5i7"
      },
      "outputs": [],
      "source": [
        "if False: # Change to True to upload finetune\n",
        "    model.push_to_hub_merged(\n",
        "        \"HF_ACCOUNT/gemma-3-finetune\", tokenizer,\n",
        "        token = \"hf_...\"\n",
        "    )"
      ]
    },
    {
      "cell_type": "markdown",
      "metadata": {
        "id": "5JMDDS0bC7jT"
      },
      "source": [
        "### GGUF / llama.cpp Conversion\n",
        "To save to `GGUF` / `llama.cpp`, we support it natively now for all models! For now, you can convert easily to `Q8_0, F16 or BF16` precision. `Q4_K_M` for 4bit will come later!"
      ]
    },
    {
      "cell_type": "code",
      "execution_count": null,
      "metadata": {
        "id": "aX3xMj8hC6e0"
      },
      "outputs": [],
      "source": [
        "if False: # Change to True to save to GGUF\n",
        "    model.save_pretrained_gguf(\n",
        "        \"gemma-3-finetune\",\n",
        "        quantization_type = \"Q8_0\", # For now only Q8_0, BF16, F16 supported\n",
        "    )"
      ]
    },
    {
      "cell_type": "markdown",
      "metadata": {
        "id": "0CfqZW5rC9zv"
      },
      "source": [
        "Likewise, if you want to instead push to GGUF to your Hugging Face account, set `if False` to `if True` and add your Hugging Face token and upload location!"
      ]
    },
    {
      "cell_type": "code",
      "execution_count": null,
      "metadata": {
        "id": "SG6-dP0JC-G2"
      },
      "outputs": [],
      "source": [
        "if False: # Change to True to upload GGUF\n",
        "    model.push_to_hub_gguf(\n",
        "        \"gemma-3-finetune\",\n",
        "        quantization_type = \"Q8_0\", # Only Q8_0, BF16, F16 supported\n",
        "        repo_id = \"HF_ACCOUNT/gemma-finetune-gguf\",\n",
        "        token = \"hf_...\",\n",
        "    )"
      ]
    },
    {
      "cell_type": "markdown",
      "metadata": {
        "id": "-F2GVrPrDArH"
      },
      "source": [
        "Now, use the `gemma-3-finetune.gguf` file or `gemma-3-finetune-Q4_K_M.gguf` file in llama.cpp or a UI based system like Jan or Open WebUI. You can install Jan [here](https://github.com/janhq/jan) and Open WebUI [here](https://github.com/open-webui/open-webui)\n",
        "\n",
        "And we're done! If you have any questions on Unsloth, we have a [Discord](https://discord.gg/unsloth) channel! If you find any bugs or want to keep updated with the latest LLM stuff, or need help, join projects etc, feel free to join our Discord!\n",
        "\n",
        "Some other links:\n",
        "1. Train your own reasoning model - Llama GRPO notebook [Free Colab](https://colab.research.google.com/github/unslothai/notebooks/blob/main/nb/Llama3.1_(8B)-GRPO.ipynb)\n",
        "2. Saving finetunes to Ollama. [Free notebook](https://colab.research.google.com/github/unslothai/notebooks/blob/main/nb/Llama3_(8B)-Ollama.ipynb)\n",
        "3. Llama 3.2 Vision finetuning - Radiography use case. [Free Colab](https://colab.research.google.com/github/unslothai/notebooks/blob/main/nb/Llama3.2_(11B)-Vision.ipynb)\n",
        "6. See notebooks for DPO, ORPO, Continued pretraining, conversational finetuning and more on our [documentation](https://docs.unsloth.ai/get-started/unsloth-notebooks)!\n",
        "\n",
        "<div class=\"align-center\">\n",
        "  <a href=\"https://unsloth.ai\"><img src=\"https://github.com/unslothai/unsloth/raw/main/images/unsloth%20new%20logo.png\" width=\"115\"></a>\n",
        "  <a href=\"https://discord.gg/unsloth\"><img src=\"https://github.com/unslothai/unsloth/raw/main/images/Discord.png\" width=\"145\"></a>\n",
        "  <a href=\"https://docs.unsloth.ai/\"><img src=\"https://github.com/unslothai/unsloth/blob/main/images/documentation%20green%20button.png?raw=true\" width=\"125\"></a>\n",
        "\n",
        "  Join Discord if you need help + ⭐️ <i>Star us on <a href=\"https://github.com/unslothai/unsloth\">Github</a> </i> ⭐️\n",
        "</div>\n"
      ]
    }
  ],
  "metadata": {
    "accelerator": "GPU",
    "colab": {
      "gpuType": "T4",
      "provenance": [],
      "toc_visible": true
    },
    "kernelspec": {
      "display_name": "unsloth_env",
      "language": "python",
      "name": "python3"
    },
    "language_info": {
      "name": "python",
      "version": "3.11.11"
    }
  },
  "nbformat": 4,
  "nbformat_minor": 0
}