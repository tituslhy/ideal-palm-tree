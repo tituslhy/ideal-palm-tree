{
 "cells": [
  {
   "cell_type": "code",
   "execution_count": 1,
   "id": "d3f5dba4",
   "metadata": {},
   "outputs": [],
   "source": [
    "%load_ext autoreload\n",
    "%autoreload 2"
   ]
  },
  {
   "cell_type": "code",
   "execution_count": 2,
   "id": "edf5a47c",
   "metadata": {},
   "outputs": [],
   "source": [
    "import warnings\n",
    "import nest_asyncio\n",
    "\n",
    "nest_asyncio.apply()\n",
    "warnings.filterwarnings(\"ignore\")"
   ]
  },
  {
   "cell_type": "code",
   "execution_count": 3,
   "id": "e9417d36",
   "metadata": {},
   "outputs": [
    {
     "name": "stderr",
     "output_type": "stream",
     "text": [
      "Loading files: 100%|██████████| 1/1 [00:00<00:00,  1.52file/s]\n"
     ]
    }
   ],
   "source": [
    "from llama_index.llms.ollama import Ollama\n",
    "from llama_index.core.llama_dataset import (\n",
    "    LabelledRagDataset,\n",
    "    LabelledRagDataExample,\n",
    "    CreatedBy,\n",
    ")\n",
    "from llama_index.embeddings.ollama import OllamaEmbedding\n",
    "from llama_index.core import VectorStoreIndex, SimpleDirectoryReader\n",
    "\n",
    "import pandas as pd\n",
    "import json\n",
    "\n",
    "embed_model = OllamaEmbedding(model_name=\"nomic-embed-text\")\n",
    "docs = SimpleDirectoryReader(\"../data/\").load_data(show_progress=True)\n",
    "\n",
    "def get_rag_dataset_from_csv(csv_path: str):\n",
    "    converters = {\n",
    "        \"reference_contexts\":   lambda s: json.loads(s),\n",
    "        \"query_by\":             lambda s: CreatedBy.model_validate_json(s),\n",
    "        \"reference_answer_by\":  lambda s: CreatedBy.model_validate_json(s),\n",
    "    }\n",
    "    df = pd.read_csv(csv_path, converters=converters)\n",
    "    examples = []\n",
    "    for _, row in df.iterrows():\n",
    "        examples.append(\n",
    "            LabelledRagDataExample(\n",
    "                query=row[\"query\"],\n",
    "                query_by=row[\"query_by\"],                      # now a CreatedBy\n",
    "                reference_contexts=row[\"reference_contexts\"],   # now a List[str]\n",
    "                reference_answer=row[\"reference_answer\"],\n",
    "                reference_answer_by=row[\"reference_answer_by\"], # now a CreatedBy\n",
    "            )\n",
    "        )\n",
    "\n",
    "    # 4. Create the dataset\n",
    "    dataset = LabelledRagDataset(examples=examples)\n",
    "    return dataset\n",
    "\n",
    "holdout_dataset = get_rag_dataset_from_csv(\"holdout_dataset.csv\")"
   ]
  },
  {
   "cell_type": "code",
   "execution_count": 4,
   "id": "cf705694",
   "metadata": {},
   "outputs": [],
   "source": [
    "index = VectorStoreIndex.from_documents(docs, embed_model=embed_model)\n",
    "query_engine = index.as_query_engine(\n",
    "    similarity_top_k=6, \n",
    "    llm = Ollama(\"hf.co/tituslhy/llama32_1bn_raft_non_traditional_credentials:Q4_K_M\")\n",
    ")"
   ]
  },
  {
   "cell_type": "code",
   "execution_count": 6,
   "id": "343e1f74",
   "metadata": {},
   "outputs": [],
   "source": [
    "from llama_index.packs.rag_evaluator import RagEvaluatorPack\n",
    "\n",
    "rag_evaluator = RagEvaluatorPack(\n",
    "    query_engine=query_engine, \n",
    "    rag_dataset=holdout_dataset,\n",
    "    judge_llm=Ollama(\"qwen2.5\", request_timeout=120.0), #use the same llm that we use to create the dataset to judge\n",
    "    embed_model=OllamaEmbedding(model_name=\"nomic-embed-text\")\n",
    ")"
   ]
  },
  {
   "cell_type": "code",
   "execution_count": 7,
   "id": "18171064",
   "metadata": {},
   "outputs": [
    {
     "name": "stderr",
     "output_type": "stream",
     "text": [
      "Batch processing of predictions: 100%|██████████| 10/10 [00:27<00:00,  2.79s/it]\n",
      "Batch processing of predictions: 100%|██████████| 3/3 [00:09<00:00,  3.06s/it]\n",
      "Batch processing of evaluations: 100%|██████████| 7/7.0 [03:08<00:00, 26.98s/it]\n"
     ]
    }
   ],
   "source": [
    "benchmark_df = await rag_evaluator.arun()"
   ]
  },
  {
   "cell_type": "code",
   "execution_count": 8,
   "id": "793c901b",
   "metadata": {},
   "outputs": [
    {
     "data": {
      "text/html": [
       "<div>\n",
       "<style scoped>\n",
       "    .dataframe tbody tr th:only-of-type {\n",
       "        vertical-align: middle;\n",
       "    }\n",
       "\n",
       "    .dataframe tbody tr th {\n",
       "        vertical-align: top;\n",
       "    }\n",
       "\n",
       "    .dataframe thead th {\n",
       "        text-align: right;\n",
       "    }\n",
       "</style>\n",
       "<table border=\"1\" class=\"dataframe\">\n",
       "  <thead>\n",
       "    <tr style=\"text-align: right;\">\n",
       "      <th>rag</th>\n",
       "      <th>base_rag</th>\n",
       "    </tr>\n",
       "    <tr>\n",
       "      <th>metrics</th>\n",
       "      <th></th>\n",
       "    </tr>\n",
       "  </thead>\n",
       "  <tbody>\n",
       "    <tr>\n",
       "      <th>mean_correctness_score</th>\n",
       "      <td>2.653846</td>\n",
       "    </tr>\n",
       "    <tr>\n",
       "      <th>mean_relevancy_score</th>\n",
       "      <td>0.615385</td>\n",
       "    </tr>\n",
       "    <tr>\n",
       "      <th>mean_faithfulness_score</th>\n",
       "      <td>0.230769</td>\n",
       "    </tr>\n",
       "    <tr>\n",
       "      <th>mean_context_similarity_score</th>\n",
       "      <td>0.644645</td>\n",
       "    </tr>\n",
       "  </tbody>\n",
       "</table>\n",
       "</div>"
      ],
      "text/plain": [
       "rag                            base_rag\n",
       "metrics                                \n",
       "mean_correctness_score         2.653846\n",
       "mean_relevancy_score           0.615385\n",
       "mean_faithfulness_score        0.230769\n",
       "mean_context_similarity_score  0.644645"
      ]
     },
     "execution_count": 8,
     "metadata": {},
     "output_type": "execute_result"
    }
   ],
   "source": [
    "benchmark_df"
   ]
  },
  {
   "cell_type": "code",
   "execution_count": null,
   "id": "6fbc148b",
   "metadata": {},
   "outputs": [],
   "source": []
  }
 ],
 "metadata": {
  "kernelspec": {
   "display_name": ".venv",
   "language": "python",
   "name": "python3"
  },
  "language_info": {
   "codemirror_mode": {
    "name": "ipython",
    "version": 3
   },
   "file_extension": ".py",
   "mimetype": "text/x-python",
   "name": "python",
   "nbconvert_exporter": "python",
   "pygments_lexer": "ipython3",
   "version": "3.12.8"
  }
 },
 "nbformat": 4,
 "nbformat_minor": 5
}
